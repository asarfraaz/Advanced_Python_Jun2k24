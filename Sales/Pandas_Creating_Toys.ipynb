{
 "cells": [
  {
   "cell_type": "markdown",
   "id": "520319b8-2fd9-4c78-aa31-acee2156b3f9",
   "metadata": {},
   "source": [
    "# Create a combined file for all toys across all departments"
   ]
  },
  {
   "cell_type": "code",
   "execution_count": 1,
   "id": "26cb1936-4ead-4bcb-b9ac-a7325d720e6f",
   "metadata": {},
   "outputs": [],
   "source": [
    "import pandas as pd"
   ]
  },
  {
   "cell_type": "markdown",
   "id": "77f1366b-05ea-4e1c-ae09-88f06447e1aa",
   "metadata": {},
   "source": [
    "## List Comprehension"
   ]
  },
  {
   "cell_type": "code",
   "execution_count": 2,
   "id": "88531708-5194-44e3-83d4-a098b56b421e",
   "metadata": {},
   "outputs": [
    {
     "data": {
      "text/plain": [
       "[1, 4, 16, 64, 100]"
      ]
     },
     "execution_count": 2,
     "metadata": {},
     "output_type": "execute_result"
    }
   ],
   "source": [
    "nums = [ 1, 2 , 4, 8, 10 ]\n",
    "squares = list()\n",
    "for num in nums:\n",
    "    squares.append(num ** 2)\n",
    "\n",
    "squares"
   ]
  },
  {
   "cell_type": "code",
   "execution_count": 3,
   "id": "e9c13602-a8dc-4114-9ba8-92b6d5235df4",
   "metadata": {},
   "outputs": [
    {
     "data": {
      "text/plain": [
       "[1, 4, 16, 64, 100]"
      ]
     },
     "execution_count": 3,
     "metadata": {},
     "output_type": "execute_result"
    }
   ],
   "source": [
    "nums = [ 1, 2 , 4, 8, 10 ]\n",
    "squares = [ num ** 2 for num in nums ]\n",
    "squares"
   ]
  },
  {
   "cell_type": "code",
   "execution_count": 4,
   "id": "ac291cfe-39b3-4d45-98e1-856039ba6760",
   "metadata": {},
   "outputs": [
    {
     "data": {
      "text/plain": [
       "[11, 12, 14, 18, 20]"
      ]
     },
     "execution_count": 4,
     "metadata": {},
     "output_type": "execute_result"
    }
   ],
   "source": [
    "[ num + 10  for num in nums ]"
   ]
  },
  {
   "cell_type": "code",
   "execution_count": 5,
   "id": "cbe51291-abaf-4fd2-9ee4-858d97300302",
   "metadata": {},
   "outputs": [
    {
     "data": {
      "text/plain": [
       "[18, 20]"
      ]
     },
     "execution_count": 5,
     "metadata": {},
     "output_type": "execute_result"
    }
   ],
   "source": [
    "[ num + 10  for num in nums if num > 5 ]"
   ]
  },
  {
   "cell_type": "markdown",
   "id": "86085814-703c-4b4a-ad02-c77aa94ba47c",
   "metadata": {},
   "source": [
    "## Shell Globbing\n",
    "\n",
    "- List all the pdf files ?\n",
    "- `dir *.pdf` : * : Globbing character\n",
    "- `dir sales_*.xls` : All files with sales_ at the start and having xls extension\n",
    "\n"
   ]
  },
  {
   "cell_type": "code",
   "execution_count": 6,
   "id": "1f85b2a9-3300-4eef-b41e-a4cce77edf21",
   "metadata": {},
   "outputs": [],
   "source": [
    "from glob import glob"
   ]
  },
  {
   "cell_type": "code",
   "execution_count": 7,
   "id": "3df6fe34-284b-492d-999b-e381c2582d39",
   "metadata": {},
   "outputs": [
    {
     "data": {
      "text/plain": [
       "['Data/outdoor_rev.csv',\n",
       " 'Data/board_exp.csv',\n",
       " 'Data/legos_rev.csv',\n",
       " 'Data/puzzles_exp.csv',\n",
       " 'Data/outdoor_exp.csv',\n",
       " 'Data/puzzles_rev.csv',\n",
       " 'Data/legos_exp.csv',\n",
       " 'Data/board_rev.csv',\n",
       " 'Data/wooden_rev.csv',\n",
       " 'Data/wooden_exp.csv']"
      ]
     },
     "execution_count": 7,
     "metadata": {},
     "output_type": "execute_result"
    }
   ],
   "source": [
    "glob('Data/*.csv')"
   ]
  },
  {
   "cell_type": "markdown",
   "id": "7360d3d1-30c5-4104-921f-12d73f3c7aa1",
   "metadata": {},
   "source": [
    "### Get a list of all expenses files ?"
   ]
  },
  {
   "cell_type": "code",
   "execution_count": 8,
   "id": "c7eac422-0dcd-4075-97f2-ee1a15c5746b",
   "metadata": {},
   "outputs": [
    {
     "data": {
      "text/plain": [
       "['Data/board_exp.csv',\n",
       " 'Data/puzzles_exp.csv',\n",
       " 'Data/outdoor_exp.csv',\n",
       " 'Data/legos_exp.csv',\n",
       " 'Data/wooden_exp.csv']"
      ]
     },
     "execution_count": 8,
     "metadata": {},
     "output_type": "execute_result"
    }
   ],
   "source": [
    "glob('Data/*_exp.csv')"
   ]
  },
  {
   "cell_type": "markdown",
   "id": "277207d2-1224-4fb8-a3b1-bf691f756948",
   "metadata": {},
   "source": [
    "## Load all expenses files into individual DataFrames\n",
    "\n",
    "- For every file in *_exp.csv\n",
    "- load it using read_csv"
   ]
  },
  {
   "cell_type": "code",
   "execution_count": 14,
   "id": "42b27409-1a02-45c8-aa30-7a40c85b637a",
   "metadata": {},
   "outputs": [
    {
     "data": {
      "text/plain": [
       "5"
      ]
     },
     "execution_count": 14,
     "metadata": {},
     "output_type": "execute_result"
    }
   ],
   "source": [
    "df_exps = [ pd.read_csv(file, parse_dates=['Month']) \n",
    "             for file in glob('Data/*_exp.csv') \n",
    "          ]\n",
    "len(df_exps)"
   ]
  },
  {
   "cell_type": "code",
   "execution_count": 17,
   "id": "debd3852-9e99-43d7-88cf-4a0e370e21d4",
   "metadata": {},
   "outputs": [
    {
     "name": "stdout",
     "output_type": "stream",
     "text": [
      "<class 'pandas.core.frame.DataFrame'>\n",
      "RangeIndex: 12 entries, 0 to 11\n",
      "Data columns (total 3 columns):\n",
      " #   Column       Non-Null Count  Dtype         \n",
      "---  ------       --------------  -----         \n",
      " 0   Month        12 non-null     datetime64[ns]\n",
      " 1   Product      12 non-null     object        \n",
      " 2   Expenditure  12 non-null     int64         \n",
      "dtypes: datetime64[ns](1), int64(1), object(1)\n",
      "memory usage: 420.0+ bytes\n"
     ]
    }
   ],
   "source": [
    "df_exps[0].info()"
   ]
  },
  {
   "cell_type": "code",
   "execution_count": 19,
   "id": "a8a36056-7d03-49c0-8caf-36c6d5b74d4b",
   "metadata": {},
   "outputs": [
    {
     "data": {
      "text/html": [
       "<div>\n",
       "<style scoped>\n",
       "    .dataframe tbody tr th:only-of-type {\n",
       "        vertical-align: middle;\n",
       "    }\n",
       "\n",
       "    .dataframe tbody tr th {\n",
       "        vertical-align: top;\n",
       "    }\n",
       "\n",
       "    .dataframe thead th {\n",
       "        text-align: right;\n",
       "    }\n",
       "</style>\n",
       "<table border=\"1\" class=\"dataframe\">\n",
       "  <thead>\n",
       "    <tr style=\"text-align: right;\">\n",
       "      <th></th>\n",
       "      <th>Month</th>\n",
       "      <th>Product</th>\n",
       "      <th>Expenditure</th>\n",
       "    </tr>\n",
       "  </thead>\n",
       "  <tbody>\n",
       "    <tr>\n",
       "      <th>0</th>\n",
       "      <td>2014-07-01</td>\n",
       "      <td>Puzzles</td>\n",
       "      <td>18411</td>\n",
       "    </tr>\n",
       "    <tr>\n",
       "      <th>1</th>\n",
       "      <td>2014-08-01</td>\n",
       "      <td>Puzzles</td>\n",
       "      <td>15432</td>\n",
       "    </tr>\n",
       "    <tr>\n",
       "      <th>2</th>\n",
       "      <td>2014-09-01</td>\n",
       "      <td>Puzzles</td>\n",
       "      <td>303623</td>\n",
       "    </tr>\n",
       "    <tr>\n",
       "      <th>3</th>\n",
       "      <td>2014-10-01</td>\n",
       "      <td>Puzzles</td>\n",
       "      <td>19697</td>\n",
       "    </tr>\n",
       "    <tr>\n",
       "      <th>4</th>\n",
       "      <td>2014-11-01</td>\n",
       "      <td>Puzzles</td>\n",
       "      <td>269769</td>\n",
       "    </tr>\n",
       "    <tr>\n",
       "      <th>5</th>\n",
       "      <td>2014-12-01</td>\n",
       "      <td>Puzzles</td>\n",
       "      <td>49918</td>\n",
       "    </tr>\n",
       "  </tbody>\n",
       "</table>\n",
       "</div>"
      ],
      "text/plain": [
       "       Month  Product  Expenditure\n",
       "0 2014-07-01  Puzzles        18411\n",
       "1 2014-08-01  Puzzles        15432\n",
       "2 2014-09-01  Puzzles       303623\n",
       "3 2014-10-01  Puzzles        19697\n",
       "4 2014-11-01  Puzzles       269769\n",
       "5 2014-12-01  Puzzles        49918"
      ]
     },
     "execution_count": 19,
     "metadata": {},
     "output_type": "execute_result"
    }
   ],
   "source": [
    "df_exps[1]"
   ]
  },
  {
   "cell_type": "code",
   "execution_count": 20,
   "id": "0bc650f8-512a-4fa2-8666-475f1d7c1c76",
   "metadata": {},
   "outputs": [
    {
     "data": {
      "text/html": [
       "<div>\n",
       "<style scoped>\n",
       "    .dataframe tbody tr th:only-of-type {\n",
       "        vertical-align: middle;\n",
       "    }\n",
       "\n",
       "    .dataframe tbody tr th {\n",
       "        vertical-align: top;\n",
       "    }\n",
       "\n",
       "    .dataframe thead th {\n",
       "        text-align: right;\n",
       "    }\n",
       "</style>\n",
       "<table border=\"1\" class=\"dataframe\">\n",
       "  <thead>\n",
       "    <tr style=\"text-align: right;\">\n",
       "      <th></th>\n",
       "      <th>Month</th>\n",
       "      <th>Product</th>\n",
       "      <th>Expenditure</th>\n",
       "    </tr>\n",
       "  </thead>\n",
       "  <tbody>\n",
       "    <tr>\n",
       "      <th>0</th>\n",
       "      <td>2014-01-01</td>\n",
       "      <td>Outdoor</td>\n",
       "      <td>154945</td>\n",
       "    </tr>\n",
       "    <tr>\n",
       "      <th>1</th>\n",
       "      <td>2014-02-01</td>\n",
       "      <td>Outdoor</td>\n",
       "      <td>20656</td>\n",
       "    </tr>\n",
       "    <tr>\n",
       "      <th>2</th>\n",
       "      <td>2014-03-01</td>\n",
       "      <td>Outdoor</td>\n",
       "      <td>102635</td>\n",
       "    </tr>\n",
       "    <tr>\n",
       "      <th>3</th>\n",
       "      <td>2014-04-01</td>\n",
       "      <td>Outdoor</td>\n",
       "      <td>68123</td>\n",
       "    </tr>\n",
       "    <tr>\n",
       "      <th>4</th>\n",
       "      <td>2014-05-01</td>\n",
       "      <td>Outdoor</td>\n",
       "      <td>22463</td>\n",
       "    </tr>\n",
       "    <tr>\n",
       "      <th>5</th>\n",
       "      <td>2014-06-01</td>\n",
       "      <td>Outdoor</td>\n",
       "      <td>165650</td>\n",
       "    </tr>\n",
       "    <tr>\n",
       "      <th>6</th>\n",
       "      <td>2014-07-01</td>\n",
       "      <td>Outdoor</td>\n",
       "      <td>256723</td>\n",
       "    </tr>\n",
       "    <tr>\n",
       "      <th>7</th>\n",
       "      <td>2014-08-01</td>\n",
       "      <td>Outdoor</td>\n",
       "      <td>78171</td>\n",
       "    </tr>\n",
       "    <tr>\n",
       "      <th>8</th>\n",
       "      <td>2014-09-01</td>\n",
       "      <td>Outdoor</td>\n",
       "      <td>12942</td>\n",
       "    </tr>\n",
       "    <tr>\n",
       "      <th>9</th>\n",
       "      <td>2014-10-01</td>\n",
       "      <td>Outdoor</td>\n",
       "      <td>99254</td>\n",
       "    </tr>\n",
       "    <tr>\n",
       "      <th>10</th>\n",
       "      <td>2014-11-01</td>\n",
       "      <td>Outdoor</td>\n",
       "      <td>66976</td>\n",
       "    </tr>\n",
       "    <tr>\n",
       "      <th>11</th>\n",
       "      <td>2014-12-01</td>\n",
       "      <td>Outdoor</td>\n",
       "      <td>170592</td>\n",
       "    </tr>\n",
       "  </tbody>\n",
       "</table>\n",
       "</div>"
      ],
      "text/plain": [
       "        Month  Product  Expenditure\n",
       "0  2014-01-01  Outdoor       154945\n",
       "1  2014-02-01  Outdoor        20656\n",
       "2  2014-03-01  Outdoor       102635\n",
       "3  2014-04-01  Outdoor        68123\n",
       "4  2014-05-01  Outdoor        22463\n",
       "5  2014-06-01  Outdoor       165650\n",
       "6  2014-07-01  Outdoor       256723\n",
       "7  2014-08-01  Outdoor        78171\n",
       "8  2014-09-01  Outdoor        12942\n",
       "9  2014-10-01  Outdoor        99254\n",
       "10 2014-11-01  Outdoor        66976\n",
       "11 2014-12-01  Outdoor       170592"
      ]
     },
     "execution_count": 20,
     "metadata": {},
     "output_type": "execute_result"
    }
   ],
   "source": [
    "df_exps[2]"
   ]
  },
  {
   "cell_type": "code",
   "execution_count": 22,
   "id": "9b1ae5c7-fe89-4e0f-a50e-bc6a977039e3",
   "metadata": {},
   "outputs": [
    {
     "data": {
      "text/html": [
       "<div>\n",
       "<style scoped>\n",
       "    .dataframe tbody tr th:only-of-type {\n",
       "        vertical-align: middle;\n",
       "    }\n",
       "\n",
       "    .dataframe tbody tr th {\n",
       "        vertical-align: top;\n",
       "    }\n",
       "\n",
       "    .dataframe thead th {\n",
       "        text-align: right;\n",
       "    }\n",
       "</style>\n",
       "<table border=\"1\" class=\"dataframe\">\n",
       "  <thead>\n",
       "    <tr style=\"text-align: right;\">\n",
       "      <th></th>\n",
       "      <th>Month</th>\n",
       "      <th>Product</th>\n",
       "      <th>Expenditure</th>\n",
       "    </tr>\n",
       "  </thead>\n",
       "  <tbody>\n",
       "    <tr>\n",
       "      <th>0</th>\n",
       "      <td>2014-01-01</td>\n",
       "      <td>Board</td>\n",
       "      <td>61617</td>\n",
       "    </tr>\n",
       "    <tr>\n",
       "      <th>1</th>\n",
       "      <td>2014-02-01</td>\n",
       "      <td>Board</td>\n",
       "      <td>204763</td>\n",
       "    </tr>\n",
       "    <tr>\n",
       "      <th>2</th>\n",
       "      <td>2014-03-01</td>\n",
       "      <td>Board</td>\n",
       "      <td>8466</td>\n",
       "    </tr>\n",
       "    <tr>\n",
       "      <th>3</th>\n",
       "      <td>2014-04-01</td>\n",
       "      <td>Board</td>\n",
       "      <td>146850</td>\n",
       "    </tr>\n",
       "    <tr>\n",
       "      <th>4</th>\n",
       "      <td>2014-05-01</td>\n",
       "      <td>Board</td>\n",
       "      <td>188737</td>\n",
       "    </tr>\n",
       "  </tbody>\n",
       "</table>\n",
       "</div>"
      ],
      "text/plain": [
       "       Month Product  Expenditure\n",
       "0 2014-01-01   Board        61617\n",
       "1 2014-02-01   Board       204763\n",
       "2 2014-03-01   Board         8466\n",
       "3 2014-04-01   Board       146850\n",
       "4 2014-05-01   Board       188737"
      ]
     },
     "execution_count": 22,
     "metadata": {},
     "output_type": "execute_result"
    }
   ],
   "source": [
    "dfx = pd.concat( [ pd.read_csv(file, parse_dates=['Month']) \n",
    "                        for file in glob('Data/*_exp.csv') \n",
    "                    ]\n",
    "                   )\n",
    "dfx.head()"
   ]
  },
  {
   "cell_type": "markdown",
   "id": "24d8f8bd-ec43-4859-b19f-0d7f08e2bf2d",
   "metadata": {},
   "source": [
    "### Combine all the Revenue data into a single DataFrame"
   ]
  },
  {
   "cell_type": "code",
   "execution_count": 23,
   "id": "f5757d18-f1a1-44c5-9b7c-935f9c9be0f6",
   "metadata": {},
   "outputs": [
    {
     "data": {
      "text/html": [
       "<div>\n",
       "<style scoped>\n",
       "    .dataframe tbody tr th:only-of-type {\n",
       "        vertical-align: middle;\n",
       "    }\n",
       "\n",
       "    .dataframe tbody tr th {\n",
       "        vertical-align: top;\n",
       "    }\n",
       "\n",
       "    .dataframe thead th {\n",
       "        text-align: right;\n",
       "    }\n",
       "</style>\n",
       "<table border=\"1\" class=\"dataframe\">\n",
       "  <thead>\n",
       "    <tr style=\"text-align: right;\">\n",
       "      <th></th>\n",
       "      <th>Month</th>\n",
       "      <th>Product</th>\n",
       "      <th>Revenue</th>\n",
       "    </tr>\n",
       "  </thead>\n",
       "  <tbody>\n",
       "    <tr>\n",
       "      <th>0</th>\n",
       "      <td>2014-01-01</td>\n",
       "      <td>Outdoor</td>\n",
       "      <td>18181</td>\n",
       "    </tr>\n",
       "    <tr>\n",
       "      <th>1</th>\n",
       "      <td>2014-02-01</td>\n",
       "      <td>Outdoor</td>\n",
       "      <td>153340</td>\n",
       "    </tr>\n",
       "    <tr>\n",
       "      <th>2</th>\n",
       "      <td>2014-03-01</td>\n",
       "      <td>Outdoor</td>\n",
       "      <td>110857</td>\n",
       "    </tr>\n",
       "    <tr>\n",
       "      <th>3</th>\n",
       "      <td>2014-04-01</td>\n",
       "      <td>Outdoor</td>\n",
       "      <td>23880</td>\n",
       "    </tr>\n",
       "    <tr>\n",
       "      <th>4</th>\n",
       "      <td>2014-05-01</td>\n",
       "      <td>Outdoor</td>\n",
       "      <td>65460</td>\n",
       "    </tr>\n",
       "  </tbody>\n",
       "</table>\n",
       "</div>"
      ],
      "text/plain": [
       "       Month  Product  Revenue\n",
       "0 2014-01-01  Outdoor    18181\n",
       "1 2014-02-01  Outdoor   153340\n",
       "2 2014-03-01  Outdoor   110857\n",
       "3 2014-04-01  Outdoor    23880\n",
       "4 2014-05-01  Outdoor    65460"
      ]
     },
     "execution_count": 23,
     "metadata": {},
     "output_type": "execute_result"
    }
   ],
   "source": [
    "dfr = pd.concat( [ pd.read_csv(file, parse_dates=['Month']) \n",
    "                        for file in glob('Data/*_rev.csv') \n",
    "                    ]\n",
    "                   )\n",
    "dfr.head()"
   ]
  },
  {
   "cell_type": "code",
   "execution_count": 24,
   "id": "aa14984b-7cea-4ee1-9953-affcdd91b1db",
   "metadata": {},
   "outputs": [
    {
     "data": {
      "text/plain": [
       "(51, 3)"
      ]
     },
     "execution_count": 24,
     "metadata": {},
     "output_type": "execute_result"
    }
   ],
   "source": [
    "dfx.shape"
   ]
  },
  {
   "cell_type": "code",
   "execution_count": 25,
   "id": "2294e87e-e2b2-4192-b1d9-cbec446b5dbd",
   "metadata": {},
   "outputs": [
    {
     "data": {
      "text/plain": [
       "(51, 3)"
      ]
     },
     "execution_count": 25,
     "metadata": {},
     "output_type": "execute_result"
    }
   ],
   "source": [
    "dfr.shape"
   ]
  },
  {
   "cell_type": "code",
   "execution_count": 27,
   "id": "ee58b683-bf79-453d-8ead-6d01e327073d",
   "metadata": {},
   "outputs": [
    {
     "data": {
      "text/plain": [
       "Index(['Month', 'Product', 'Expenditure'], dtype='object')"
      ]
     },
     "execution_count": 27,
     "metadata": {},
     "output_type": "execute_result"
    }
   ],
   "source": [
    "dfx.columns"
   ]
  },
  {
   "cell_type": "code",
   "execution_count": 28,
   "id": "097fc732-dcf0-4c4b-9c5a-87260764cf28",
   "metadata": {},
   "outputs": [
    {
     "data": {
      "text/plain": [
       "Index(['Month', 'Product', 'Revenue'], dtype='object')"
      ]
     },
     "execution_count": 28,
     "metadata": {},
     "output_type": "execute_result"
    }
   ],
   "source": [
    "dfr.columns"
   ]
  },
  {
   "cell_type": "markdown",
   "id": "3c474b29-7e49-49fd-97c8-76062bb3311d",
   "metadata": {},
   "source": [
    "### Sort the values by Product Name and display first 3 rows"
   ]
  },
  {
   "cell_type": "code",
   "execution_count": 34,
   "id": "77c9b9b5-beca-4770-a236-58f2583f329c",
   "metadata": {},
   "outputs": [
    {
     "data": {
      "text/html": [
       "<div>\n",
       "<style scoped>\n",
       "    .dataframe tbody tr th:only-of-type {\n",
       "        vertical-align: middle;\n",
       "    }\n",
       "\n",
       "    .dataframe tbody tr th {\n",
       "        vertical-align: top;\n",
       "    }\n",
       "\n",
       "    .dataframe thead th {\n",
       "        text-align: right;\n",
       "    }\n",
       "</style>\n",
       "<table border=\"1\" class=\"dataframe\">\n",
       "  <thead>\n",
       "    <tr style=\"text-align: right;\">\n",
       "      <th></th>\n",
       "      <th>Month</th>\n",
       "      <th>Product</th>\n",
       "      <th>Expenditure</th>\n",
       "    </tr>\n",
       "  </thead>\n",
       "  <tbody>\n",
       "    <tr>\n",
       "      <th>0</th>\n",
       "      <td>2014-01-01</td>\n",
       "      <td>Board</td>\n",
       "      <td>61617</td>\n",
       "    </tr>\n",
       "    <tr>\n",
       "      <th>1</th>\n",
       "      <td>2014-02-01</td>\n",
       "      <td>Board</td>\n",
       "      <td>204763</td>\n",
       "    </tr>\n",
       "    <tr>\n",
       "      <th>2</th>\n",
       "      <td>2014-03-01</td>\n",
       "      <td>Board</td>\n",
       "      <td>8466</td>\n",
       "    </tr>\n",
       "  </tbody>\n",
       "</table>\n",
       "</div>"
      ],
      "text/plain": [
       "       Month Product  Expenditure\n",
       "0 2014-01-01   Board        61617\n",
       "1 2014-02-01   Board       204763\n",
       "2 2014-03-01   Board         8466"
      ]
     },
     "execution_count": 34,
     "metadata": {},
     "output_type": "execute_result"
    }
   ],
   "source": [
    "dfx.sort_values(['Product', 'Month']).head(3)"
   ]
  },
  {
   "cell_type": "code",
   "execution_count": 35,
   "id": "3eb03afd-a670-42c8-af97-245cb09738d1",
   "metadata": {},
   "outputs": [
    {
     "data": {
      "text/html": [
       "<div>\n",
       "<style scoped>\n",
       "    .dataframe tbody tr th:only-of-type {\n",
       "        vertical-align: middle;\n",
       "    }\n",
       "\n",
       "    .dataframe tbody tr th {\n",
       "        vertical-align: top;\n",
       "    }\n",
       "\n",
       "    .dataframe thead th {\n",
       "        text-align: right;\n",
       "    }\n",
       "</style>\n",
       "<table border=\"1\" class=\"dataframe\">\n",
       "  <thead>\n",
       "    <tr style=\"text-align: right;\">\n",
       "      <th></th>\n",
       "      <th>Month</th>\n",
       "      <th>Product</th>\n",
       "      <th>Revenue</th>\n",
       "    </tr>\n",
       "  </thead>\n",
       "  <tbody>\n",
       "    <tr>\n",
       "      <th>0</th>\n",
       "      <td>2014-01-01</td>\n",
       "      <td>Board</td>\n",
       "      <td>82531</td>\n",
       "    </tr>\n",
       "    <tr>\n",
       "      <th>1</th>\n",
       "      <td>2014-02-01</td>\n",
       "      <td>Board</td>\n",
       "      <td>121172</td>\n",
       "    </tr>\n",
       "    <tr>\n",
       "      <th>2</th>\n",
       "      <td>2014-03-01</td>\n",
       "      <td>Board</td>\n",
       "      <td>135065</td>\n",
       "    </tr>\n",
       "  </tbody>\n",
       "</table>\n",
       "</div>"
      ],
      "text/plain": [
       "       Month Product  Revenue\n",
       "0 2014-01-01   Board    82531\n",
       "1 2014-02-01   Board   121172\n",
       "2 2014-03-01   Board   135065"
      ]
     },
     "execution_count": 35,
     "metadata": {},
     "output_type": "execute_result"
    }
   ],
   "source": [
    "dfr.sort_values(['Product', 'Month']).head(3)"
   ]
  },
  {
   "cell_type": "code",
   "execution_count": 46,
   "id": "c6106524-53bc-486b-8b57-ab4ad92070e7",
   "metadata": {},
   "outputs": [
    {
     "data": {
      "text/html": [
       "<div>\n",
       "<style scoped>\n",
       "    .dataframe tbody tr th:only-of-type {\n",
       "        vertical-align: middle;\n",
       "    }\n",
       "\n",
       "    .dataframe tbody tr th {\n",
       "        vertical-align: top;\n",
       "    }\n",
       "\n",
       "    .dataframe thead th {\n",
       "        text-align: right;\n",
       "    }\n",
       "</style>\n",
       "<table border=\"1\" class=\"dataframe\">\n",
       "  <thead>\n",
       "    <tr style=\"text-align: right;\">\n",
       "      <th></th>\n",
       "      <th>Month</th>\n",
       "      <th>Product</th>\n",
       "      <th>Expenditure</th>\n",
       "      <th>Revenue</th>\n",
       "    </tr>\n",
       "  </thead>\n",
       "  <tbody>\n",
       "    <tr>\n",
       "      <th>0</th>\n",
       "      <td>2014-01-01</td>\n",
       "      <td>Board</td>\n",
       "      <td>61617</td>\n",
       "      <td>82531</td>\n",
       "    </tr>\n",
       "    <tr>\n",
       "      <th>1</th>\n",
       "      <td>2014-02-01</td>\n",
       "      <td>Board</td>\n",
       "      <td>204763</td>\n",
       "      <td>121172</td>\n",
       "    </tr>\n",
       "    <tr>\n",
       "      <th>2</th>\n",
       "      <td>2014-03-01</td>\n",
       "      <td>Board</td>\n",
       "      <td>8466</td>\n",
       "      <td>135065</td>\n",
       "    </tr>\n",
       "    <tr>\n",
       "      <th>3</th>\n",
       "      <td>2014-04-01</td>\n",
       "      <td>Board</td>\n",
       "      <td>146850</td>\n",
       "      <td>270177</td>\n",
       "    </tr>\n",
       "    <tr>\n",
       "      <th>4</th>\n",
       "      <td>2014-05-01</td>\n",
       "      <td>Board</td>\n",
       "      <td>188737</td>\n",
       "      <td>71614</td>\n",
       "    </tr>\n",
       "  </tbody>\n",
       "</table>\n",
       "</div>"
      ],
      "text/plain": [
       "       Month Product  Expenditure  Revenue\n",
       "0 2014-01-01   Board        61617    82531\n",
       "1 2014-02-01   Board       204763   121172\n",
       "2 2014-03-01   Board         8466   135065\n",
       "3 2014-04-01   Board       146850   270177\n",
       "4 2014-05-01   Board       188737    71614"
      ]
     },
     "execution_count": 46,
     "metadata": {},
     "output_type": "execute_result"
    }
   ],
   "source": [
    "df_toys = pd.merge(dfx, dfr)\n",
    "df_toys.head()"
   ]
  },
  {
   "cell_type": "code",
   "execution_count": 47,
   "id": "9108b233-dcdd-4564-a000-3478f2edbeac",
   "metadata": {},
   "outputs": [
    {
     "data": {
      "text/plain": [
       "0    Q1\n",
       "1    Q1\n",
       "2    Q1\n",
       "3    Q2\n",
       "4    Q2\n",
       "dtype: object"
      ]
     },
     "execution_count": 47,
     "metadata": {},
     "output_type": "execute_result"
    }
   ],
   "source": [
    "df_toys.apply(lambda row:f'Q{row.Month.quarter}', axis=1).head()"
   ]
  },
  {
   "cell_type": "code",
   "execution_count": 48,
   "id": "ae2760f5-3332-42e6-b8a7-13483639e12c",
   "metadata": {},
   "outputs": [
    {
     "data": {
      "text/html": [
       "<div>\n",
       "<style scoped>\n",
       "    .dataframe tbody tr th:only-of-type {\n",
       "        vertical-align: middle;\n",
       "    }\n",
       "\n",
       "    .dataframe tbody tr th {\n",
       "        vertical-align: top;\n",
       "    }\n",
       "\n",
       "    .dataframe thead th {\n",
       "        text-align: right;\n",
       "    }\n",
       "</style>\n",
       "<table border=\"1\" class=\"dataframe\">\n",
       "  <thead>\n",
       "    <tr style=\"text-align: right;\">\n",
       "      <th></th>\n",
       "      <th>Month</th>\n",
       "      <th>Product</th>\n",
       "      <th>Expenditure</th>\n",
       "      <th>Revenue</th>\n",
       "      <th>Quarter</th>\n",
       "    </tr>\n",
       "  </thead>\n",
       "  <tbody>\n",
       "    <tr>\n",
       "      <th>0</th>\n",
       "      <td>2014-01-01</td>\n",
       "      <td>Board</td>\n",
       "      <td>61617</td>\n",
       "      <td>82531</td>\n",
       "      <td>Q1</td>\n",
       "    </tr>\n",
       "    <tr>\n",
       "      <th>1</th>\n",
       "      <td>2014-02-01</td>\n",
       "      <td>Board</td>\n",
       "      <td>204763</td>\n",
       "      <td>121172</td>\n",
       "      <td>Q1</td>\n",
       "    </tr>\n",
       "    <tr>\n",
       "      <th>2</th>\n",
       "      <td>2014-03-01</td>\n",
       "      <td>Board</td>\n",
       "      <td>8466</td>\n",
       "      <td>135065</td>\n",
       "      <td>Q1</td>\n",
       "    </tr>\n",
       "    <tr>\n",
       "      <th>3</th>\n",
       "      <td>2014-04-01</td>\n",
       "      <td>Board</td>\n",
       "      <td>146850</td>\n",
       "      <td>270177</td>\n",
       "      <td>Q2</td>\n",
       "    </tr>\n",
       "    <tr>\n",
       "      <th>4</th>\n",
       "      <td>2014-05-01</td>\n",
       "      <td>Board</td>\n",
       "      <td>188737</td>\n",
       "      <td>71614</td>\n",
       "      <td>Q2</td>\n",
       "    </tr>\n",
       "  </tbody>\n",
       "</table>\n",
       "</div>"
      ],
      "text/plain": [
       "       Month Product  Expenditure  Revenue Quarter\n",
       "0 2014-01-01   Board        61617    82531      Q1\n",
       "1 2014-02-01   Board       204763   121172      Q1\n",
       "2 2014-03-01   Board         8466   135065      Q1\n",
       "3 2014-04-01   Board       146850   270177      Q2\n",
       "4 2014-05-01   Board       188737    71614      Q2"
      ]
     },
     "execution_count": 48,
     "metadata": {},
     "output_type": "execute_result"
    }
   ],
   "source": [
    "df_toys.loc[:, 'Quarter'] =  ( df_toys\n",
    "                              .apply(lambda row:f'Q{row.Month.quarter}', \n",
    "                                     axis=1)\n",
    "                             )\n",
    "\n",
    "df_toys.head()"
   ]
  },
  {
   "cell_type": "markdown",
   "id": "ff39f192-cfc5-4546-85eb-af9caa902b67",
   "metadata": {},
   "source": [
    "## Create a csv file with Quarter, Product, Exp and Rev columns\n",
    "\n",
    "- Aggregate Expenditure and Revenue for every Quarter"
   ]
  },
  {
   "cell_type": "code",
   "execution_count": 53,
   "id": "ed06251d-277f-400c-87eb-19b877802c71",
   "metadata": {},
   "outputs": [
    {
     "data": {
      "text/html": [
       "<div>\n",
       "<style scoped>\n",
       "    .dataframe tbody tr th:only-of-type {\n",
       "        vertical-align: middle;\n",
       "    }\n",
       "\n",
       "    .dataframe tbody tr th {\n",
       "        vertical-align: top;\n",
       "    }\n",
       "\n",
       "    .dataframe thead th {\n",
       "        text-align: right;\n",
       "    }\n",
       "</style>\n",
       "<table border=\"1\" class=\"dataframe\">\n",
       "  <thead>\n",
       "    <tr style=\"text-align: right;\">\n",
       "      <th></th>\n",
       "      <th>Product</th>\n",
       "      <th>Expenditure</th>\n",
       "      <th>Revenue</th>\n",
       "      <th>Quarter</th>\n",
       "    </tr>\n",
       "  </thead>\n",
       "  <tbody>\n",
       "    <tr>\n",
       "      <th>0</th>\n",
       "      <td>Board</td>\n",
       "      <td>61617</td>\n",
       "      <td>82531</td>\n",
       "      <td>Q1</td>\n",
       "    </tr>\n",
       "    <tr>\n",
       "      <th>1</th>\n",
       "      <td>Board</td>\n",
       "      <td>204763</td>\n",
       "      <td>121172</td>\n",
       "      <td>Q1</td>\n",
       "    </tr>\n",
       "    <tr>\n",
       "      <th>2</th>\n",
       "      <td>Board</td>\n",
       "      <td>8466</td>\n",
       "      <td>135065</td>\n",
       "      <td>Q1</td>\n",
       "    </tr>\n",
       "    <tr>\n",
       "      <th>3</th>\n",
       "      <td>Board</td>\n",
       "      <td>146850</td>\n",
       "      <td>270177</td>\n",
       "      <td>Q2</td>\n",
       "    </tr>\n",
       "    <tr>\n",
       "      <th>4</th>\n",
       "      <td>Board</td>\n",
       "      <td>188737</td>\n",
       "      <td>71614</td>\n",
       "      <td>Q2</td>\n",
       "    </tr>\n",
       "  </tbody>\n",
       "</table>\n",
       "</div>"
      ],
      "text/plain": [
       "  Product  Expenditure  Revenue Quarter\n",
       "0   Board        61617    82531      Q1\n",
       "1   Board       204763   121172      Q1\n",
       "2   Board         8466   135065      Q1\n",
       "3   Board       146850   270177      Q2\n",
       "4   Board       188737    71614      Q2"
      ]
     },
     "execution_count": 53,
     "metadata": {},
     "output_type": "execute_result"
    }
   ],
   "source": [
    "df_toys = df_toys.drop(columns=['Month'])\n",
    "df_toys.head()"
   ]
  },
  {
   "cell_type": "code",
   "execution_count": 52,
   "id": "bbd60272-8083-4711-8cad-faa3ec90a1a2",
   "metadata": {},
   "outputs": [
    {
     "data": {
      "text/plain": [
       "['Quarter', 'Product', 'Expenditure', 'Revenue']"
      ]
     },
     "execution_count": 52,
     "metadata": {},
     "output_type": "execute_result"
    }
   ],
   "source": [
    "cols = \"Quarter Product Expenditure Revenue\".split()\n",
    "cols"
   ]
  },
  {
   "cell_type": "code",
   "execution_count": 55,
   "id": "7188df10-ae0f-4b52-8686-36194a1e0bed",
   "metadata": {},
   "outputs": [
    {
     "data": {
      "text/html": [
       "<div>\n",
       "<style scoped>\n",
       "    .dataframe tbody tr th:only-of-type {\n",
       "        vertical-align: middle;\n",
       "    }\n",
       "\n",
       "    .dataframe tbody tr th {\n",
       "        vertical-align: top;\n",
       "    }\n",
       "\n",
       "    .dataframe thead th {\n",
       "        text-align: right;\n",
       "    }\n",
       "</style>\n",
       "<table border=\"1\" class=\"dataframe\">\n",
       "  <thead>\n",
       "    <tr style=\"text-align: right;\">\n",
       "      <th></th>\n",
       "      <th>Quarter</th>\n",
       "      <th>Product</th>\n",
       "      <th>Expenditure</th>\n",
       "      <th>Revenue</th>\n",
       "    </tr>\n",
       "  </thead>\n",
       "  <tbody>\n",
       "    <tr>\n",
       "      <th>0</th>\n",
       "      <td>Q1</td>\n",
       "      <td>Board</td>\n",
       "      <td>61617</td>\n",
       "      <td>82531</td>\n",
       "    </tr>\n",
       "    <tr>\n",
       "      <th>1</th>\n",
       "      <td>Q1</td>\n",
       "      <td>Board</td>\n",
       "      <td>204763</td>\n",
       "      <td>121172</td>\n",
       "    </tr>\n",
       "    <tr>\n",
       "      <th>2</th>\n",
       "      <td>Q1</td>\n",
       "      <td>Board</td>\n",
       "      <td>8466</td>\n",
       "      <td>135065</td>\n",
       "    </tr>\n",
       "    <tr>\n",
       "      <th>3</th>\n",
       "      <td>Q2</td>\n",
       "      <td>Board</td>\n",
       "      <td>146850</td>\n",
       "      <td>270177</td>\n",
       "    </tr>\n",
       "    <tr>\n",
       "      <th>4</th>\n",
       "      <td>Q2</td>\n",
       "      <td>Board</td>\n",
       "      <td>188737</td>\n",
       "      <td>71614</td>\n",
       "    </tr>\n",
       "  </tbody>\n",
       "</table>\n",
       "</div>"
      ],
      "text/plain": [
       "  Quarter Product  Expenditure  Revenue\n",
       "0      Q1   Board        61617    82531\n",
       "1      Q1   Board       204763   121172\n",
       "2      Q1   Board         8466   135065\n",
       "3      Q2   Board       146850   270177\n",
       "4      Q2   Board       188737    71614"
      ]
     },
     "execution_count": 55,
     "metadata": {},
     "output_type": "execute_result"
    }
   ],
   "source": [
    "df_toys[cols].head()"
   ]
  },
  {
   "cell_type": "code",
   "execution_count": 65,
   "id": "5b7beeb6-725f-47d7-b3f9-df8bd14d03e5",
   "metadata": {},
   "outputs": [],
   "source": [
    "( df_toys[cols]\n",
    " .groupby(['Quarter', 'Product'])\n",
    " .sum()\n",
    " .reset_index()\n",
    " .sort_values(['Quarter', 'Product'])\n",
    " .to_csv(\"toys.csv\", index=False)\n",
    ")"
   ]
  },
  {
   "cell_type": "code",
   "execution_count": null,
   "id": "405d598f-e784-49ae-a96f-c7a044dc596b",
   "metadata": {},
   "outputs": [],
   "source": []
  }
 ],
 "metadata": {
  "kernelspec": {
   "display_name": "Python 3 (ipykernel)",
   "language": "python",
   "name": "python3"
  },
  "language_info": {
   "codemirror_mode": {
    "name": "ipython",
    "version": 3
   },
   "file_extension": ".py",
   "mimetype": "text/x-python",
   "name": "python",
   "nbconvert_exporter": "python",
   "pygments_lexer": "ipython3",
   "version": "3.12.2"
  }
 },
 "nbformat": 4,
 "nbformat_minor": 5
}
