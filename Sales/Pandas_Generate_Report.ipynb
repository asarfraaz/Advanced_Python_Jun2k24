{
 "cells": [
  {
   "cell_type": "markdown",
   "id": "2be04200-f7f9-4f33-aeec-561a77635e11",
   "metadata": {},
   "source": [
    "# Report the Annual Profit for each product"
   ]
  },
  {
   "cell_type": "code",
   "execution_count": 1,
   "id": "28bbb19c-3779-43d0-bf52-2fc1002104f6",
   "metadata": {},
   "outputs": [],
   "source": [
    "import pandas as pd"
   ]
  },
  {
   "cell_type": "code",
   "execution_count": 2,
   "id": "893e47d0-8f28-4b5a-aed9-738694e12637",
   "metadata": {},
   "outputs": [
    {
     "data": {
      "text/html": [
       "<div>\n",
       "<style scoped>\n",
       "    .dataframe tbody tr th:only-of-type {\n",
       "        vertical-align: middle;\n",
       "    }\n",
       "\n",
       "    .dataframe tbody tr th {\n",
       "        vertical-align: top;\n",
       "    }\n",
       "\n",
       "    .dataframe thead th {\n",
       "        text-align: right;\n",
       "    }\n",
       "</style>\n",
       "<table border=\"1\" class=\"dataframe\">\n",
       "  <thead>\n",
       "    <tr style=\"text-align: right;\">\n",
       "      <th></th>\n",
       "      <th>Quarter</th>\n",
       "      <th>Product</th>\n",
       "      <th>Expenditure</th>\n",
       "      <th>Revenue</th>\n",
       "    </tr>\n",
       "  </thead>\n",
       "  <tbody>\n",
       "    <tr>\n",
       "      <th>0</th>\n",
       "      <td>Q1</td>\n",
       "      <td>Board</td>\n",
       "      <td>274846</td>\n",
       "      <td>338768</td>\n",
       "    </tr>\n",
       "    <tr>\n",
       "      <th>1</th>\n",
       "      <td>Q1</td>\n",
       "      <td>Outdoor</td>\n",
       "      <td>278236</td>\n",
       "      <td>282378</td>\n",
       "    </tr>\n",
       "    <tr>\n",
       "      <th>2</th>\n",
       "      <td>Q1</td>\n",
       "      <td>Wooden</td>\n",
       "      <td>264788</td>\n",
       "      <td>268292</td>\n",
       "    </tr>\n",
       "    <tr>\n",
       "      <th>3</th>\n",
       "      <td>Q2</td>\n",
       "      <td>Board</td>\n",
       "      <td>345234</td>\n",
       "      <td>387362</td>\n",
       "    </tr>\n",
       "    <tr>\n",
       "      <th>4</th>\n",
       "      <td>Q2</td>\n",
       "      <td>Legos</td>\n",
       "      <td>383764</td>\n",
       "      <td>453534</td>\n",
       "    </tr>\n",
       "  </tbody>\n",
       "</table>\n",
       "</div>"
      ],
      "text/plain": [
       "  Quarter  Product  Expenditure  Revenue\n",
       "0      Q1    Board       274846   338768\n",
       "1      Q1  Outdoor       278236   282378\n",
       "2      Q1   Wooden       264788   268292\n",
       "3      Q2    Board       345234   387362\n",
       "4      Q2    Legos       383764   453534"
      ]
     },
     "execution_count": 2,
     "metadata": {},
     "output_type": "execute_result"
    }
   ],
   "source": [
    "df = pd.read_csv('toys.csv')\n",
    "df.head()"
   ]
  },
  {
   "cell_type": "markdown",
   "id": "adafe0d1-0db7-4c8e-a3ca-d59ec2c6079f",
   "metadata": {},
   "source": [
    "## How many rows and columns do we have ?"
   ]
  },
  {
   "cell_type": "code",
   "execution_count": 3,
   "id": "b989dddc-1f41-4c46-8223-04902efded99",
   "metadata": {},
   "outputs": [],
   "source": [
    "n_rows, n_cols = df.shape"
   ]
  },
  {
   "cell_type": "code",
   "execution_count": 4,
   "id": "eafa9ec7-7809-4aa0-9b75-98dcd0572bdd",
   "metadata": {},
   "outputs": [
    {
     "data": {
      "text/plain": [
       "17"
      ]
     },
     "execution_count": 4,
     "metadata": {},
     "output_type": "execute_result"
    }
   ],
   "source": [
    "n_rows"
   ]
  },
  {
   "cell_type": "code",
   "execution_count": 5,
   "id": "308b79b8-5d1c-4ba0-97ac-725517ac600c",
   "metadata": {},
   "outputs": [
    {
     "data": {
      "text/plain": [
       "4"
      ]
     },
     "execution_count": 5,
     "metadata": {},
     "output_type": "execute_result"
    }
   ],
   "source": [
    "n_cols"
   ]
  },
  {
   "cell_type": "markdown",
   "id": "06b878e3-6b60-49e3-b8fc-bb1fc25ef8ee",
   "metadata": {},
   "source": [
    "## Which Products are mentioned in this dataset ?"
   ]
  },
  {
   "cell_type": "code",
   "execution_count": 6,
   "id": "cb921468-50ba-444c-8fc1-58f036cc55b4",
   "metadata": {},
   "outputs": [
    {
     "data": {
      "text/plain": [
       "array(['Board', 'Outdoor', 'Wooden', 'Legos', 'Puzzles'], dtype=object)"
      ]
     },
     "execution_count": 6,
     "metadata": {},
     "output_type": "execute_result"
    }
   ],
   "source": [
    "df.Product.unique()"
   ]
  },
  {
   "cell_type": "markdown",
   "id": "e88131c8-1dc8-4a6f-b70a-19fb6c0b82b1",
   "metadata": {},
   "source": [
    "- How many instances are there for each product"
   ]
  },
  {
   "cell_type": "code",
   "execution_count": 7,
   "id": "4e9632e3-ea60-4137-901f-d861cf4baa25",
   "metadata": {},
   "outputs": [
    {
     "data": {
      "text/plain": [
       "Product\n",
       "Board      4\n",
       "Outdoor    4\n",
       "Wooden     4\n",
       "Legos      3\n",
       "Puzzles    2\n",
       "Name: count, dtype: int64"
      ]
     },
     "execution_count": 7,
     "metadata": {},
     "output_type": "execute_result"
    }
   ],
   "source": [
    "df.Product.value_counts()"
   ]
  },
  {
   "cell_type": "code",
   "execution_count": 12,
   "id": "43a4a7fe-e2c0-4801-a5e0-ff3a68fbc2a2",
   "metadata": {},
   "outputs": [],
   "source": [
    "# ! pip install seaborn"
   ]
  },
  {
   "cell_type": "code",
   "execution_count": 14,
   "id": "7c450110-2942-42df-96e8-2bd7df8f320d",
   "metadata": {},
   "outputs": [],
   "source": [
    "import seaborn as sns\n",
    "import matplotlib.pyplot as plt"
   ]
  },
  {
   "cell_type": "code",
   "execution_count": 11,
   "id": "e949ee1a-f7c0-4b53-8e83-b733324d01dc",
   "metadata": {},
   "outputs": [],
   "source": [
    "sns.set()"
   ]
  },
  {
   "cell_type": "code",
   "execution_count": 22,
   "id": "3ef8feab-803e-405c-9392-f82e551567fe",
   "metadata": {},
   "outputs": [
    {
     "data": {
      "image/png": "[encoded data removed]",
      "text/plain": [
       "<Figure size 800x200 with 1 Axes>"
      ]
     },
     "metadata": {},
     "output_type": "display_data"
    }
   ],
   "source": [
    "fig, ax = plt.subplots(figsize=(8, 2))\n",
    "\n",
    "axr = sns.countplot(\n",
    "    data = df,\n",
    "    x = \"Product\",\n",
    "    ax = ax\n",
    ")"
   ]
  },
  {
   "cell_type": "code",
   "execution_count": null,
   "id": "c1aff64d-58ed-49fc-9609-e776a5c63f9a",
   "metadata": {},
   "outputs": [],
   "source": []
  },
  {
   "cell_type": "code",
   "execution_count": null,
   "id": "dc071af6-c780-4af6-99dd-b7d5ba9a5fe6",
   "metadata": {},
   "outputs": [],
   "source": []
  },
  {
   "cell_type": "code",
   "execution_count": null,
   "id": "1fd7768f-36ca-4074-902b-bd9b5a2d8adb",
   "metadata": {},
   "outputs": [],
   "source": []
  },
  {
   "cell_type": "code",
   "execution_count": null,
   "id": "9d3797a8-cab2-4904-8933-71d8c3b085a6",
   "metadata": {},
   "outputs": [],
   "source": []
  },
  {
   "cell_type": "code",
   "execution_count": null,
   "id": "cbad8517-87f1-4dc5-bf9f-55dedcc50675",
   "metadata": {},
   "outputs": [],
   "source": []
  },
  {
   "cell_type": "code",
   "execution_count": null,
   "id": "73ba19cb-acf6-4c14-8838-0b776bef4c16",
   "metadata": {},
   "outputs": [],
   "source": []
  },
  {
   "cell_type": "code",
   "execution_count": null,
   "id": "f10bed21-699b-4265-abe0-56d3d742952a",
   "metadata": {},
   "outputs": [],
   "source": []
  }
 ],
 "metadata": {
  "kernelspec": {
   "display_name": "Python 3 (ipykernel)",
   "language": "python",
   "name": "python3"
  },
  "language_info": {
   "codemirror_mode": {
    "name": "ipython",
    "version": 3
   },
   "file_extension": ".py",
   "mimetype": "text/x-python",
   "name": "python",
   "nbconvert_exporter": "python",
   "pygments_lexer": "ipython3",
   "version": "3.12.2"
  }
 },
 "nbformat": 4,
 "nbformat_minor": 5
}
