{
 "cells": [
  {
   "cell_type": "markdown",
   "id": "2be04200-f7f9-4f33-aeec-561a77635e11",
   "metadata": {},
   "source": [
    "# Report the Annual Profit for each product"
   ]
  },
  {
   "cell_type": "code",
   "execution_count": 1,
   "id": "28bbb19c-3779-43d0-bf52-2fc1002104f6",
   "metadata": {},
   "outputs": [],
   "source": [
    "import pandas as pd"
   ]
  },
  {
   "cell_type": "code",
   "execution_count": 2,
   "id": "893e47d0-8f28-4b5a-aed9-738694e12637",
   "metadata": {},
   "outputs": [
    {
     "data": {
      "text/html": [
       "<div>\n",
       "<style scoped>\n",
       "    .dataframe tbody tr th:only-of-type {\n",
       "        vertical-align: middle;\n",
       "    }\n",
       "\n",
       "    .dataframe tbody tr th {\n",
       "        vertical-align: top;\n",
       "    }\n",
       "\n",
       "    .dataframe thead th {\n",
       "        text-align: right;\n",
       "    }\n",
       "</style>\n",
       "<table border=\"1\" class=\"dataframe\">\n",
       "  <thead>\n",
       "    <tr style=\"text-align: right;\">\n",
       "      <th></th>\n",
       "      <th>Quarter</th>\n",
       "      <th>Product</th>\n",
       "      <th>Expenditure</th>\n",
       "      <th>Revenue</th>\n",
       "    </tr>\n",
       "  </thead>\n",
       "  <tbody>\n",
       "    <tr>\n",
       "      <th>0</th>\n",
       "      <td>Q1</td>\n",
       "      <td>Board</td>\n",
       "      <td>274846</td>\n",
       "      <td>338768</td>\n",
       "    </tr>\n",
       "    <tr>\n",
       "      <th>1</th>\n",
       "      <td>Q1</td>\n",
       "      <td>Outdoor</td>\n",
       "      <td>278236</td>\n",
       "      <td>282378</td>\n",
       "    </tr>\n",
       "    <tr>\n",
       "      <th>2</th>\n",
       "      <td>Q1</td>\n",
       "      <td>Wooden</td>\n",
       "      <td>264788</td>\n",
       "      <td>268292</td>\n",
       "    </tr>\n",
       "    <tr>\n",
       "      <th>3</th>\n",
       "      <td>Q2</td>\n",
       "      <td>Board</td>\n",
       "      <td>345234</td>\n",
       "      <td>387362</td>\n",
       "    </tr>\n",
       "    <tr>\n",
       "      <th>4</th>\n",
       "      <td>Q2</td>\n",
       "      <td>Legos</td>\n",
       "      <td>383764</td>\n",
       "      <td>453534</td>\n",
       "    </tr>\n",
       "  </tbody>\n",
       "</table>\n",
       "</div>"
      ],
      "text/plain": [
       "  Quarter  Product  Expenditure  Revenue\n",
       "0      Q1    Board       274846   338768\n",
       "1      Q1  Outdoor       278236   282378\n",
       "2      Q1   Wooden       264788   268292\n",
       "3      Q2    Board       345234   387362\n",
       "4      Q2    Legos       383764   453534"
      ]
     },
     "execution_count": 2,
     "metadata": {},
     "output_type": "execute_result"
    }
   ],
   "source": [
    "df = pd.read_csv('toys.csv')\n",
    "df.head()"
   ]
  },
  {
   "cell_type": "markdown",
   "id": "adafe0d1-0db7-4c8e-a3ca-d59ec2c6079f",
   "metadata": {},
   "source": [
    "## How many rows and columns do we have ?"
   ]
  },
  {
   "cell_type": "code",
   "execution_count": 3,
   "id": "b989dddc-1f41-4c46-8223-04902efded99",
   "metadata": {},
   "outputs": [],
   "source": [
    "n_rows, n_cols = df.shape"
   ]
  },
  {
   "cell_type": "code",
   "execution_count": 4,
   "id": "eafa9ec7-7809-4aa0-9b75-98dcd0572bdd",
   "metadata": {},
   "outputs": [
    {
     "data": {
      "text/plain": [
       "17"
      ]
     },
     "execution_count": 4,
     "metadata": {},
     "output_type": "execute_result"
    }
   ],
   "source": [
    "n_rows"
   ]
  },
  {
   "cell_type": "code",
   "execution_count": 5,
   "id": "308b79b8-5d1c-4ba0-97ac-725517ac600c",
   "metadata": {},
   "outputs": [
    {
     "data": {
      "text/plain": [
       "4"
      ]
     },
     "execution_count": 5,
     "metadata": {},
     "output_type": "execute_result"
    }
   ],
   "source": [
    "n_cols"
   ]
  },
  {
   "cell_type": "markdown",
   "id": "06b878e3-6b60-49e3-b8fc-bb1fc25ef8ee",
   "metadata": {},
   "source": [
    "## Which Products are mentioned in this dataset ?"
   ]
  },
  {
   "cell_type": "code",
   "execution_count": 6,
   "id": "cb921468-50ba-444c-8fc1-58f036cc55b4",
   "metadata": {},
   "outputs": [
    {
     "data": {
      "text/plain": [
       "array(['Board', 'Outdoor', 'Wooden', 'Legos', 'Puzzles'], dtype=object)"
      ]
     },
     "execution_count": 6,
     "metadata": {},
     "output_type": "execute_result"
    }
   ],
   "source": [
    "df.Product.unique()"
   ]
  },
  {
   "cell_type": "markdown",
   "id": "e88131c8-1dc8-4a6f-b70a-19fb6c0b82b1",
   "metadata": {},
   "source": [
    "- How many instances are there for each product"
   ]
  },
  {
   "cell_type": "code",
   "execution_count": 7,
   "id": "4e9632e3-ea60-4137-901f-d861cf4baa25",
   "metadata": {},
   "outputs": [
    {
     "data": {
      "text/plain": [
       "Product\n",
       "Board      4\n",
       "Outdoor    4\n",
       "Wooden     4\n",
       "Legos      3\n",
       "Puzzles    2\n",
       "Name: count, dtype: int64"
      ]
     },
     "execution_count": 7,
     "metadata": {},
     "output_type": "execute_result"
    }
   ],
   "source": [
    "df.Product.value_counts()"
   ]
  },
  {
   "cell_type": "code",
   "execution_count": 12,
   "id": "43a4a7fe-e2c0-4801-a5e0-ff3a68fbc2a2",
   "metadata": {},
   "outputs": [],
   "source": [
    "# ! pip install seaborn"
   ]
  },
  {
   "cell_type": "code",
   "execution_count": 14,
   "id": "7c450110-2942-42df-96e8-2bd7df8f320d",
   "metadata": {},
   "outputs": [],
   "source": [
    "import seaborn as sns\n",
    "import matplotlib.pyplot as plt"
   ]
  },
  {
   "cell_type": "code",
   "execution_count": 11,
   "id": "e949ee1a-f7c0-4b53-8e83-b733324d01dc",
   "metadata": {},
   "outputs": [],
   "source": [
    "sns.set()"
   ]
  },
  {
   "cell_type": "code",
   "execution_count": 22,
   "id": "3ef8feab-803e-405c-9392-f82e551567fe",
   "metadata": {},
   "outputs": [
    {
     "data": {
      "image/png": "[encoded data removed]",
      "text/plain": [
       "<Figure size 800x200 with 1 Axes>"
      ]
     },
     "metadata": {},
     "output_type": "display_data"
    }
   ],
   "source": [
    "fig, ax = plt.subplots(figsize=(8, 2))\n",
    "\n",
    "axr = sns.countplot(\n",
    "    data = df,\n",
    "    x = \"Product\",\n",
    "    ax = ax\n",
    ")"
   ]
  },
  {
   "cell_type": "markdown",
   "id": "f924ddf7-2b26-4705-b69b-1ca13a5f93f0",
   "metadata": {},
   "source": [
    "## Annual Expenditure and Revenue for each Product\n",
    "\n",
    "|Product|Revenue|Expenditure|\n",
    "|-|-|-|\n",
    "|Board|1.2|.9|\n",
    "|Puzzles|1.5|1.6|"
   ]
  },
  {
   "cell_type": "code",
   "execution_count": 24,
   "id": "291a1c87-25d0-4b1c-a8d0-28c5dc785b73",
   "metadata": {},
   "outputs": [
    {
     "data": {
      "text/html": [
       "<div>\n",
       "<style scoped>\n",
       "    .dataframe tbody tr th:only-of-type {\n",
       "        vertical-align: middle;\n",
       "    }\n",
       "\n",
       "    .dataframe tbody tr th {\n",
       "        vertical-align: top;\n",
       "    }\n",
       "\n",
       "    .dataframe thead th {\n",
       "        text-align: right;\n",
       "    }\n",
       "</style>\n",
       "<table border=\"1\" class=\"dataframe\">\n",
       "  <thead>\n",
       "    <tr style=\"text-align: right;\">\n",
       "      <th></th>\n",
       "      <th>Quarter</th>\n",
       "      <th>Product</th>\n",
       "      <th>Expenditure</th>\n",
       "      <th>Revenue</th>\n",
       "    </tr>\n",
       "  </thead>\n",
       "  <tbody>\n",
       "    <tr>\n",
       "      <th>0</th>\n",
       "      <td>Q1</td>\n",
       "      <td>Board</td>\n",
       "      <td>274846</td>\n",
       "      <td>338768</td>\n",
       "    </tr>\n",
       "    <tr>\n",
       "      <th>1</th>\n",
       "      <td>Q1</td>\n",
       "      <td>Outdoor</td>\n",
       "      <td>278236</td>\n",
       "      <td>282378</td>\n",
       "    </tr>\n",
       "    <tr>\n",
       "      <th>2</th>\n",
       "      <td>Q1</td>\n",
       "      <td>Wooden</td>\n",
       "      <td>264788</td>\n",
       "      <td>268292</td>\n",
       "    </tr>\n",
       "    <tr>\n",
       "      <th>3</th>\n",
       "      <td>Q2</td>\n",
       "      <td>Board</td>\n",
       "      <td>345234</td>\n",
       "      <td>387362</td>\n",
       "    </tr>\n",
       "    <tr>\n",
       "      <th>4</th>\n",
       "      <td>Q2</td>\n",
       "      <td>Legos</td>\n",
       "      <td>383764</td>\n",
       "      <td>453534</td>\n",
       "    </tr>\n",
       "  </tbody>\n",
       "</table>\n",
       "</div>"
      ],
      "text/plain": [
       "  Quarter  Product  Expenditure  Revenue\n",
       "0      Q1    Board       274846   338768\n",
       "1      Q1  Outdoor       278236   282378\n",
       "2      Q1   Wooden       264788   268292\n",
       "3      Q2    Board       345234   387362\n",
       "4      Q2    Legos       383764   453534"
      ]
     },
     "execution_count": 24,
     "metadata": {},
     "output_type": "execute_result"
    }
   ],
   "source": [
    "df.head()"
   ]
  },
  {
   "cell_type": "code",
   "execution_count": 31,
   "id": "dc071af6-c780-4af6-99dd-b7d5ba9a5fe6",
   "metadata": {},
   "outputs": [
    {
     "data": {
      "text/html": [
       "<div>\n",
       "<style scoped>\n",
       "    .dataframe tbody tr th:only-of-type {\n",
       "        vertical-align: middle;\n",
       "    }\n",
       "\n",
       "    .dataframe tbody tr th {\n",
       "        vertical-align: top;\n",
       "    }\n",
       "\n",
       "    .dataframe thead th {\n",
       "        text-align: right;\n",
       "    }\n",
       "</style>\n",
       "<table border=\"1\" class=\"dataframe\">\n",
       "  <thead>\n",
       "    <tr style=\"text-align: right;\">\n",
       "      <th></th>\n",
       "      <th>Expenditure</th>\n",
       "      <th>Revenue</th>\n",
       "    </tr>\n",
       "    <tr>\n",
       "      <th>Product</th>\n",
       "      <th></th>\n",
       "      <th></th>\n",
       "    </tr>\n",
       "  </thead>\n",
       "  <tbody>\n",
       "    <tr>\n",
       "      <th>Board</th>\n",
       "      <td>360519.0</td>\n",
       "      <td>401168.5</td>\n",
       "    </tr>\n",
       "    <tr>\n",
       "      <th>Legos</th>\n",
       "      <td>457210.0</td>\n",
       "      <td>510372.0</td>\n",
       "    </tr>\n",
       "    <tr>\n",
       "      <th>Outdoor</th>\n",
       "      <td>304782.5</td>\n",
       "      <td>331139.5</td>\n",
       "    </tr>\n",
       "    <tr>\n",
       "      <th>Puzzles</th>\n",
       "      <td>338425.0</td>\n",
       "      <td>369211.0</td>\n",
       "    </tr>\n",
       "    <tr>\n",
       "      <th>Wooden</th>\n",
       "      <td>255748.0</td>\n",
       "      <td>268216.5</td>\n",
       "    </tr>\n",
       "  </tbody>\n",
       "</table>\n",
       "</div>"
      ],
      "text/plain": [
       "         Expenditure   Revenue\n",
       "Product                       \n",
       "Board       360519.0  401168.5\n",
       "Legos       457210.0  510372.0\n",
       "Outdoor     304782.5  331139.5\n",
       "Puzzles     338425.0  369211.0\n",
       "Wooden      255748.0  268216.5"
      ]
     },
     "execution_count": 31,
     "metadata": {},
     "output_type": "execute_result"
    }
   ],
   "source": [
    "df.drop(columns=['Quarter']).pivot_table(index=\"Product\")\n",
    "\n",
    "# pivot_table by default aggregates using \"mean\" ( average )"
   ]
  },
  {
   "cell_type": "markdown",
   "id": "7ff968ab-f156-433d-92d1-d9df84f9845e",
   "metadata": {},
   "source": [
    "### What is the annual expenditure for Puzzles"
   ]
  },
  {
   "cell_type": "code",
   "execution_count": 33,
   "id": "9d3797a8-cab2-4904-8933-71d8c3b085a6",
   "metadata": {},
   "outputs": [
    {
     "data": {
      "text/plain": [
       "676850"
      ]
     },
     "execution_count": 33,
     "metadata": {},
     "output_type": "execute_result"
    }
   ],
   "source": [
    "df[df.Product == \"Puzzles\"].Expenditure.sum()"
   ]
  },
  {
   "cell_type": "code",
   "execution_count": 30,
   "id": "cbad8517-87f1-4dc5-bf9f-55dedcc50675",
   "metadata": {},
   "outputs": [
    {
     "data": {
      "text/plain": [
       "338425.0"
      ]
     },
     "execution_count": 30,
     "metadata": {},
     "output_type": "execute_result"
    }
   ],
   "source": [
    "df[df.Product == \"Puzzles\"].Expenditure.mean()"
   ]
  },
  {
   "cell_type": "code",
   "execution_count": 34,
   "id": "73ba19cb-acf6-4c14-8838-0b776bef4c16",
   "metadata": {},
   "outputs": [
    {
     "data": {
      "text/html": [
       "<div>\n",
       "<style scoped>\n",
       "    .dataframe tbody tr th:only-of-type {\n",
       "        vertical-align: middle;\n",
       "    }\n",
       "\n",
       "    .dataframe tbody tr th {\n",
       "        vertical-align: top;\n",
       "    }\n",
       "\n",
       "    .dataframe thead th {\n",
       "        text-align: right;\n",
       "    }\n",
       "</style>\n",
       "<table border=\"1\" class=\"dataframe\">\n",
       "  <thead>\n",
       "    <tr style=\"text-align: right;\">\n",
       "      <th></th>\n",
       "      <th>Expenditure</th>\n",
       "      <th>Revenue</th>\n",
       "    </tr>\n",
       "    <tr>\n",
       "      <th>Product</th>\n",
       "      <th></th>\n",
       "      <th></th>\n",
       "    </tr>\n",
       "  </thead>\n",
       "  <tbody>\n",
       "    <tr>\n",
       "      <th>Board</th>\n",
       "      <td>1442076</td>\n",
       "      <td>1604674</td>\n",
       "    </tr>\n",
       "    <tr>\n",
       "      <th>Legos</th>\n",
       "      <td>1371630</td>\n",
       "      <td>1531116</td>\n",
       "    </tr>\n",
       "    <tr>\n",
       "      <th>Outdoor</th>\n",
       "      <td>1219130</td>\n",
       "      <td>1324558</td>\n",
       "    </tr>\n",
       "    <tr>\n",
       "      <th>Puzzles</th>\n",
       "      <td>676850</td>\n",
       "      <td>738422</td>\n",
       "    </tr>\n",
       "    <tr>\n",
       "      <th>Wooden</th>\n",
       "      <td>1022992</td>\n",
       "      <td>1072866</td>\n",
       "    </tr>\n",
       "  </tbody>\n",
       "</table>\n",
       "</div>"
      ],
      "text/plain": [
       "         Expenditure  Revenue\n",
       "Product                      \n",
       "Board        1442076  1604674\n",
       "Legos        1371630  1531116\n",
       "Outdoor      1219130  1324558\n",
       "Puzzles       676850   738422\n",
       "Wooden       1022992  1072866"
      ]
     },
     "execution_count": 34,
     "metadata": {},
     "output_type": "execute_result"
    }
   ],
   "source": [
    "df_pvt = ( df\n",
    "         .drop(columns=['Quarter'])\n",
    "         .pivot_table(index=\"Product\",\n",
    "                     aggfunc=\"sum\")\n",
    "        )\n",
    "df_pvt"
   ]
  },
  {
   "cell_type": "markdown",
   "id": "33070bca-e037-42e0-8c3c-bac57b8a2e33",
   "metadata": {},
   "source": [
    "### What is the expenditure for Legos"
   ]
  },
  {
   "cell_type": "code",
   "execution_count": 36,
   "id": "0271de2e-48e3-4d11-b73f-f43910742612",
   "metadata": {},
   "outputs": [
    {
     "data": {
      "text/plain": [
       "1371630"
      ]
     },
     "execution_count": 36,
     "metadata": {},
     "output_type": "execute_result"
    }
   ],
   "source": [
    "df_pvt.loc['Legos', 'Expenditure']"
   ]
  },
  {
   "cell_type": "markdown",
   "id": "34e81229-20e2-4c4f-ac08-1ab65a37c09e",
   "metadata": {},
   "source": [
    "### Which is the 3rd highest expenditure?\n",
    "\n",
    "- sort by Expenditure\n",
    "- get the 3rd row"
   ]
  },
  {
   "cell_type": "code",
   "execution_count": 41,
   "id": "6454885c-6098-4a76-8b84-6af7b308208c",
   "metadata": {},
   "outputs": [
    {
     "data": {
      "text/plain": [
       "1219130"
      ]
     },
     "execution_count": 41,
     "metadata": {},
     "output_type": "execute_result"
    }
   ],
   "source": [
    "(df_pvt\n",
    " .sort_values('Expenditure',\n",
    "                  ascending=False)\n",
    " # Cheated to find the Product name : Outdoor\n",
    " .loc['Outdoor' , 'Expenditure']\n",
    ")"
   ]
  },
  {
   "cell_type": "code",
   "execution_count": 43,
   "id": "91108915-dbdf-4d22-b8d2-adca970e87af",
   "metadata": {},
   "outputs": [
    {
     "data": {
      "text/plain": [
       "(1219130,)"
      ]
     },
     "execution_count": 43,
     "metadata": {},
     "output_type": "execute_result"
    }
   ],
   "source": [
    "(df_pvt\n",
    " .sort_values('Expenditure',\n",
    "                  ascending=False)\n",
    " #.iloc[ row_idx, col_idx], # index starts from 0\n",
    " .iloc[ 2, 0],\n",
    ")"
   ]
  },
  {
   "cell_type": "code",
   "execution_count": 44,
   "id": "b99e86e6-1b18-4fd7-b69f-5dc3c2b60f3a",
   "metadata": {},
   "outputs": [
    {
     "data": {
      "text/html": [
       "<div>\n",
       "<style scoped>\n",
       "    .dataframe tbody tr th:only-of-type {\n",
       "        vertical-align: middle;\n",
       "    }\n",
       "\n",
       "    .dataframe tbody tr th {\n",
       "        vertical-align: top;\n",
       "    }\n",
       "\n",
       "    .dataframe thead th {\n",
       "        text-align: right;\n",
       "    }\n",
       "</style>\n",
       "<table border=\"1\" class=\"dataframe\">\n",
       "  <thead>\n",
       "    <tr style=\"text-align: right;\">\n",
       "      <th></th>\n",
       "      <th>Product</th>\n",
       "      <th>Expenditure</th>\n",
       "      <th>Revenue</th>\n",
       "    </tr>\n",
       "  </thead>\n",
       "  <tbody>\n",
       "    <tr>\n",
       "      <th>0</th>\n",
       "      <td>Board</td>\n",
       "      <td>1442076</td>\n",
       "      <td>1604674</td>\n",
       "    </tr>\n",
       "    <tr>\n",
       "      <th>1</th>\n",
       "      <td>Legos</td>\n",
       "      <td>1371630</td>\n",
       "      <td>1531116</td>\n",
       "    </tr>\n",
       "    <tr>\n",
       "      <th>2</th>\n",
       "      <td>Outdoor</td>\n",
       "      <td>1219130</td>\n",
       "      <td>1324558</td>\n",
       "    </tr>\n",
       "    <tr>\n",
       "      <th>3</th>\n",
       "      <td>Puzzles</td>\n",
       "      <td>676850</td>\n",
       "      <td>738422</td>\n",
       "    </tr>\n",
       "    <tr>\n",
       "      <th>4</th>\n",
       "      <td>Wooden</td>\n",
       "      <td>1022992</td>\n",
       "      <td>1072866</td>\n",
       "    </tr>\n",
       "  </tbody>\n",
       "</table>\n",
       "</div>"
      ],
      "text/plain": [
       "   Product  Expenditure  Revenue\n",
       "0    Board      1442076  1604674\n",
       "1    Legos      1371630  1531116\n",
       "2  Outdoor      1219130  1324558\n",
       "3  Puzzles       676850   738422\n",
       "4   Wooden      1022992  1072866"
      ]
     },
     "execution_count": 44,
     "metadata": {},
     "output_type": "execute_result"
    }
   ],
   "source": [
    "df_pvt.reset_index()"
   ]
  },
  {
   "cell_type": "code",
   "execution_count": 45,
   "id": "0c9b4a4b-af06-47b8-86fe-695767e40bbe",
   "metadata": {},
   "outputs": [
    {
     "data": {
      "text/html": [
       "<div>\n",
       "<style scoped>\n",
       "    .dataframe tbody tr th:only-of-type {\n",
       "        vertical-align: middle;\n",
       "    }\n",
       "\n",
       "    .dataframe tbody tr th {\n",
       "        vertical-align: top;\n",
       "    }\n",
       "\n",
       "    .dataframe thead th {\n",
       "        text-align: right;\n",
       "    }\n",
       "</style>\n",
       "<table border=\"1\" class=\"dataframe\">\n",
       "  <thead>\n",
       "    <tr style=\"text-align: right;\">\n",
       "      <th></th>\n",
       "      <th>Quarter</th>\n",
       "      <th>Product</th>\n",
       "      <th>Expenditure</th>\n",
       "      <th>Revenue</th>\n",
       "    </tr>\n",
       "  </thead>\n",
       "  <tbody>\n",
       "    <tr>\n",
       "      <th>0</th>\n",
       "      <td>Q1</td>\n",
       "      <td>Board</td>\n",
       "      <td>274846</td>\n",
       "      <td>338768</td>\n",
       "    </tr>\n",
       "    <tr>\n",
       "      <th>1</th>\n",
       "      <td>Q1</td>\n",
       "      <td>Outdoor</td>\n",
       "      <td>278236</td>\n",
       "      <td>282378</td>\n",
       "    </tr>\n",
       "    <tr>\n",
       "      <th>2</th>\n",
       "      <td>Q1</td>\n",
       "      <td>Wooden</td>\n",
       "      <td>264788</td>\n",
       "      <td>268292</td>\n",
       "    </tr>\n",
       "    <tr>\n",
       "      <th>3</th>\n",
       "      <td>Q2</td>\n",
       "      <td>Board</td>\n",
       "      <td>345234</td>\n",
       "      <td>387362</td>\n",
       "    </tr>\n",
       "    <tr>\n",
       "      <th>4</th>\n",
       "      <td>Q2</td>\n",
       "      <td>Legos</td>\n",
       "      <td>383764</td>\n",
       "      <td>453534</td>\n",
       "    </tr>\n",
       "  </tbody>\n",
       "</table>\n",
       "</div>"
      ],
      "text/plain": [
       "  Quarter  Product  Expenditure  Revenue\n",
       "0      Q1    Board       274846   338768\n",
       "1      Q1  Outdoor       278236   282378\n",
       "2      Q1   Wooden       264788   268292\n",
       "3      Q2    Board       345234   387362\n",
       "4      Q2    Legos       383764   453534"
      ]
     },
     "execution_count": 45,
     "metadata": {},
     "output_type": "execute_result"
    }
   ],
   "source": [
    "df.head()"
   ]
  },
  {
   "cell_type": "code",
   "execution_count": 50,
   "id": "87630523-7633-4135-a7df-2ee5677f68cc",
   "metadata": {},
   "outputs": [
    {
     "data": {
      "text/html": [
       "<div>\n",
       "<style scoped>\n",
       "    .dataframe tbody tr th:only-of-type {\n",
       "        vertical-align: middle;\n",
       "    }\n",
       "\n",
       "    .dataframe tbody tr th {\n",
       "        vertical-align: top;\n",
       "    }\n",
       "\n",
       "    .dataframe thead th {\n",
       "        text-align: right;\n",
       "    }\n",
       "</style>\n",
       "<table border=\"1\" class=\"dataframe\">\n",
       "  <thead>\n",
       "    <tr style=\"text-align: right;\">\n",
       "      <th></th>\n",
       "      <th>Quarter</th>\n",
       "      <th>Expenditure</th>\n",
       "      <th>Revenue</th>\n",
       "    </tr>\n",
       "    <tr>\n",
       "      <th>Product</th>\n",
       "      <th></th>\n",
       "      <th></th>\n",
       "      <th></th>\n",
       "    </tr>\n",
       "  </thead>\n",
       "  <tbody>\n",
       "    <tr>\n",
       "      <th>Board</th>\n",
       "      <td>Q4</td>\n",
       "      <td>376234</td>\n",
       "      <td>394798</td>\n",
       "    </tr>\n",
       "    <tr>\n",
       "      <th>Legos</th>\n",
       "      <td>Q4</td>\n",
       "      <td>491028</td>\n",
       "      <td>559236</td>\n",
       "    </tr>\n",
       "    <tr>\n",
       "      <th>Outdoor</th>\n",
       "      <td>Q4</td>\n",
       "      <td>336822</td>\n",
       "      <td>369436</td>\n",
       "    </tr>\n",
       "    <tr>\n",
       "      <th>Puzzles</th>\n",
       "      <td>Q4</td>\n",
       "      <td>339384</td>\n",
       "      <td>344636</td>\n",
       "    </tr>\n",
       "    <tr>\n",
       "      <th>Wooden</th>\n",
       "      <td>Q4</td>\n",
       "      <td>222356</td>\n",
       "      <td>243842</td>\n",
       "    </tr>\n",
       "  </tbody>\n",
       "</table>\n",
       "</div>"
      ],
      "text/plain": [
       "        Quarter  Expenditure  Revenue\n",
       "Product                              \n",
       "Board        Q4       376234   394798\n",
       "Legos        Q4       491028   559236\n",
       "Outdoor      Q4       336822   369436\n",
       "Puzzles      Q4       339384   344636\n",
       "Wooden       Q4       222356   243842"
      ]
     },
     "execution_count": 50,
     "metadata": {},
     "output_type": "execute_result"
    }
   ],
   "source": [
    "df4 = df[df.Quarter == \"Q4\"].set_index('Product')\n",
    "df4"
   ]
  },
  {
   "cell_type": "markdown",
   "id": "2413bfc5-3174-4cf4-9ec9-87996e69e0da",
   "metadata": {},
   "source": [
    "### Fetch the 2 last row ?"
   ]
  },
  {
   "cell_type": "code",
   "execution_count": 51,
   "id": "b0aa2cf3-9ca8-4974-9738-212faf982971",
   "metadata": {},
   "outputs": [
    {
     "data": {
      "text/plain": [
       "Quarter            Q4\n",
       "Expenditure    339384\n",
       "Revenue        344636\n",
       "Name: Puzzles, dtype: object"
      ]
     },
     "execution_count": 51,
     "metadata": {},
     "output_type": "execute_result"
    }
   ],
   "source": [
    "df4.iloc[-2]"
   ]
  },
  {
   "cell_type": "markdown",
   "id": "0f6ecb55-ae26-4a06-bd29-430c95e92c20",
   "metadata": {},
   "source": [
    "### Fetch information about Legos"
   ]
  },
  {
   "cell_type": "code",
   "execution_count": 52,
   "id": "182d6e10-2074-489d-bff4-51ecc001fb50",
   "metadata": {},
   "outputs": [
    {
     "data": {
      "text/plain": [
       "Quarter            Q4\n",
       "Expenditure    491028\n",
       "Revenue        559236\n",
       "Name: Legos, dtype: object"
      ]
     },
     "execution_count": 52,
     "metadata": {},
     "output_type": "execute_result"
    }
   ],
   "source": [
    "df4.loc['Legos']"
   ]
  },
  {
   "cell_type": "markdown",
   "id": "c10f9582-ff50-4c30-ad46-bf6fd0d366a2",
   "metadata": {},
   "source": [
    "## Calculate Annual Profit"
   ]
  },
  {
   "cell_type": "code",
   "execution_count": 53,
   "id": "39e155a0-6080-4c15-8225-028adb172126",
   "metadata": {},
   "outputs": [
    {
     "data": {
      "text/html": [
       "<div>\n",
       "<style scoped>\n",
       "    .dataframe tbody tr th:only-of-type {\n",
       "        vertical-align: middle;\n",
       "    }\n",
       "\n",
       "    .dataframe tbody tr th {\n",
       "        vertical-align: top;\n",
       "    }\n",
       "\n",
       "    .dataframe thead th {\n",
       "        text-align: right;\n",
       "    }\n",
       "</style>\n",
       "<table border=\"1\" class=\"dataframe\">\n",
       "  <thead>\n",
       "    <tr style=\"text-align: right;\">\n",
       "      <th></th>\n",
       "      <th>Expenditure</th>\n",
       "      <th>Revenue</th>\n",
       "    </tr>\n",
       "    <tr>\n",
       "      <th>Product</th>\n",
       "      <th></th>\n",
       "      <th></th>\n",
       "    </tr>\n",
       "  </thead>\n",
       "  <tbody>\n",
       "    <tr>\n",
       "      <th>Board</th>\n",
       "      <td>1442076</td>\n",
       "      <td>1604674</td>\n",
       "    </tr>\n",
       "    <tr>\n",
       "      <th>Legos</th>\n",
       "      <td>1371630</td>\n",
       "      <td>1531116</td>\n",
       "    </tr>\n",
       "    <tr>\n",
       "      <th>Outdoor</th>\n",
       "      <td>1219130</td>\n",
       "      <td>1324558</td>\n",
       "    </tr>\n",
       "    <tr>\n",
       "      <th>Puzzles</th>\n",
       "      <td>676850</td>\n",
       "      <td>738422</td>\n",
       "    </tr>\n",
       "    <tr>\n",
       "      <th>Wooden</th>\n",
       "      <td>1022992</td>\n",
       "      <td>1072866</td>\n",
       "    </tr>\n",
       "  </tbody>\n",
       "</table>\n",
       "</div>"
      ],
      "text/plain": [
       "         Expenditure  Revenue\n",
       "Product                      \n",
       "Board        1442076  1604674\n",
       "Legos        1371630  1531116\n",
       "Outdoor      1219130  1324558\n",
       "Puzzles       676850   738422\n",
       "Wooden       1022992  1072866"
      ]
     },
     "execution_count": 53,
     "metadata": {},
     "output_type": "execute_result"
    }
   ],
   "source": [
    "df_pvt"
   ]
  },
  {
   "cell_type": "code",
   "execution_count": 54,
   "id": "2b756948-d3f0-4778-ad19-815cbfd0c067",
   "metadata": {},
   "outputs": [
    {
     "data": {
      "text/plain": [
       "Product\n",
       "Board      162598\n",
       "Legos      159486\n",
       "Outdoor    105428\n",
       "Puzzles     61572\n",
       "Wooden      49874\n",
       "dtype: int64"
      ]
     },
     "execution_count": 54,
     "metadata": {},
     "output_type": "execute_result"
    }
   ],
   "source": [
    "df_pvt.Revenue - df_pvt.Expenditure"
   ]
  },
  {
   "cell_type": "code",
   "execution_count": 55,
   "id": "c6fa66bc-8a45-428d-9758-ca5cee1aca58",
   "metadata": {},
   "outputs": [
    {
     "data": {
      "text/html": [
       "<div>\n",
       "<style scoped>\n",
       "    .dataframe tbody tr th:only-of-type {\n",
       "        vertical-align: middle;\n",
       "    }\n",
       "\n",
       "    .dataframe tbody tr th {\n",
       "        vertical-align: top;\n",
       "    }\n",
       "\n",
       "    .dataframe thead th {\n",
       "        text-align: right;\n",
       "    }\n",
       "</style>\n",
       "<table border=\"1\" class=\"dataframe\">\n",
       "  <thead>\n",
       "    <tr style=\"text-align: right;\">\n",
       "      <th></th>\n",
       "      <th>Expenditure</th>\n",
       "      <th>Revenue</th>\n",
       "      <th>Profit</th>\n",
       "    </tr>\n",
       "    <tr>\n",
       "      <th>Product</th>\n",
       "      <th></th>\n",
       "      <th></th>\n",
       "      <th></th>\n",
       "    </tr>\n",
       "  </thead>\n",
       "  <tbody>\n",
       "    <tr>\n",
       "      <th>Board</th>\n",
       "      <td>1442076</td>\n",
       "      <td>1604674</td>\n",
       "      <td>162598</td>\n",
       "    </tr>\n",
       "    <tr>\n",
       "      <th>Legos</th>\n",
       "      <td>1371630</td>\n",
       "      <td>1531116</td>\n",
       "      <td>159486</td>\n",
       "    </tr>\n",
       "    <tr>\n",
       "      <th>Outdoor</th>\n",
       "      <td>1219130</td>\n",
       "      <td>1324558</td>\n",
       "      <td>105428</td>\n",
       "    </tr>\n",
       "    <tr>\n",
       "      <th>Puzzles</th>\n",
       "      <td>676850</td>\n",
       "      <td>738422</td>\n",
       "      <td>61572</td>\n",
       "    </tr>\n",
       "    <tr>\n",
       "      <th>Wooden</th>\n",
       "      <td>1022992</td>\n",
       "      <td>1072866</td>\n",
       "      <td>49874</td>\n",
       "    </tr>\n",
       "  </tbody>\n",
       "</table>\n",
       "</div>"
      ],
      "text/plain": [
       "         Expenditure  Revenue  Profit\n",
       "Product                              \n",
       "Board        1442076  1604674  162598\n",
       "Legos        1371630  1531116  159486\n",
       "Outdoor      1219130  1324558  105428\n",
       "Puzzles       676850   738422   61572\n",
       "Wooden       1022992  1072866   49874"
      ]
     },
     "execution_count": 55,
     "metadata": {},
     "output_type": "execute_result"
    }
   ],
   "source": [
    "df_pvt.loc[:, 'Profit'] = df_pvt.Revenue - df_pvt.Expenditure\n",
    "df_pvt"
   ]
  },
  {
   "cell_type": "code",
   "execution_count": 71,
   "id": "a6f37eab-199c-4134-a390-18dd644bc53c",
   "metadata": {},
   "outputs": [
    {
     "data": {
      "image/png": "[encoded data removed]",
      "text/plain": [
       "<Figure size 400x200 with 1 Axes>"
      ]
     },
     "metadata": {},
     "output_type": "display_data"
    }
   ],
   "source": [
    "fig, ax = plt.subplots(figsize=(4, 2))\n",
    "\n",
    "ax = sns.barplot(\n",
    "        data = (df_pvt\n",
    "               .reset_index()\n",
    "               # .sort_values('Revenue')\n",
    "               ),\n",
    "        x = \"Product\",\n",
    "        y = \"Profit\",\n",
    "        ax = ax\n",
    "    );\n",
    "\n",
    "plt.title(\"Annual Profit Per Product\");\n",
    "plt.tight_layout()\n",
    "plt.savefig('annual_report.png')"
   ]
  },
  {
   "cell_type": "markdown",
   "id": "a9a417fd-ced2-4f05-8c54-78eb17747599",
   "metadata": {},
   "source": [
    "## Export the Profit table and grpah into Excel file"
   ]
  },
  {
   "cell_type": "code",
   "execution_count": 76,
   "id": "9eaf4a65-a87e-446e-a366-7d40751d0c39",
   "metadata": {},
   "outputs": [
    {
     "name": "stdout",
     "output_type": "stream",
     "text": [
      "Collecting xlsxwriter\n",
      "  Downloading XlsxWriter-3.2.0-py3-none-any.whl.metadata (2.6 kB)\n",
      "Downloading XlsxWriter-3.2.0-py3-none-any.whl (159 kB)\n",
      "\u001b[2K   \u001b[90m━━━━━━━━━━━━━━━━━━━━━━━━━━━━━━━━━━━━━━━━\u001b[0m \u001b[32m159.9/159.9 kB\u001b[0m \u001b[31m4.6 MB/s\u001b[0m eta \u001b[36m0:00:00\u001b[0m\n",
      "\u001b[?25hInstalling collected packages: xlsxwriter\n",
      "Successfully installed xlsxwriter-3.2.0\n"
     ]
    }
   ],
   "source": [
    "! pip install xlsxwriter"
   ]
  },
  {
   "cell_type": "code",
   "execution_count": 78,
   "id": "222dd743-ca1c-424c-b35a-fb4e2cae2979",
   "metadata": {},
   "outputs": [],
   "source": [
    "excel_filename = \"Annual_Report.xlsx\"\n",
    "worksheet_name = \"2014\""
   ]
  },
  {
   "cell_type": "code",
   "execution_count": 80,
   "id": "b3a5f206-807d-4003-8556-6fa189bd51d5",
   "metadata": {},
   "outputs": [],
   "source": [
    "from io import BytesIO\n",
    "\n",
    "image_data = BytesIO()\n",
    "ax.figure.savefig(image_data)"
   ]
  },
  {
   "cell_type": "code",
   "execution_count": 82,
   "id": "3ac99f2a-d8dc-46c2-a536-11559325dc9f",
   "metadata": {},
   "outputs": [],
   "source": [
    "with pd.ExcelWriter(excel_filename, engine=\"xlsxwriter\") as FH:\n",
    "    df_pvt.to_excel(FH, sheet_name = worksheet_name)\n",
    "    shobj = FH.sheets[worksheet_name]\n",
    "    shobj.insert_image('F4', '' , {'image_data': image_data})"
   ]
  },
  {
   "cell_type": "code",
   "execution_count": null,
   "id": "f61a5cae-acb0-4750-8957-16c8d7f4fc68",
   "metadata": {},
   "outputs": [],
   "source": []
  },
  {
   "cell_type": "code",
   "execution_count": null,
   "id": "cfab17b7-2edf-4741-8a0c-34f8891de14d",
   "metadata": {},
   "outputs": [],
   "source": []
  },
  {
   "cell_type": "code",
   "execution_count": null,
   "id": "9f79ecc1-4317-4554-9ae4-3f2fb0d60658",
   "metadata": {},
   "outputs": [],
   "source": []
  },
  {
   "cell_type": "code",
   "execution_count": null,
   "id": "334d2e6e-4be0-4f92-ad77-4cb0cc8d9576",
   "metadata": {},
   "outputs": [],
   "source": []
  },
  {
   "cell_type": "code",
   "execution_count": null,
   "id": "56719220-4739-406c-ad4e-42b35c82ca88",
   "metadata": {},
   "outputs": [],
   "source": []
  }
 ],
 "metadata": {
  "kernelspec": {
   "display_name": "Python 3 (ipykernel)",
   "language": "python",
   "name": "python3"
  },
  "language_info": {
   "codemirror_mode": {
    "name": "ipython",
    "version": 3
   },
   "file_extension": ".py",
   "mimetype": "text/x-python",
   "name": "python",
   "nbconvert_exporter": "python",
   "pygments_lexer": "ipython3",
   "version": "3.12.2"
  }
 },
 "nbformat": 4,
 "nbformat_minor": 5
}
