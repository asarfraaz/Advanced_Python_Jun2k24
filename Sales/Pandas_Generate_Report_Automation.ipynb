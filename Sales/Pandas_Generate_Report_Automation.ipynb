{
 "cells": [
  {
   "cell_type": "markdown",
   "id": "2be04200-f7f9-4f33-aeec-561a77635e11",
   "metadata": {},
   "source": [
    "# Report the Annual Profit for each product"
   ]
  },
  {
   "cell_type": "code",
   "execution_count": 1,
   "id": "28bbb19c-3779-43d0-bf52-2fc1002104f6",
   "metadata": {},
   "outputs": [],
   "source": [
    "import pandas as pd"
   ]
  },
  {
   "cell_type": "code",
   "execution_count": 2,
   "id": "893e47d0-8f28-4b5a-aed9-738694e12637",
   "metadata": {},
   "outputs": [
    {
     "data": {
      "text/html": [
       "<div>\n",
       "<style scoped>\n",
       "    .dataframe tbody tr th:only-of-type {\n",
       "        vertical-align: middle;\n",
       "    }\n",
       "\n",
       "    .dataframe tbody tr th {\n",
       "        vertical-align: top;\n",
       "    }\n",
       "\n",
       "    .dataframe thead th {\n",
       "        text-align: right;\n",
       "    }\n",
       "</style>\n",
       "<table border=\"1\" class=\"dataframe\">\n",
       "  <thead>\n",
       "    <tr style=\"text-align: right;\">\n",
       "      <th></th>\n",
       "      <th>Quarter</th>\n",
       "      <th>Product</th>\n",
       "      <th>Expenditure</th>\n",
       "      <th>Revenue</th>\n",
       "    </tr>\n",
       "  </thead>\n",
       "  <tbody>\n",
       "    <tr>\n",
       "      <th>0</th>\n",
       "      <td>Q1</td>\n",
       "      <td>Board</td>\n",
       "      <td>274846</td>\n",
       "      <td>338768</td>\n",
       "    </tr>\n",
       "    <tr>\n",
       "      <th>1</th>\n",
       "      <td>Q1</td>\n",
       "      <td>Outdoor</td>\n",
       "      <td>278236</td>\n",
       "      <td>282378</td>\n",
       "    </tr>\n",
       "    <tr>\n",
       "      <th>2</th>\n",
       "      <td>Q1</td>\n",
       "      <td>Wooden</td>\n",
       "      <td>264788</td>\n",
       "      <td>268292</td>\n",
       "    </tr>\n",
       "    <tr>\n",
       "      <th>3</th>\n",
       "      <td>Q2</td>\n",
       "      <td>Board</td>\n",
       "      <td>345234</td>\n",
       "      <td>387362</td>\n",
       "    </tr>\n",
       "    <tr>\n",
       "      <th>4</th>\n",
       "      <td>Q2</td>\n",
       "      <td>Legos</td>\n",
       "      <td>383764</td>\n",
       "      <td>453534</td>\n",
       "    </tr>\n",
       "  </tbody>\n",
       "</table>\n",
       "</div>"
      ],
      "text/plain": [
       "  Quarter  Product  Expenditure  Revenue\n",
       "0      Q1    Board       274846   338768\n",
       "1      Q1  Outdoor       278236   282378\n",
       "2      Q1   Wooden       264788   268292\n",
       "3      Q2    Board       345234   387362\n",
       "4      Q2    Legos       383764   453534"
      ]
     },
     "execution_count": 2,
     "metadata": {},
     "output_type": "execute_result"
    }
   ],
   "source": [
    "df = pd.read_csv('toys.csv')\n",
    "df.head()"
   ]
  },
  {
   "cell_type": "code",
   "execution_count": 3,
   "id": "7c450110-2942-42df-96e8-2bd7df8f320d",
   "metadata": {},
   "outputs": [],
   "source": [
    "import seaborn as sns\n",
    "import matplotlib.pyplot as plt"
   ]
  },
  {
   "cell_type": "code",
   "execution_count": 4,
   "id": "e949ee1a-f7c0-4b53-8e83-b733324d01dc",
   "metadata": {},
   "outputs": [],
   "source": [
    "sns.set()"
   ]
  },
  {
   "cell_type": "code",
   "execution_count": 5,
   "id": "73ba19cb-acf6-4c14-8838-0b776bef4c16",
   "metadata": {},
   "outputs": [
    {
     "data": {
      "text/html": [
       "<div>\n",
       "<style scoped>\n",
       "    .dataframe tbody tr th:only-of-type {\n",
       "        vertical-align: middle;\n",
       "    }\n",
       "\n",
       "    .dataframe tbody tr th {\n",
       "        vertical-align: top;\n",
       "    }\n",
       "\n",
       "    .dataframe thead th {\n",
       "        text-align: right;\n",
       "    }\n",
       "</style>\n",
       "<table border=\"1\" class=\"dataframe\">\n",
       "  <thead>\n",
       "    <tr style=\"text-align: right;\">\n",
       "      <th></th>\n",
       "      <th>Expenditure</th>\n",
       "      <th>Revenue</th>\n",
       "    </tr>\n",
       "    <tr>\n",
       "      <th>Product</th>\n",
       "      <th></th>\n",
       "      <th></th>\n",
       "    </tr>\n",
       "  </thead>\n",
       "  <tbody>\n",
       "    <tr>\n",
       "      <th>Board</th>\n",
       "      <td>1442076</td>\n",
       "      <td>1604674</td>\n",
       "    </tr>\n",
       "    <tr>\n",
       "      <th>Legos</th>\n",
       "      <td>1371630</td>\n",
       "      <td>1531116</td>\n",
       "    </tr>\n",
       "    <tr>\n",
       "      <th>Outdoor</th>\n",
       "      <td>1219130</td>\n",
       "      <td>1324558</td>\n",
       "    </tr>\n",
       "    <tr>\n",
       "      <th>Puzzles</th>\n",
       "      <td>676850</td>\n",
       "      <td>738422</td>\n",
       "    </tr>\n",
       "    <tr>\n",
       "      <th>Wooden</th>\n",
       "      <td>1022992</td>\n",
       "      <td>1072866</td>\n",
       "    </tr>\n",
       "  </tbody>\n",
       "</table>\n",
       "</div>"
      ],
      "text/plain": [
       "         Expenditure  Revenue\n",
       "Product                      \n",
       "Board        1442076  1604674\n",
       "Legos        1371630  1531116\n",
       "Outdoor      1219130  1324558\n",
       "Puzzles       676850   738422\n",
       "Wooden       1022992  1072866"
      ]
     },
     "execution_count": 5,
     "metadata": {},
     "output_type": "execute_result"
    }
   ],
   "source": [
    "df_pvt = ( df\n",
    "         .drop(columns=['Quarter'])\n",
    "         .pivot_table(index=\"Product\",\n",
    "                     aggfunc=\"sum\")\n",
    "        )\n",
    "df_pvt"
   ]
  },
  {
   "cell_type": "markdown",
   "id": "c10f9582-ff50-4c30-ad46-bf6fd0d366a2",
   "metadata": {},
   "source": [
    "## Calculate Annual Profit"
   ]
  },
  {
   "cell_type": "code",
   "execution_count": 6,
   "id": "c6fa66bc-8a45-428d-9758-ca5cee1aca58",
   "metadata": {},
   "outputs": [
    {
     "data": {
      "text/html": [
       "<div>\n",
       "<style scoped>\n",
       "    .dataframe tbody tr th:only-of-type {\n",
       "        vertical-align: middle;\n",
       "    }\n",
       "\n",
       "    .dataframe tbody tr th {\n",
       "        vertical-align: top;\n",
       "    }\n",
       "\n",
       "    .dataframe thead th {\n",
       "        text-align: right;\n",
       "    }\n",
       "</style>\n",
       "<table border=\"1\" class=\"dataframe\">\n",
       "  <thead>\n",
       "    <tr style=\"text-align: right;\">\n",
       "      <th></th>\n",
       "      <th>Expenditure</th>\n",
       "      <th>Revenue</th>\n",
       "      <th>Profit</th>\n",
       "    </tr>\n",
       "    <tr>\n",
       "      <th>Product</th>\n",
       "      <th></th>\n",
       "      <th></th>\n",
       "      <th></th>\n",
       "    </tr>\n",
       "  </thead>\n",
       "  <tbody>\n",
       "    <tr>\n",
       "      <th>Board</th>\n",
       "      <td>1442076</td>\n",
       "      <td>1604674</td>\n",
       "      <td>162598</td>\n",
       "    </tr>\n",
       "    <tr>\n",
       "      <th>Legos</th>\n",
       "      <td>1371630</td>\n",
       "      <td>1531116</td>\n",
       "      <td>159486</td>\n",
       "    </tr>\n",
       "    <tr>\n",
       "      <th>Outdoor</th>\n",
       "      <td>1219130</td>\n",
       "      <td>1324558</td>\n",
       "      <td>105428</td>\n",
       "    </tr>\n",
       "    <tr>\n",
       "      <th>Puzzles</th>\n",
       "      <td>676850</td>\n",
       "      <td>738422</td>\n",
       "      <td>61572</td>\n",
       "    </tr>\n",
       "    <tr>\n",
       "      <th>Wooden</th>\n",
       "      <td>1022992</td>\n",
       "      <td>1072866</td>\n",
       "      <td>49874</td>\n",
       "    </tr>\n",
       "  </tbody>\n",
       "</table>\n",
       "</div>"
      ],
      "text/plain": [
       "         Expenditure  Revenue  Profit\n",
       "Product                              \n",
       "Board        1442076  1604674  162598\n",
       "Legos        1371630  1531116  159486\n",
       "Outdoor      1219130  1324558  105428\n",
       "Puzzles       676850   738422   61572\n",
       "Wooden       1022992  1072866   49874"
      ]
     },
     "execution_count": 6,
     "metadata": {},
     "output_type": "execute_result"
    }
   ],
   "source": [
    "df_pvt.loc[:, 'Profit'] = df_pvt.Revenue - df_pvt.Expenditure\n",
    "df_pvt"
   ]
  },
  {
   "cell_type": "code",
   "execution_count": 7,
   "id": "a6f37eab-199c-4134-a390-18dd644bc53c",
   "metadata": {},
   "outputs": [
    {
     "data": {
      "image/png": "[encoded data removed]",
      "text/plain": [
       "<Figure size 400x200 with 1 Axes>"
      ]
     },
     "metadata": {},
     "output_type": "display_data"
    }
   ],
   "source": [
    "fig, ax = plt.subplots(figsize=(4, 2))\n",
    "\n",
    "ax = sns.barplot(\n",
    "        data = (df_pvt\n",
    "               .reset_index()\n",
    "               # .sort_values('Revenue')\n",
    "               ),\n",
    "        x = \"Product\",\n",
    "        y = \"Profit\",\n",
    "        ax = ax\n",
    "    );\n",
    "\n",
    "plt.title(\"Annual Profit Per Product\");\n",
    "plt.tight_layout()\n",
    "plt.savefig('annual_report.png')"
   ]
  },
  {
   "cell_type": "markdown",
   "id": "a9a417fd-ced2-4f05-8c54-78eb17747599",
   "metadata": {},
   "source": [
    "## Export the Profit table and grpah into Excel file"
   ]
  },
  {
   "cell_type": "code",
   "execution_count": 8,
   "id": "222dd743-ca1c-424c-b35a-fb4e2cae2979",
   "metadata": {},
   "outputs": [],
   "source": [
    "excel_filename = \"Annual_Report.xlsx\"\n",
    "worksheet_name = \"2014\""
   ]
  },
  {
   "cell_type": "code",
   "execution_count": 9,
   "id": "b3a5f206-807d-4003-8556-6fa189bd51d5",
   "metadata": {},
   "outputs": [],
   "source": [
    "from io import BytesIO\n",
    "\n",
    "image_data = BytesIO()\n",
    "ax.figure.savefig(image_data)"
   ]
  },
  {
   "cell_type": "code",
   "execution_count": 10,
   "id": "3ac99f2a-d8dc-46c2-a536-11559325dc9f",
   "metadata": {},
   "outputs": [],
   "source": [
    "with pd.ExcelWriter(excel_filename, engine=\"xlsxwriter\") as FH:\n",
    "    df_pvt.to_excel(FH, sheet_name = worksheet_name)\n",
    "    shobj = FH.sheets[worksheet_name]\n",
    "    shobj.insert_image('F4', '' , {'image_data': image_data})"
   ]
  }
 ],
 "metadata": {
  "kernelspec": {
   "display_name": "Python 3 (ipykernel)",
   "language": "python",
   "name": "python3"
  },
  "language_info": {
   "codemirror_mode": {
    "name": "ipython",
    "version": 3
   },
   "file_extension": ".py",
   "mimetype": "text/x-python",
   "name": "python",
   "nbconvert_exporter": "python",
   "pygments_lexer": "ipython3",
   "version": "3.12.2"
  }
 },
 "nbformat": 4,
 "nbformat_minor": 5
}
