{
 "cells": [
  {
   "cell_type": "markdown",
   "id": "7faabbc4-f568-4062-8401-1e14c7fa40da",
   "metadata": {},
   "source": [
    "# Introduction to Pandas\n",
    "\n",
    "## Important things to be covered\n",
    "\n",
    "- DataFrame to Files / DB and vice versa\n",
    "- Difference between Spark and Pandas DF\n",
    "- Confusing : loc / iloc ? and other indexing techniques in Pandas\n",
    "- In Excel, formula to value [ =B2+C2 ] 10 + 20 ( 30 ). Can we do this in Pandas ?\n",
    "- How to deal with \"Fixed width\" files and \"csv\" files"
   ]
  },
  {
   "cell_type": "code",
   "execution_count": 35,
   "id": "4855f99d-3c45-45ff-85cb-36476ad5384e",
   "metadata": {},
   "outputs": [],
   "source": [
    "import pandas as pd"
   ]
  },
  {
   "cell_type": "code",
   "execution_count": 36,
   "id": "ef3548a9-7edf-4a1d-a335-575070793625",
   "metadata": {},
   "outputs": [
    {
     "data": {
      "text/plain": [
       "141"
      ]
     },
     "execution_count": 36,
     "metadata": {},
     "output_type": "execute_result"
    }
   ],
   "source": [
    "len(dir(pd))"
   ]
  },
  {
   "cell_type": "code",
   "execution_count": 37,
   "id": "aa16bd6d-eb37-4370-a34b-0db9edd7dc53",
   "metadata": {},
   "outputs": [
    {
     "data": {
      "text/html": [
       "<div>\n",
       "<style scoped>\n",
       "    .dataframe tbody tr th:only-of-type {\n",
       "        vertical-align: middle;\n",
       "    }\n",
       "\n",
       "    .dataframe tbody tr th {\n",
       "        vertical-align: top;\n",
       "    }\n",
       "\n",
       "    .dataframe thead th {\n",
       "        text-align: right;\n",
       "    }\n",
       "</style>\n",
       "<table border=\"1\" class=\"dataframe\">\n",
       "  <thead>\n",
       "    <tr style=\"text-align: right;\">\n",
       "      <th></th>\n",
       "      <th>Player</th>\n",
       "      <th>Span</th>\n",
       "      <th>Mat</th>\n",
       "      <th>Won</th>\n",
       "      <th>Lost</th>\n",
       "      <th>Tied</th>\n",
       "      <th>NR</th>\n",
       "      <th>%</th>\n",
       "    </tr>\n",
       "  </thead>\n",
       "  <tbody>\n",
       "    <tr>\n",
       "      <th>0</th>\n",
       "      <td>S Venkat</td>\n",
       "      <td>1975-1979</td>\n",
       "      <td>7</td>\n",
       "      <td>1</td>\n",
       "      <td>6</td>\n",
       "      <td>0</td>\n",
       "      <td>0</td>\n",
       "      <td>14.28</td>\n",
       "    </tr>\n",
       "    <tr>\n",
       "      <th>1</th>\n",
       "      <td>BS Bedi</td>\n",
       "      <td>1976-1978</td>\n",
       "      <td>4</td>\n",
       "      <td>1</td>\n",
       "      <td>3</td>\n",
       "      <td>0</td>\n",
       "      <td>0</td>\n",
       "      <td>25.00</td>\n",
       "    </tr>\n",
       "    <tr>\n",
       "      <th>2</th>\n",
       "      <td>AL Wadekar</td>\n",
       "      <td>1974-1974</td>\n",
       "      <td>2</td>\n",
       "      <td>0</td>\n",
       "      <td>2</td>\n",
       "      <td>0</td>\n",
       "      <td>0</td>\n",
       "      <td>0.00</td>\n",
       "    </tr>\n",
       "    <tr>\n",
       "      <th>3</th>\n",
       "      <td>SM Gavaskar</td>\n",
       "      <td>1980-1985</td>\n",
       "      <td>37</td>\n",
       "      <td>14</td>\n",
       "      <td>21</td>\n",
       "      <td>0</td>\n",
       "      <td>2</td>\n",
       "      <td>40.00</td>\n",
       "    </tr>\n",
       "    <tr>\n",
       "      <th>4</th>\n",
       "      <td>GR Viswanath</td>\n",
       "      <td>1981-1981</td>\n",
       "      <td>1</td>\n",
       "      <td>0</td>\n",
       "      <td>1</td>\n",
       "      <td>0</td>\n",
       "      <td>0</td>\n",
       "      <td>0.00</td>\n",
       "    </tr>\n",
       "    <tr>\n",
       "      <th>5</th>\n",
       "      <td>N Kapil Dev</td>\n",
       "      <td>1982-1987</td>\n",
       "      <td>74</td>\n",
       "      <td>39</td>\n",
       "      <td>33</td>\n",
       "      <td>0</td>\n",
       "      <td>2</td>\n",
       "      <td>54.16</td>\n",
       "    </tr>\n",
       "    <tr>\n",
       "      <th>6</th>\n",
       "      <td>SMH Kirmani</td>\n",
       "      <td>1983-1983</td>\n",
       "      <td>1</td>\n",
       "      <td>0</td>\n",
       "      <td>1</td>\n",
       "      <td>0</td>\n",
       "      <td>0</td>\n",
       "      <td>0.00</td>\n",
       "    </tr>\n",
       "    <tr>\n",
       "      <th>7</th>\n",
       "      <td>M Amarnath</td>\n",
       "      <td>1984-1984</td>\n",
       "      <td>1</td>\n",
       "      <td>0</td>\n",
       "      <td>0</td>\n",
       "      <td>0</td>\n",
       "      <td>1</td>\n",
       "      <td>-</td>\n",
       "    </tr>\n",
       "    <tr>\n",
       "      <th>8</th>\n",
       "      <td>DB Vengsarkar</td>\n",
       "      <td>1987-1989</td>\n",
       "      <td>18</td>\n",
       "      <td>8</td>\n",
       "      <td>10</td>\n",
       "      <td>0</td>\n",
       "      <td>0</td>\n",
       "      <td>44.44</td>\n",
       "    </tr>\n",
       "    <tr>\n",
       "      <th>9</th>\n",
       "      <td>RJ Shastri</td>\n",
       "      <td>1987-1991</td>\n",
       "      <td>11</td>\n",
       "      <td>4</td>\n",
       "      <td>7</td>\n",
       "      <td>0</td>\n",
       "      <td>0</td>\n",
       "      <td>36.36</td>\n",
       "    </tr>\n",
       "    <tr>\n",
       "      <th>10</th>\n",
       "      <td>K Srikkanth</td>\n",
       "      <td>1989-1989</td>\n",
       "      <td>13</td>\n",
       "      <td>4</td>\n",
       "      <td>8</td>\n",
       "      <td>0</td>\n",
       "      <td>1</td>\n",
       "      <td>33.33</td>\n",
       "    </tr>\n",
       "    <tr>\n",
       "      <th>11</th>\n",
       "      <td>M Azharuddin</td>\n",
       "      <td>1990-1999</td>\n",
       "      <td>174</td>\n",
       "      <td>90</td>\n",
       "      <td>76</td>\n",
       "      <td>2</td>\n",
       "      <td>6</td>\n",
       "      <td>54.16</td>\n",
       "    </tr>\n",
       "    <tr>\n",
       "      <th>12</th>\n",
       "      <td>SR Tendulkar</td>\n",
       "      <td>1996-2000</td>\n",
       "      <td>73</td>\n",
       "      <td>23</td>\n",
       "      <td>43</td>\n",
       "      <td>1</td>\n",
       "      <td>6</td>\n",
       "      <td>35.07</td>\n",
       "    </tr>\n",
       "    <tr>\n",
       "      <th>13</th>\n",
       "      <td>A Jadeja</td>\n",
       "      <td>1998-1999</td>\n",
       "      <td>13</td>\n",
       "      <td>8</td>\n",
       "      <td>5</td>\n",
       "      <td>0</td>\n",
       "      <td>0</td>\n",
       "      <td>61.53</td>\n",
       "    </tr>\n",
       "    <tr>\n",
       "      <th>14</th>\n",
       "      <td>SC Ganguly</td>\n",
       "      <td>1999-2005</td>\n",
       "      <td>146</td>\n",
       "      <td>76</td>\n",
       "      <td>65</td>\n",
       "      <td>0</td>\n",
       "      <td>5</td>\n",
       "      <td>53.90</td>\n",
       "    </tr>\n",
       "    <tr>\n",
       "      <th>15</th>\n",
       "      <td>R Dravid</td>\n",
       "      <td>2000-2007</td>\n",
       "      <td>79</td>\n",
       "      <td>42</td>\n",
       "      <td>33</td>\n",
       "      <td>0</td>\n",
       "      <td>4</td>\n",
       "      <td>56.00</td>\n",
       "    </tr>\n",
       "    <tr>\n",
       "      <th>16</th>\n",
       "      <td>A Kumble</td>\n",
       "      <td>2002-2002</td>\n",
       "      <td>1</td>\n",
       "      <td>1</td>\n",
       "      <td>0</td>\n",
       "      <td>0</td>\n",
       "      <td>0</td>\n",
       "      <td>100.00</td>\n",
       "    </tr>\n",
       "    <tr>\n",
       "      <th>17</th>\n",
       "      <td>V Sehwag</td>\n",
       "      <td>2003-2012</td>\n",
       "      <td>12</td>\n",
       "      <td>7</td>\n",
       "      <td>5</td>\n",
       "      <td>0</td>\n",
       "      <td>0</td>\n",
       "      <td>58.33</td>\n",
       "    </tr>\n",
       "    <tr>\n",
       "      <th>18</th>\n",
       "      <td>MS Dhoni</td>\n",
       "      <td>2007-2016</td>\n",
       "      <td>199</td>\n",
       "      <td>110</td>\n",
       "      <td>74</td>\n",
       "      <td>4</td>\n",
       "      <td>11</td>\n",
       "      <td>59.57</td>\n",
       "    </tr>\n",
       "    <tr>\n",
       "      <th>19</th>\n",
       "      <td>SK Raina</td>\n",
       "      <td>2010-2014</td>\n",
       "      <td>12</td>\n",
       "      <td>6</td>\n",
       "      <td>5</td>\n",
       "      <td>0</td>\n",
       "      <td>1</td>\n",
       "      <td>54.54</td>\n",
       "    </tr>\n",
       "    <tr>\n",
       "      <th>20</th>\n",
       "      <td>G Gambhir</td>\n",
       "      <td>2010-2011</td>\n",
       "      <td>6</td>\n",
       "      <td>6</td>\n",
       "      <td>0</td>\n",
       "      <td>0</td>\n",
       "      <td>0</td>\n",
       "      <td>100.00</td>\n",
       "    </tr>\n",
       "    <tr>\n",
       "      <th>21</th>\n",
       "      <td>V Kohli</td>\n",
       "      <td>2013-2018</td>\n",
       "      <td>52</td>\n",
       "      <td>39</td>\n",
       "      <td>12</td>\n",
       "      <td>0</td>\n",
       "      <td>1</td>\n",
       "      <td>76.47</td>\n",
       "    </tr>\n",
       "    <tr>\n",
       "      <th>22</th>\n",
       "      <td>AM Rahane</td>\n",
       "      <td>2015-2015</td>\n",
       "      <td>3</td>\n",
       "      <td>3</td>\n",
       "      <td>0</td>\n",
       "      <td>0</td>\n",
       "      <td>0</td>\n",
       "      <td>100.00</td>\n",
       "    </tr>\n",
       "    <tr>\n",
       "      <th>23</th>\n",
       "      <td>RG Sharma</td>\n",
       "      <td>2017-2017</td>\n",
       "      <td>3</td>\n",
       "      <td>2</td>\n",
       "      <td>1</td>\n",
       "      <td>0</td>\n",
       "      <td>0</td>\n",
       "      <td>66.66</td>\n",
       "    </tr>\n",
       "  </tbody>\n",
       "</table>\n",
       "</div>"
      ],
      "text/plain": [
       "           Player       Span  Mat  Won  Lost  Tied  NR       %\n",
       "0        S Venkat  1975-1979    7    1     6     0   0   14.28\n",
       "1         BS Bedi  1976-1978    4    1     3     0   0   25.00\n",
       "2      AL Wadekar  1974-1974    2    0     2     0   0    0.00\n",
       "3     SM Gavaskar  1980-1985   37   14    21     0   2   40.00\n",
       "4    GR Viswanath  1981-1981    1    0     1     0   0    0.00\n",
       "5     N Kapil Dev  1982-1987   74   39    33     0   2   54.16\n",
       "6     SMH Kirmani  1983-1983    1    0     1     0   0    0.00\n",
       "7      M Amarnath  1984-1984    1    0     0     0   1       -\n",
       "8   DB Vengsarkar  1987-1989   18    8    10     0   0   44.44\n",
       "9      RJ Shastri  1987-1991   11    4     7     0   0   36.36\n",
       "10    K Srikkanth  1989-1989   13    4     8     0   1   33.33\n",
       "11   M Azharuddin  1990-1999  174   90    76     2   6   54.16\n",
       "12   SR Tendulkar  1996-2000   73   23    43     1   6   35.07\n",
       "13       A Jadeja  1998-1999   13    8     5     0   0   61.53\n",
       "14     SC Ganguly  1999-2005  146   76    65     0   5   53.90\n",
       "15       R Dravid  2000-2007   79   42    33     0   4   56.00\n",
       "16       A Kumble  2002-2002    1    1     0     0   0  100.00\n",
       "17       V Sehwag  2003-2012   12    7     5     0   0   58.33\n",
       "18       MS Dhoni  2007-2016  199  110    74     4  11   59.57\n",
       "19       SK Raina  2010-2014   12    6     5     0   1   54.54\n",
       "20      G Gambhir  2010-2011    6    6     0     0   0  100.00\n",
       "21        V Kohli  2013-2018   52   39    12     0   1   76.47\n",
       "22      AM Rahane  2015-2015    3    3     0     0   0  100.00\n",
       "23      RG Sharma  2017-2017    3    2     1     0   0   66.66"
      ]
     },
     "execution_count": 37,
     "metadata": {},
     "output_type": "execute_result"
    }
   ],
   "source": [
    "df = pd.read_csv(\"Data/captains.txt\")\n",
    "df\n",
    "\n",
    "# Column Labels : Player, Span, Mat ...\n",
    "# Row Labels : 0, 1, 2, 3 ...."
   ]
  },
  {
   "cell_type": "code",
   "execution_count": 38,
   "id": "3a7cd04b-be42-4686-a36c-53101b2c1a43",
   "metadata": {},
   "outputs": [
    {
     "data": {
      "text/plain": [
       "pandas.core.frame.DataFrame"
      ]
     },
     "execution_count": 38,
     "metadata": {},
     "output_type": "execute_result"
    }
   ],
   "source": [
    "type(df)"
   ]
  },
  {
   "cell_type": "markdown",
   "id": "e3dd9101-315b-4c54-975c-db9bd3f8336c",
   "metadata": {},
   "source": [
    "## Get a sneak peak of the rows at the top of the file"
   ]
  },
  {
   "cell_type": "code",
   "execution_count": 39,
   "id": "e097e18b-1f59-4313-ae8f-5fd4a387dd57",
   "metadata": {},
   "outputs": [
    {
     "data": {
      "text/html": [
       "<div>\n",
       "<style scoped>\n",
       "    .dataframe tbody tr th:only-of-type {\n",
       "        vertical-align: middle;\n",
       "    }\n",
       "\n",
       "    .dataframe tbody tr th {\n",
       "        vertical-align: top;\n",
       "    }\n",
       "\n",
       "    .dataframe thead th {\n",
       "        text-align: right;\n",
       "    }\n",
       "</style>\n",
       "<table border=\"1\" class=\"dataframe\">\n",
       "  <thead>\n",
       "    <tr style=\"text-align: right;\">\n",
       "      <th></th>\n",
       "      <th>Player</th>\n",
       "      <th>Span</th>\n",
       "      <th>Mat</th>\n",
       "      <th>Won</th>\n",
       "      <th>Lost</th>\n",
       "      <th>Tied</th>\n",
       "      <th>NR</th>\n",
       "      <th>%</th>\n",
       "    </tr>\n",
       "  </thead>\n",
       "  <tbody>\n",
       "    <tr>\n",
       "      <th>0</th>\n",
       "      <td>S Venkat</td>\n",
       "      <td>1975-1979</td>\n",
       "      <td>7</td>\n",
       "      <td>1</td>\n",
       "      <td>6</td>\n",
       "      <td>0</td>\n",
       "      <td>0</td>\n",
       "      <td>14.28</td>\n",
       "    </tr>\n",
       "    <tr>\n",
       "      <th>1</th>\n",
       "      <td>BS Bedi</td>\n",
       "      <td>1976-1978</td>\n",
       "      <td>4</td>\n",
       "      <td>1</td>\n",
       "      <td>3</td>\n",
       "      <td>0</td>\n",
       "      <td>0</td>\n",
       "      <td>25.00</td>\n",
       "    </tr>\n",
       "    <tr>\n",
       "      <th>2</th>\n",
       "      <td>AL Wadekar</td>\n",
       "      <td>1974-1974</td>\n",
       "      <td>2</td>\n",
       "      <td>0</td>\n",
       "      <td>2</td>\n",
       "      <td>0</td>\n",
       "      <td>0</td>\n",
       "      <td>0.00</td>\n",
       "    </tr>\n",
       "    <tr>\n",
       "      <th>3</th>\n",
       "      <td>SM Gavaskar</td>\n",
       "      <td>1980-1985</td>\n",
       "      <td>37</td>\n",
       "      <td>14</td>\n",
       "      <td>21</td>\n",
       "      <td>0</td>\n",
       "      <td>2</td>\n",
       "      <td>40.00</td>\n",
       "    </tr>\n",
       "    <tr>\n",
       "      <th>4</th>\n",
       "      <td>GR Viswanath</td>\n",
       "      <td>1981-1981</td>\n",
       "      <td>1</td>\n",
       "      <td>0</td>\n",
       "      <td>1</td>\n",
       "      <td>0</td>\n",
       "      <td>0</td>\n",
       "      <td>0.00</td>\n",
       "    </tr>\n",
       "  </tbody>\n",
       "</table>\n",
       "</div>"
      ],
      "text/plain": [
       "         Player       Span  Mat  Won  Lost  Tied  NR      %\n",
       "0      S Venkat  1975-1979    7    1     6     0   0  14.28\n",
       "1       BS Bedi  1976-1978    4    1     3     0   0  25.00\n",
       "2    AL Wadekar  1974-1974    2    0     2     0   0   0.00\n",
       "3   SM Gavaskar  1980-1985   37   14    21     0   2  40.00\n",
       "4  GR Viswanath  1981-1981    1    0     1     0   0   0.00"
      ]
     },
     "execution_count": 39,
     "metadata": {},
     "output_type": "execute_result"
    }
   ],
   "source": [
    "df.head()"
   ]
  },
  {
   "cell_type": "markdown",
   "id": "c6dd9934-5f9e-442e-87a9-c4762bf22bd3",
   "metadata": {},
   "source": [
    "## Fetch the last 5 rows"
   ]
  },
  {
   "cell_type": "code",
   "execution_count": 40,
   "id": "694bc5a4-3000-488c-95e9-a6d96554dcb6",
   "metadata": {},
   "outputs": [
    {
     "data": {
      "text/html": [
       "<div>\n",
       "<style scoped>\n",
       "    .dataframe tbody tr th:only-of-type {\n",
       "        vertical-align: middle;\n",
       "    }\n",
       "\n",
       "    .dataframe tbody tr th {\n",
       "        vertical-align: top;\n",
       "    }\n",
       "\n",
       "    .dataframe thead th {\n",
       "        text-align: right;\n",
       "    }\n",
       "</style>\n",
       "<table border=\"1\" class=\"dataframe\">\n",
       "  <thead>\n",
       "    <tr style=\"text-align: right;\">\n",
       "      <th></th>\n",
       "      <th>Player</th>\n",
       "      <th>Span</th>\n",
       "      <th>Mat</th>\n",
       "      <th>Won</th>\n",
       "      <th>Lost</th>\n",
       "      <th>Tied</th>\n",
       "      <th>NR</th>\n",
       "      <th>%</th>\n",
       "    </tr>\n",
       "  </thead>\n",
       "  <tbody>\n",
       "    <tr>\n",
       "      <th>19</th>\n",
       "      <td>SK Raina</td>\n",
       "      <td>2010-2014</td>\n",
       "      <td>12</td>\n",
       "      <td>6</td>\n",
       "      <td>5</td>\n",
       "      <td>0</td>\n",
       "      <td>1</td>\n",
       "      <td>54.54</td>\n",
       "    </tr>\n",
       "    <tr>\n",
       "      <th>20</th>\n",
       "      <td>G Gambhir</td>\n",
       "      <td>2010-2011</td>\n",
       "      <td>6</td>\n",
       "      <td>6</td>\n",
       "      <td>0</td>\n",
       "      <td>0</td>\n",
       "      <td>0</td>\n",
       "      <td>100.00</td>\n",
       "    </tr>\n",
       "    <tr>\n",
       "      <th>21</th>\n",
       "      <td>V Kohli</td>\n",
       "      <td>2013-2018</td>\n",
       "      <td>52</td>\n",
       "      <td>39</td>\n",
       "      <td>12</td>\n",
       "      <td>0</td>\n",
       "      <td>1</td>\n",
       "      <td>76.47</td>\n",
       "    </tr>\n",
       "    <tr>\n",
       "      <th>22</th>\n",
       "      <td>AM Rahane</td>\n",
       "      <td>2015-2015</td>\n",
       "      <td>3</td>\n",
       "      <td>3</td>\n",
       "      <td>0</td>\n",
       "      <td>0</td>\n",
       "      <td>0</td>\n",
       "      <td>100.00</td>\n",
       "    </tr>\n",
       "    <tr>\n",
       "      <th>23</th>\n",
       "      <td>RG Sharma</td>\n",
       "      <td>2017-2017</td>\n",
       "      <td>3</td>\n",
       "      <td>2</td>\n",
       "      <td>1</td>\n",
       "      <td>0</td>\n",
       "      <td>0</td>\n",
       "      <td>66.66</td>\n",
       "    </tr>\n",
       "  </tbody>\n",
       "</table>\n",
       "</div>"
      ],
      "text/plain": [
       "       Player       Span  Mat  Won  Lost  Tied  NR       %\n",
       "19   SK Raina  2010-2014   12    6     5     0   1   54.54\n",
       "20  G Gambhir  2010-2011    6    6     0     0   0  100.00\n",
       "21    V Kohli  2013-2018   52   39    12     0   1   76.47\n",
       "22  AM Rahane  2015-2015    3    3     0     0   0  100.00\n",
       "23  RG Sharma  2017-2017    3    2     1     0   0   66.66"
      ]
     },
     "execution_count": 40,
     "metadata": {},
     "output_type": "execute_result"
    }
   ],
   "source": [
    "df.tail()"
   ]
  },
  {
   "cell_type": "code",
   "execution_count": 41,
   "id": "9c73952d-282a-431d-86af-85a0d5ba5e9b",
   "metadata": {},
   "outputs": [
    {
     "data": {
      "text/html": [
       "<div>\n",
       "<style scoped>\n",
       "    .dataframe tbody tr th:only-of-type {\n",
       "        vertical-align: middle;\n",
       "    }\n",
       "\n",
       "    .dataframe tbody tr th {\n",
       "        vertical-align: top;\n",
       "    }\n",
       "\n",
       "    .dataframe thead th {\n",
       "        text-align: right;\n",
       "    }\n",
       "</style>\n",
       "<table border=\"1\" class=\"dataframe\">\n",
       "  <thead>\n",
       "    <tr style=\"text-align: right;\">\n",
       "      <th></th>\n",
       "      <th>Player</th>\n",
       "      <th>Span</th>\n",
       "      <th>Mat</th>\n",
       "      <th>Won</th>\n",
       "      <th>Lost</th>\n",
       "      <th>Tied</th>\n",
       "      <th>NR</th>\n",
       "      <th>%</th>\n",
       "    </tr>\n",
       "  </thead>\n",
       "  <tbody>\n",
       "    <tr>\n",
       "      <th>16</th>\n",
       "      <td>A Kumble</td>\n",
       "      <td>2002-2002</td>\n",
       "      <td>1</td>\n",
       "      <td>1</td>\n",
       "      <td>0</td>\n",
       "      <td>0</td>\n",
       "      <td>0</td>\n",
       "      <td>100.00</td>\n",
       "    </tr>\n",
       "    <tr>\n",
       "      <th>17</th>\n",
       "      <td>V Sehwag</td>\n",
       "      <td>2003-2012</td>\n",
       "      <td>12</td>\n",
       "      <td>7</td>\n",
       "      <td>5</td>\n",
       "      <td>0</td>\n",
       "      <td>0</td>\n",
       "      <td>58.33</td>\n",
       "    </tr>\n",
       "    <tr>\n",
       "      <th>18</th>\n",
       "      <td>MS Dhoni</td>\n",
       "      <td>2007-2016</td>\n",
       "      <td>199</td>\n",
       "      <td>110</td>\n",
       "      <td>74</td>\n",
       "      <td>4</td>\n",
       "      <td>11</td>\n",
       "      <td>59.57</td>\n",
       "    </tr>\n",
       "    <tr>\n",
       "      <th>19</th>\n",
       "      <td>SK Raina</td>\n",
       "      <td>2010-2014</td>\n",
       "      <td>12</td>\n",
       "      <td>6</td>\n",
       "      <td>5</td>\n",
       "      <td>0</td>\n",
       "      <td>1</td>\n",
       "      <td>54.54</td>\n",
       "    </tr>\n",
       "    <tr>\n",
       "      <th>20</th>\n",
       "      <td>G Gambhir</td>\n",
       "      <td>2010-2011</td>\n",
       "      <td>6</td>\n",
       "      <td>6</td>\n",
       "      <td>0</td>\n",
       "      <td>0</td>\n",
       "      <td>0</td>\n",
       "      <td>100.00</td>\n",
       "    </tr>\n",
       "    <tr>\n",
       "      <th>21</th>\n",
       "      <td>V Kohli</td>\n",
       "      <td>2013-2018</td>\n",
       "      <td>52</td>\n",
       "      <td>39</td>\n",
       "      <td>12</td>\n",
       "      <td>0</td>\n",
       "      <td>1</td>\n",
       "      <td>76.47</td>\n",
       "    </tr>\n",
       "    <tr>\n",
       "      <th>22</th>\n",
       "      <td>AM Rahane</td>\n",
       "      <td>2015-2015</td>\n",
       "      <td>3</td>\n",
       "      <td>3</td>\n",
       "      <td>0</td>\n",
       "      <td>0</td>\n",
       "      <td>0</td>\n",
       "      <td>100.00</td>\n",
       "    </tr>\n",
       "    <tr>\n",
       "      <th>23</th>\n",
       "      <td>RG Sharma</td>\n",
       "      <td>2017-2017</td>\n",
       "      <td>3</td>\n",
       "      <td>2</td>\n",
       "      <td>1</td>\n",
       "      <td>0</td>\n",
       "      <td>0</td>\n",
       "      <td>66.66</td>\n",
       "    </tr>\n",
       "  </tbody>\n",
       "</table>\n",
       "</div>"
      ],
      "text/plain": [
       "       Player       Span  Mat  Won  Lost  Tied  NR       %\n",
       "16   A Kumble  2002-2002    1    1     0     0   0  100.00\n",
       "17   V Sehwag  2003-2012   12    7     5     0   0   58.33\n",
       "18   MS Dhoni  2007-2016  199  110    74     4  11   59.57\n",
       "19   SK Raina  2010-2014   12    6     5     0   1   54.54\n",
       "20  G Gambhir  2010-2011    6    6     0     0   0  100.00\n",
       "21    V Kohli  2013-2018   52   39    12     0   1   76.47\n",
       "22  AM Rahane  2015-2015    3    3     0     0   0  100.00\n",
       "23  RG Sharma  2017-2017    3    2     1     0   0   66.66"
      ]
     },
     "execution_count": 41,
     "metadata": {},
     "output_type": "execute_result"
    }
   ],
   "source": [
    "df.tail(8) # Last 8 rows"
   ]
  },
  {
   "cell_type": "markdown",
   "id": "fa39145f-22bb-4858-9921-01339ff610e4",
   "metadata": {},
   "source": [
    "## Find the number of rows and columns in the dataset"
   ]
  },
  {
   "cell_type": "code",
   "execution_count": 42,
   "id": "1acb8b27-02fa-42d2-ac09-c705dfbd57df",
   "metadata": {},
   "outputs": [
    {
     "data": {
      "text/plain": [
       "(24, 8)"
      ]
     },
     "execution_count": 42,
     "metadata": {},
     "output_type": "execute_result"
    }
   ],
   "source": [
    "df.shape"
   ]
  },
  {
   "cell_type": "code",
   "execution_count": 43,
   "id": "18236ba2-d7d1-43a3-a371-b62c65b0847a",
   "metadata": {},
   "outputs": [],
   "source": [
    "n_rows, n_cols = df.shape"
   ]
  },
  {
   "cell_type": "code",
   "execution_count": 44,
   "id": "e10ee4c0-b75c-4495-8171-5a1a9e5a7457",
   "metadata": {},
   "outputs": [
    {
     "data": {
      "text/plain": [
       "24"
      ]
     },
     "execution_count": 44,
     "metadata": {},
     "output_type": "execute_result"
    }
   ],
   "source": [
    "n_rows"
   ]
  },
  {
   "cell_type": "code",
   "execution_count": 45,
   "id": "40b9a602-a361-44c9-ad86-d522ee9c2788",
   "metadata": {},
   "outputs": [
    {
     "data": {
      "text/plain": [
       "8"
      ]
     },
     "execution_count": 45,
     "metadata": {},
     "output_type": "execute_result"
    }
   ],
   "source": [
    "n_cols"
   ]
  },
  {
   "cell_type": "markdown",
   "id": "7fba8121-2b43-403b-9d38-ffd0428a418b",
   "metadata": {},
   "source": [
    "## Get information about columns"
   ]
  },
  {
   "cell_type": "markdown",
   "id": "bb9d391e-1a1e-4374-8492-5af3ecc32ba4",
   "metadata": {},
   "source": [
    "### List all the column names"
   ]
  },
  {
   "cell_type": "code",
   "execution_count": 46,
   "id": "27433a7d-83df-4c73-8c4e-e5c0aea9a865",
   "metadata": {},
   "outputs": [
    {
     "data": {
      "text/plain": [
       "Index(['Player', 'Span', 'Mat', 'Won', 'Lost', 'Tied', 'NR', '%'], dtype='object')"
      ]
     },
     "execution_count": 46,
     "metadata": {},
     "output_type": "execute_result"
    }
   ],
   "source": [
    "df.columns"
   ]
  },
  {
   "cell_type": "code",
   "execution_count": 47,
   "id": "7d10ac94-91df-4d13-a56c-f79eb9995ff0",
   "metadata": {},
   "outputs": [
    {
     "data": {
      "text/plain": [
       "['Player', 'Span', 'Mat', 'Won', 'Lost', 'Tied', 'NR', '%']"
      ]
     },
     "execution_count": 47,
     "metadata": {},
     "output_type": "execute_result"
    }
   ],
   "source": [
    "cols = df.columns.tolist()\n",
    "cols"
   ]
  },
  {
   "cell_type": "markdown",
   "id": "2711800a-b96e-443f-a311-ffa8690e7ef4",
   "metadata": {},
   "source": [
    "## Rename the column"
   ]
  },
  {
   "cell_type": "code",
   "execution_count": 48,
   "id": "52b5391f-e13b-4102-8e4f-6f6e4d9486a3",
   "metadata": {},
   "outputs": [
    {
     "data": {
      "text/plain": [
       "['Player', 'Span', 'Mat', 'Won', 'Lost', 'Tied', 'NR', 'Perc']"
      ]
     },
     "execution_count": 48,
     "metadata": {},
     "output_type": "execute_result"
    }
   ],
   "source": [
    "cols[-1] = \"Perc\"\n",
    "cols"
   ]
  },
  {
   "cell_type": "code",
   "execution_count": 49,
   "id": "98d05ca5-2892-4875-bbd4-6113fe74d385",
   "metadata": {},
   "outputs": [],
   "source": [
    "df.columns = cols"
   ]
  },
  {
   "cell_type": "code",
   "execution_count": 50,
   "id": "5ebc9fed-ce94-4f64-b0d8-ad691dd64f8e",
   "metadata": {},
   "outputs": [
    {
     "data": {
      "text/html": [
       "<div>\n",
       "<style scoped>\n",
       "    .dataframe tbody tr th:only-of-type {\n",
       "        vertical-align: middle;\n",
       "    }\n",
       "\n",
       "    .dataframe tbody tr th {\n",
       "        vertical-align: top;\n",
       "    }\n",
       "\n",
       "    .dataframe thead th {\n",
       "        text-align: right;\n",
       "    }\n",
       "</style>\n",
       "<table border=\"1\" class=\"dataframe\">\n",
       "  <thead>\n",
       "    <tr style=\"text-align: right;\">\n",
       "      <th></th>\n",
       "      <th>Player</th>\n",
       "      <th>Span</th>\n",
       "      <th>Mat</th>\n",
       "      <th>Won</th>\n",
       "      <th>Lost</th>\n",
       "      <th>Tied</th>\n",
       "      <th>NR</th>\n",
       "      <th>Perc</th>\n",
       "    </tr>\n",
       "  </thead>\n",
       "  <tbody>\n",
       "    <tr>\n",
       "      <th>0</th>\n",
       "      <td>S Venkat</td>\n",
       "      <td>1975-1979</td>\n",
       "      <td>7</td>\n",
       "      <td>1</td>\n",
       "      <td>6</td>\n",
       "      <td>0</td>\n",
       "      <td>0</td>\n",
       "      <td>14.28</td>\n",
       "    </tr>\n",
       "    <tr>\n",
       "      <th>1</th>\n",
       "      <td>BS Bedi</td>\n",
       "      <td>1976-1978</td>\n",
       "      <td>4</td>\n",
       "      <td>1</td>\n",
       "      <td>3</td>\n",
       "      <td>0</td>\n",
       "      <td>0</td>\n",
       "      <td>25.00</td>\n",
       "    </tr>\n",
       "    <tr>\n",
       "      <th>2</th>\n",
       "      <td>AL Wadekar</td>\n",
       "      <td>1974-1974</td>\n",
       "      <td>2</td>\n",
       "      <td>0</td>\n",
       "      <td>2</td>\n",
       "      <td>0</td>\n",
       "      <td>0</td>\n",
       "      <td>0.00</td>\n",
       "    </tr>\n",
       "    <tr>\n",
       "      <th>3</th>\n",
       "      <td>SM Gavaskar</td>\n",
       "      <td>1980-1985</td>\n",
       "      <td>37</td>\n",
       "      <td>14</td>\n",
       "      <td>21</td>\n",
       "      <td>0</td>\n",
       "      <td>2</td>\n",
       "      <td>40.00</td>\n",
       "    </tr>\n",
       "    <tr>\n",
       "      <th>4</th>\n",
       "      <td>GR Viswanath</td>\n",
       "      <td>1981-1981</td>\n",
       "      <td>1</td>\n",
       "      <td>0</td>\n",
       "      <td>1</td>\n",
       "      <td>0</td>\n",
       "      <td>0</td>\n",
       "      <td>0.00</td>\n",
       "    </tr>\n",
       "  </tbody>\n",
       "</table>\n",
       "</div>"
      ],
      "text/plain": [
       "         Player       Span  Mat  Won  Lost  Tied  NR   Perc\n",
       "0      S Venkat  1975-1979    7    1     6     0   0  14.28\n",
       "1       BS Bedi  1976-1978    4    1     3     0   0  25.00\n",
       "2    AL Wadekar  1974-1974    2    0     2     0   0   0.00\n",
       "3   SM Gavaskar  1980-1985   37   14    21     0   2  40.00\n",
       "4  GR Viswanath  1981-1981    1    0     1     0   0   0.00"
      ]
     },
     "execution_count": 50,
     "metadata": {},
     "output_type": "execute_result"
    }
   ],
   "source": [
    "df.head()"
   ]
  },
  {
   "cell_type": "markdown",
   "id": "abccec4c-0e0a-41cf-b942-d45a3ec9262a",
   "metadata": {},
   "source": [
    "## Column specific details"
   ]
  },
  {
   "cell_type": "code",
   "execution_count": 51,
   "id": "a71be4ef-3d1e-4092-a4ab-b4b29ac2385c",
   "metadata": {},
   "outputs": [
    {
     "name": "stdout",
     "output_type": "stream",
     "text": [
      "<class 'pandas.core.frame.DataFrame'>\n",
      "RangeIndex: 24 entries, 0 to 23\n",
      "Data columns (total 8 columns):\n",
      " #   Column  Non-Null Count  Dtype \n",
      "---  ------  --------------  ----- \n",
      " 0   Player  24 non-null     object\n",
      " 1   Span    24 non-null     object\n",
      " 2   Mat     24 non-null     int64 \n",
      " 3   Won     24 non-null     int64 \n",
      " 4   Lost    24 non-null     int64 \n",
      " 5   Tied    24 non-null     int64 \n",
      " 6   NR      24 non-null     int64 \n",
      " 7   Perc    24 non-null     object\n",
      "dtypes: int64(5), object(3)\n",
      "memory usage: 1.6+ KB\n"
     ]
    }
   ],
   "source": [
    "df.info()"
   ]
  },
  {
   "cell_type": "markdown",
   "id": "b0c2a126-a516-4291-878e-bc0a501c587c",
   "metadata": {},
   "source": [
    "#### Things to infer from `df.info()`\n",
    "\n",
    "- Check if there are any missing values\n",
    "- Check if all columns have the proper data type\n",
    "- Find out how much data is consumed by this DF ( approximately )"
   ]
  },
  {
   "cell_type": "code",
   "execution_count": 52,
   "id": "9f7a0758-78a8-4dac-821a-0ec226a09063",
   "metadata": {},
   "outputs": [
    {
     "data": {
      "text/html": [
       "<div>\n",
       "<style scoped>\n",
       "    .dataframe tbody tr th:only-of-type {\n",
       "        vertical-align: middle;\n",
       "    }\n",
       "\n",
       "    .dataframe tbody tr th {\n",
       "        vertical-align: top;\n",
       "    }\n",
       "\n",
       "    .dataframe thead th {\n",
       "        text-align: right;\n",
       "    }\n",
       "</style>\n",
       "<table border=\"1\" class=\"dataframe\">\n",
       "  <thead>\n",
       "    <tr style=\"text-align: right;\">\n",
       "      <th></th>\n",
       "      <th>Player</th>\n",
       "      <th>Span</th>\n",
       "      <th>Mat</th>\n",
       "      <th>Won</th>\n",
       "      <th>Lost</th>\n",
       "      <th>Tied</th>\n",
       "      <th>NR</th>\n",
       "      <th>Perc</th>\n",
       "    </tr>\n",
       "  </thead>\n",
       "  <tbody>\n",
       "    <tr>\n",
       "      <th>0</th>\n",
       "      <td>S Venkat</td>\n",
       "      <td>1975-1979</td>\n",
       "      <td>7</td>\n",
       "      <td>1</td>\n",
       "      <td>6</td>\n",
       "      <td>0</td>\n",
       "      <td>0</td>\n",
       "      <td>14.28</td>\n",
       "    </tr>\n",
       "    <tr>\n",
       "      <th>1</th>\n",
       "      <td>BS Bedi</td>\n",
       "      <td>1976-1978</td>\n",
       "      <td>4</td>\n",
       "      <td>1</td>\n",
       "      <td>3</td>\n",
       "      <td>0</td>\n",
       "      <td>0</td>\n",
       "      <td>25.00</td>\n",
       "    </tr>\n",
       "    <tr>\n",
       "      <th>2</th>\n",
       "      <td>AL Wadekar</td>\n",
       "      <td>1974-1974</td>\n",
       "      <td>2</td>\n",
       "      <td>0</td>\n",
       "      <td>2</td>\n",
       "      <td>0</td>\n",
       "      <td>0</td>\n",
       "      <td>0.00</td>\n",
       "    </tr>\n",
       "    <tr>\n",
       "      <th>3</th>\n",
       "      <td>SM Gavaskar</td>\n",
       "      <td>1980-1985</td>\n",
       "      <td>37</td>\n",
       "      <td>14</td>\n",
       "      <td>21</td>\n",
       "      <td>0</td>\n",
       "      <td>2</td>\n",
       "      <td>40.00</td>\n",
       "    </tr>\n",
       "    <tr>\n",
       "      <th>4</th>\n",
       "      <td>GR Viswanath</td>\n",
       "      <td>1981-1981</td>\n",
       "      <td>1</td>\n",
       "      <td>0</td>\n",
       "      <td>1</td>\n",
       "      <td>0</td>\n",
       "      <td>0</td>\n",
       "      <td>0.00</td>\n",
       "    </tr>\n",
       "  </tbody>\n",
       "</table>\n",
       "</div>"
      ],
      "text/plain": [
       "         Player       Span  Mat  Won  Lost  Tied  NR   Perc\n",
       "0      S Venkat  1975-1979    7    1     6     0   0  14.28\n",
       "1       BS Bedi  1976-1978    4    1     3     0   0  25.00\n",
       "2    AL Wadekar  1974-1974    2    0     2     0   0   0.00\n",
       "3   SM Gavaskar  1980-1985   37   14    21     0   2  40.00\n",
       "4  GR Viswanath  1981-1981    1    0     1     0   0   0.00"
      ]
     },
     "execution_count": 52,
     "metadata": {},
     "output_type": "execute_result"
    }
   ],
   "source": [
    "df.head()"
   ]
  },
  {
   "cell_type": "code",
   "execution_count": 53,
   "id": "1f8546d8-6deb-47c2-a67d-8b2c148a071a",
   "metadata": {},
   "outputs": [],
   "source": [
    "# def f(x):\n",
    "#    return 10"
   ]
  },
  {
   "cell_type": "code",
   "execution_count": 54,
   "id": "9f39cb24-c3b9-4f24-a856-cb4f3ccac86b",
   "metadata": {},
   "outputs": [],
   "source": [
    "# f"
   ]
  },
  {
   "cell_type": "code",
   "execution_count": 55,
   "id": "affa2937-8c95-4f25-b2fb-3467f4f2030b",
   "metadata": {},
   "outputs": [],
   "source": [
    "# df.info"
   ]
  },
  {
   "cell_type": "code",
   "execution_count": 56,
   "id": "655b4897-db42-460c-9593-6d227966b64d",
   "metadata": {},
   "outputs": [],
   "source": [
    "# Viewing the source code\n",
    "# pd.read_csv??"
   ]
  },
  {
   "cell_type": "markdown",
   "id": "16062d24-3603-4010-88c2-8bbd98792ce1",
   "metadata": {},
   "source": [
    "## Fetching a single column\n",
    "\n",
    "- Achieved using indexing operation `[]`\n",
    "- All operations are usually done by default on a column"
   ]
  },
  {
   "cell_type": "code",
   "execution_count": 57,
   "id": "64b31a34-1610-4a33-ba19-acbe0388118c",
   "metadata": {},
   "outputs": [
    {
     "data": {
      "text/plain": [
       "Index(['Player', 'Span', 'Mat', 'Won', 'Lost', 'Tied', 'NR', 'Perc'], dtype='object')"
      ]
     },
     "execution_count": 57,
     "metadata": {},
     "output_type": "execute_result"
    }
   ],
   "source": [
    "df.columns"
   ]
  },
  {
   "cell_type": "code",
   "execution_count": 58,
   "id": "e0162317-c4ff-4f6a-96b8-550781808a43",
   "metadata": {},
   "outputs": [
    {
     "data": {
      "text/plain": [
       "0          S Venkat\n",
       "1           BS Bedi\n",
       "2        AL Wadekar\n",
       "3       SM Gavaskar\n",
       "4      GR Viswanath\n",
       "5       N Kapil Dev\n",
       "6       SMH Kirmani\n",
       "7        M Amarnath\n",
       "8     DB Vengsarkar\n",
       "9        RJ Shastri\n",
       "10      K Srikkanth\n",
       "11     M Azharuddin\n",
       "12     SR Tendulkar\n",
       "13         A Jadeja\n",
       "14       SC Ganguly\n",
       "15         R Dravid\n",
       "16         A Kumble\n",
       "17         V Sehwag\n",
       "18         MS Dhoni\n",
       "19         SK Raina\n",
       "20        G Gambhir\n",
       "21          V Kohli\n",
       "22        AM Rahane\n",
       "23        RG Sharma\n",
       "Name: Player, dtype: object"
      ]
     },
     "execution_count": 58,
     "metadata": {},
     "output_type": "execute_result"
    }
   ],
   "source": [
    "df['Player'] # Column label"
   ]
  },
  {
   "cell_type": "code",
   "execution_count": 59,
   "id": "08a49d4f-26fd-40bb-8ed2-ce6e10a921b8",
   "metadata": {},
   "outputs": [
    {
     "data": {
      "text/plain": [
       "pandas.core.series.Series"
      ]
     },
     "execution_count": 59,
     "metadata": {},
     "output_type": "execute_result"
    }
   ],
   "source": [
    "type(df['Player'])"
   ]
  },
  {
   "cell_type": "markdown",
   "id": "f116f6b4-70e6-4875-b428-0f80c4e71e3f",
   "metadata": {},
   "source": [
    "### Fetching a single row"
   ]
  },
  {
   "cell_type": "code",
   "execution_count": 60,
   "id": "70dc728d-bf84-4d2d-b360-95a071afc405",
   "metadata": {},
   "outputs": [
    {
     "data": {
      "text/plain": [
       "Player     S Venkat\n",
       "Span      1975-1979\n",
       "Mat               7\n",
       "Won               1\n",
       "Lost              6\n",
       "Tied              0\n",
       "NR                0\n",
       "Perc          14.28\n",
       "Name: 0, dtype: object"
      ]
     },
     "execution_count": 60,
     "metadata": {},
     "output_type": "execute_result"
    }
   ],
   "source": [
    "df.loc[0] # Row label"
   ]
  },
  {
   "cell_type": "code",
   "execution_count": 61,
   "id": "83618105-df6c-48f4-b2d2-fa9734a1a598",
   "metadata": {},
   "outputs": [
    {
     "data": {
      "text/html": [
       "<div>\n",
       "<style scoped>\n",
       "    .dataframe tbody tr th:only-of-type {\n",
       "        vertical-align: middle;\n",
       "    }\n",
       "\n",
       "    .dataframe tbody tr th {\n",
       "        vertical-align: top;\n",
       "    }\n",
       "\n",
       "    .dataframe thead th {\n",
       "        text-align: right;\n",
       "    }\n",
       "</style>\n",
       "<table border=\"1\" class=\"dataframe\">\n",
       "  <thead>\n",
       "    <tr style=\"text-align: right;\">\n",
       "      <th></th>\n",
       "      <th>Player</th>\n",
       "      <th>Span</th>\n",
       "      <th>Mat</th>\n",
       "      <th>Won</th>\n",
       "      <th>Lost</th>\n",
       "      <th>Tied</th>\n",
       "      <th>NR</th>\n",
       "      <th>Perc</th>\n",
       "    </tr>\n",
       "  </thead>\n",
       "  <tbody>\n",
       "    <tr>\n",
       "      <th>0</th>\n",
       "      <td>S Venkat</td>\n",
       "      <td>1975-1979</td>\n",
       "      <td>7</td>\n",
       "      <td>1</td>\n",
       "      <td>6</td>\n",
       "      <td>0</td>\n",
       "      <td>0</td>\n",
       "      <td>14.28</td>\n",
       "    </tr>\n",
       "    <tr>\n",
       "      <th>1</th>\n",
       "      <td>BS Bedi</td>\n",
       "      <td>1976-1978</td>\n",
       "      <td>4</td>\n",
       "      <td>1</td>\n",
       "      <td>3</td>\n",
       "      <td>0</td>\n",
       "      <td>0</td>\n",
       "      <td>25.00</td>\n",
       "    </tr>\n",
       "    <tr>\n",
       "      <th>2</th>\n",
       "      <td>AL Wadekar</td>\n",
       "      <td>1974-1974</td>\n",
       "      <td>2</td>\n",
       "      <td>0</td>\n",
       "      <td>2</td>\n",
       "      <td>0</td>\n",
       "      <td>0</td>\n",
       "      <td>0.00</td>\n",
       "    </tr>\n",
       "    <tr>\n",
       "      <th>3</th>\n",
       "      <td>SM Gavaskar</td>\n",
       "      <td>1980-1985</td>\n",
       "      <td>37</td>\n",
       "      <td>14</td>\n",
       "      <td>21</td>\n",
       "      <td>0</td>\n",
       "      <td>2</td>\n",
       "      <td>40.00</td>\n",
       "    </tr>\n",
       "    <tr>\n",
       "      <th>4</th>\n",
       "      <td>GR Viswanath</td>\n",
       "      <td>1981-1981</td>\n",
       "      <td>1</td>\n",
       "      <td>0</td>\n",
       "      <td>1</td>\n",
       "      <td>0</td>\n",
       "      <td>0</td>\n",
       "      <td>0.00</td>\n",
       "    </tr>\n",
       "  </tbody>\n",
       "</table>\n",
       "</div>"
      ],
      "text/plain": [
       "         Player       Span  Mat  Won  Lost  Tied  NR   Perc\n",
       "0      S Venkat  1975-1979    7    1     6     0   0  14.28\n",
       "1       BS Bedi  1976-1978    4    1     3     0   0  25.00\n",
       "2    AL Wadekar  1974-1974    2    0     2     0   0   0.00\n",
       "3   SM Gavaskar  1980-1985   37   14    21     0   2  40.00\n",
       "4  GR Viswanath  1981-1981    1    0     1     0   0   0.00"
      ]
     },
     "execution_count": 61,
     "metadata": {},
     "output_type": "execute_result"
    }
   ],
   "source": [
    "df.head()"
   ]
  },
  {
   "cell_type": "markdown",
   "id": "65f5be8c-73ea-4902-ae5e-603bcdb79fd2",
   "metadata": {},
   "source": [
    "## Learnings\n",
    "\n",
    "- Fetching a single column/row returns a Series object"
   ]
  },
  {
   "cell_type": "markdown",
   "id": "fb05d0d1-f811-4707-9ff7-56fc1ced34e0",
   "metadata": {},
   "source": [
    "## Fetch multiple columns\n",
    "\n",
    "```python\n",
    "name = \"Ajay\" # Single value\n",
    "```\n",
    "\n",
    "```python\n",
    "friends = [\"Ajay\", \"Vishal\"] # Use list for storing multiple values\n",
    "```"
   ]
  },
  {
   "cell_type": "code",
   "execution_count": 64,
   "id": "da5ae4aa-ce7c-444b-b452-76d5914a489f",
   "metadata": {},
   "outputs": [
    {
     "data": {
      "text/plain": [
       "0        S Venkat\n",
       "1         BS Bedi\n",
       "2      AL Wadekar\n",
       "3     SM Gavaskar\n",
       "4    GR Viswanath\n",
       "Name: Player, dtype: object"
      ]
     },
     "execution_count": 64,
     "metadata": {},
     "output_type": "execute_result"
    }
   ],
   "source": [
    "col_name = \"Player\"\n",
    "df[ col_name ].head()"
   ]
  },
  {
   "cell_type": "code",
   "execution_count": 65,
   "id": "50bf15df-38ff-4d9c-bad3-9335091f01d9",
   "metadata": {},
   "outputs": [
    {
     "data": {
      "text/html": [
       "<div>\n",
       "<style scoped>\n",
       "    .dataframe tbody tr th:only-of-type {\n",
       "        vertical-align: middle;\n",
       "    }\n",
       "\n",
       "    .dataframe tbody tr th {\n",
       "        vertical-align: top;\n",
       "    }\n",
       "\n",
       "    .dataframe thead th {\n",
       "        text-align: right;\n",
       "    }\n",
       "</style>\n",
       "<table border=\"1\" class=\"dataframe\">\n",
       "  <thead>\n",
       "    <tr style=\"text-align: right;\">\n",
       "      <th></th>\n",
       "      <th>Player</th>\n",
       "      <th>Span</th>\n",
       "    </tr>\n",
       "  </thead>\n",
       "  <tbody>\n",
       "    <tr>\n",
       "      <th>0</th>\n",
       "      <td>S Venkat</td>\n",
       "      <td>1975-1979</td>\n",
       "    </tr>\n",
       "    <tr>\n",
       "      <th>1</th>\n",
       "      <td>BS Bedi</td>\n",
       "      <td>1976-1978</td>\n",
       "    </tr>\n",
       "    <tr>\n",
       "      <th>2</th>\n",
       "      <td>AL Wadekar</td>\n",
       "      <td>1974-1974</td>\n",
       "    </tr>\n",
       "    <tr>\n",
       "      <th>3</th>\n",
       "      <td>SM Gavaskar</td>\n",
       "      <td>1980-1985</td>\n",
       "    </tr>\n",
       "    <tr>\n",
       "      <th>4</th>\n",
       "      <td>GR Viswanath</td>\n",
       "      <td>1981-1981</td>\n",
       "    </tr>\n",
       "  </tbody>\n",
       "</table>\n",
       "</div>"
      ],
      "text/plain": [
       "         Player       Span\n",
       "0      S Venkat  1975-1979\n",
       "1       BS Bedi  1976-1978\n",
       "2    AL Wadekar  1974-1974\n",
       "3   SM Gavaskar  1980-1985\n",
       "4  GR Viswanath  1981-1981"
      ]
     },
     "execution_count": 65,
     "metadata": {},
     "output_type": "execute_result"
    }
   ],
   "source": [
    "# Fetch Player and Span columns : using a list of column names\n",
    "cols = ['Player', 'Span']\n",
    "df[ cols ].head()"
   ]
  },
  {
   "cell_type": "markdown",
   "id": "215f58c5-8e02-4691-9050-c785b665d014",
   "metadata": {},
   "source": [
    "## Fetch multiple rows"
   ]
  },
  {
   "cell_type": "code",
   "execution_count": 66,
   "id": "56b46118-1f2d-4fcb-9adf-530394fc74ee",
   "metadata": {},
   "outputs": [
    {
     "data": {
      "text/plain": [
       "Player     S Venkat\n",
       "Span      1975-1979\n",
       "Mat               7\n",
       "Won               1\n",
       "Lost              6\n",
       "Tied              0\n",
       "NR                0\n",
       "Perc          14.28\n",
       "Name: 0, dtype: object"
      ]
     },
     "execution_count": 66,
     "metadata": {},
     "output_type": "execute_result"
    }
   ],
   "source": [
    "row_label = 0\n",
    "df.loc[ row_label ]"
   ]
  },
  {
   "cell_type": "code",
   "execution_count": 67,
   "id": "a671b9c8-fdd9-475d-a00e-15c728df3948",
   "metadata": {},
   "outputs": [
    {
     "data": {
      "text/html": [
       "<div>\n",
       "<style scoped>\n",
       "    .dataframe tbody tr th:only-of-type {\n",
       "        vertical-align: middle;\n",
       "    }\n",
       "\n",
       "    .dataframe tbody tr th {\n",
       "        vertical-align: top;\n",
       "    }\n",
       "\n",
       "    .dataframe thead th {\n",
       "        text-align: right;\n",
       "    }\n",
       "</style>\n",
       "<table border=\"1\" class=\"dataframe\">\n",
       "  <thead>\n",
       "    <tr style=\"text-align: right;\">\n",
       "      <th></th>\n",
       "      <th>Player</th>\n",
       "      <th>Span</th>\n",
       "      <th>Mat</th>\n",
       "      <th>Won</th>\n",
       "      <th>Lost</th>\n",
       "      <th>Tied</th>\n",
       "      <th>NR</th>\n",
       "      <th>Perc</th>\n",
       "    </tr>\n",
       "  </thead>\n",
       "  <tbody>\n",
       "    <tr>\n",
       "      <th>0</th>\n",
       "      <td>S Venkat</td>\n",
       "      <td>1975-1979</td>\n",
       "      <td>7</td>\n",
       "      <td>1</td>\n",
       "      <td>6</td>\n",
       "      <td>0</td>\n",
       "      <td>0</td>\n",
       "      <td>14.28</td>\n",
       "    </tr>\n",
       "    <tr>\n",
       "      <th>1</th>\n",
       "      <td>BS Bedi</td>\n",
       "      <td>1976-1978</td>\n",
       "      <td>4</td>\n",
       "      <td>1</td>\n",
       "      <td>3</td>\n",
       "      <td>0</td>\n",
       "      <td>0</td>\n",
       "      <td>25.00</td>\n",
       "    </tr>\n",
       "  </tbody>\n",
       "</table>\n",
       "</div>"
      ],
      "text/plain": [
       "     Player       Span  Mat  Won  Lost  Tied  NR   Perc\n",
       "0  S Venkat  1975-1979    7    1     6     0   0  14.28\n",
       "1   BS Bedi  1976-1978    4    1     3     0   0  25.00"
      ]
     },
     "execution_count": 67,
     "metadata": {},
     "output_type": "execute_result"
    }
   ],
   "source": [
    "# Fetching row labels 0 and 1 : using a list\n",
    "rows = [0, 1]\n",
    "df.loc[ rows ]"
   ]
  },
  {
   "cell_type": "markdown",
   "id": "bfd928ed-6368-4184-9c31-af2edecfaf40",
   "metadata": {},
   "source": [
    "## Learnings\n",
    "\n",
    "- Fetching multiple columns/rows results in a DataFrame"
   ]
  },
  {
   "cell_type": "markdown",
   "id": "761a395e-a9dc-40a1-99b1-e6f5bce62dae",
   "metadata": {},
   "source": [
    "## Viewing the data with columns in a new order/sequence\n",
    "\n",
    "- Columns : Span, Player, Mat"
   ]
  },
  {
   "cell_type": "code",
   "execution_count": 68,
   "id": "b6c0b4c8-ad96-46b5-8883-f8056df55eb6",
   "metadata": {},
   "outputs": [
    {
     "data": {
      "text/html": [
       "<div>\n",
       "<style scoped>\n",
       "    .dataframe tbody tr th:only-of-type {\n",
       "        vertical-align: middle;\n",
       "    }\n",
       "\n",
       "    .dataframe tbody tr th {\n",
       "        vertical-align: top;\n",
       "    }\n",
       "\n",
       "    .dataframe thead th {\n",
       "        text-align: right;\n",
       "    }\n",
       "</style>\n",
       "<table border=\"1\" class=\"dataframe\">\n",
       "  <thead>\n",
       "    <tr style=\"text-align: right;\">\n",
       "      <th></th>\n",
       "      <th>Player</th>\n",
       "      <th>Span</th>\n",
       "      <th>Mat</th>\n",
       "      <th>Won</th>\n",
       "      <th>Lost</th>\n",
       "      <th>Tied</th>\n",
       "      <th>NR</th>\n",
       "      <th>Perc</th>\n",
       "    </tr>\n",
       "  </thead>\n",
       "  <tbody>\n",
       "    <tr>\n",
       "      <th>0</th>\n",
       "      <td>S Venkat</td>\n",
       "      <td>1975-1979</td>\n",
       "      <td>7</td>\n",
       "      <td>1</td>\n",
       "      <td>6</td>\n",
       "      <td>0</td>\n",
       "      <td>0</td>\n",
       "      <td>14.28</td>\n",
       "    </tr>\n",
       "    <tr>\n",
       "      <th>1</th>\n",
       "      <td>BS Bedi</td>\n",
       "      <td>1976-1978</td>\n",
       "      <td>4</td>\n",
       "      <td>1</td>\n",
       "      <td>3</td>\n",
       "      <td>0</td>\n",
       "      <td>0</td>\n",
       "      <td>25.00</td>\n",
       "    </tr>\n",
       "    <tr>\n",
       "      <th>2</th>\n",
       "      <td>AL Wadekar</td>\n",
       "      <td>1974-1974</td>\n",
       "      <td>2</td>\n",
       "      <td>0</td>\n",
       "      <td>2</td>\n",
       "      <td>0</td>\n",
       "      <td>0</td>\n",
       "      <td>0.00</td>\n",
       "    </tr>\n",
       "    <tr>\n",
       "      <th>3</th>\n",
       "      <td>SM Gavaskar</td>\n",
       "      <td>1980-1985</td>\n",
       "      <td>37</td>\n",
       "      <td>14</td>\n",
       "      <td>21</td>\n",
       "      <td>0</td>\n",
       "      <td>2</td>\n",
       "      <td>40.00</td>\n",
       "    </tr>\n",
       "    <tr>\n",
       "      <th>4</th>\n",
       "      <td>GR Viswanath</td>\n",
       "      <td>1981-1981</td>\n",
       "      <td>1</td>\n",
       "      <td>0</td>\n",
       "      <td>1</td>\n",
       "      <td>0</td>\n",
       "      <td>0</td>\n",
       "      <td>0.00</td>\n",
       "    </tr>\n",
       "  </tbody>\n",
       "</table>\n",
       "</div>"
      ],
      "text/plain": [
       "         Player       Span  Mat  Won  Lost  Tied  NR   Perc\n",
       "0      S Venkat  1975-1979    7    1     6     0   0  14.28\n",
       "1       BS Bedi  1976-1978    4    1     3     0   0  25.00\n",
       "2    AL Wadekar  1974-1974    2    0     2     0   0   0.00\n",
       "3   SM Gavaskar  1980-1985   37   14    21     0   2  40.00\n",
       "4  GR Viswanath  1981-1981    1    0     1     0   0   0.00"
      ]
     },
     "execution_count": 68,
     "metadata": {},
     "output_type": "execute_result"
    }
   ],
   "source": [
    "df.head()"
   ]
  },
  {
   "cell_type": "code",
   "execution_count": 70,
   "id": "3fa35781-40aa-40e8-8add-e0bbe30a3712",
   "metadata": {},
   "outputs": [
    {
     "data": {
      "text/html": [
       "<div>\n",
       "<style scoped>\n",
       "    .dataframe tbody tr th:only-of-type {\n",
       "        vertical-align: middle;\n",
       "    }\n",
       "\n",
       "    .dataframe tbody tr th {\n",
       "        vertical-align: top;\n",
       "    }\n",
       "\n",
       "    .dataframe thead th {\n",
       "        text-align: right;\n",
       "    }\n",
       "</style>\n",
       "<table border=\"1\" class=\"dataframe\">\n",
       "  <thead>\n",
       "    <tr style=\"text-align: right;\">\n",
       "      <th></th>\n",
       "      <th>Span</th>\n",
       "      <th>Player</th>\n",
       "      <th>Mat</th>\n",
       "    </tr>\n",
       "  </thead>\n",
       "  <tbody>\n",
       "    <tr>\n",
       "      <th>0</th>\n",
       "      <td>1975-1979</td>\n",
       "      <td>S Venkat</td>\n",
       "      <td>7</td>\n",
       "    </tr>\n",
       "    <tr>\n",
       "      <th>1</th>\n",
       "      <td>1976-1978</td>\n",
       "      <td>BS Bedi</td>\n",
       "      <td>4</td>\n",
       "    </tr>\n",
       "    <tr>\n",
       "      <th>2</th>\n",
       "      <td>1974-1974</td>\n",
       "      <td>AL Wadekar</td>\n",
       "      <td>2</td>\n",
       "    </tr>\n",
       "    <tr>\n",
       "      <th>3</th>\n",
       "      <td>1980-1985</td>\n",
       "      <td>SM Gavaskar</td>\n",
       "      <td>37</td>\n",
       "    </tr>\n",
       "    <tr>\n",
       "      <th>4</th>\n",
       "      <td>1981-1981</td>\n",
       "      <td>GR Viswanath</td>\n",
       "      <td>1</td>\n",
       "    </tr>\n",
       "  </tbody>\n",
       "</table>\n",
       "</div>"
      ],
      "text/plain": [
       "        Span        Player  Mat\n",
       "0  1975-1979      S Venkat    7\n",
       "1  1976-1978       BS Bedi    4\n",
       "2  1974-1974    AL Wadekar    2\n",
       "3  1980-1985   SM Gavaskar   37\n",
       "4  1981-1981  GR Viswanath    1"
      ]
     },
     "execution_count": 70,
     "metadata": {},
     "output_type": "execute_result"
    }
   ],
   "source": [
    "cols = [ \"Span\", \"Player\", \"Mat\" ]\n",
    "df[ cols ].head()"
   ]
  },
  {
   "cell_type": "code",
   "execution_count": 71,
   "id": "f4f13844-3e0c-467b-92db-896817da5dac",
   "metadata": {},
   "outputs": [
    {
     "data": {
      "text/html": [
       "<div>\n",
       "<style scoped>\n",
       "    .dataframe tbody tr th:only-of-type {\n",
       "        vertical-align: middle;\n",
       "    }\n",
       "\n",
       "    .dataframe tbody tr th {\n",
       "        vertical-align: top;\n",
       "    }\n",
       "\n",
       "    .dataframe thead th {\n",
       "        text-align: right;\n",
       "    }\n",
       "</style>\n",
       "<table border=\"1\" class=\"dataframe\">\n",
       "  <thead>\n",
       "    <tr style=\"text-align: right;\">\n",
       "      <th></th>\n",
       "      <th>Player</th>\n",
       "      <th>Span</th>\n",
       "      <th>Mat</th>\n",
       "      <th>Won</th>\n",
       "      <th>Lost</th>\n",
       "      <th>Tied</th>\n",
       "      <th>NR</th>\n",
       "      <th>Perc</th>\n",
       "    </tr>\n",
       "  </thead>\n",
       "  <tbody>\n",
       "    <tr>\n",
       "      <th>0</th>\n",
       "      <td>S Venkat</td>\n",
       "      <td>1975-1979</td>\n",
       "      <td>7</td>\n",
       "      <td>1</td>\n",
       "      <td>6</td>\n",
       "      <td>0</td>\n",
       "      <td>0</td>\n",
       "      <td>14.28</td>\n",
       "    </tr>\n",
       "    <tr>\n",
       "      <th>1</th>\n",
       "      <td>BS Bedi</td>\n",
       "      <td>1976-1978</td>\n",
       "      <td>4</td>\n",
       "      <td>1</td>\n",
       "      <td>3</td>\n",
       "      <td>0</td>\n",
       "      <td>0</td>\n",
       "      <td>25.00</td>\n",
       "    </tr>\n",
       "    <tr>\n",
       "      <th>2</th>\n",
       "      <td>AL Wadekar</td>\n",
       "      <td>1974-1974</td>\n",
       "      <td>2</td>\n",
       "      <td>0</td>\n",
       "      <td>2</td>\n",
       "      <td>0</td>\n",
       "      <td>0</td>\n",
       "      <td>0.00</td>\n",
       "    </tr>\n",
       "    <tr>\n",
       "      <th>3</th>\n",
       "      <td>SM Gavaskar</td>\n",
       "      <td>1980-1985</td>\n",
       "      <td>37</td>\n",
       "      <td>14</td>\n",
       "      <td>21</td>\n",
       "      <td>0</td>\n",
       "      <td>2</td>\n",
       "      <td>40.00</td>\n",
       "    </tr>\n",
       "    <tr>\n",
       "      <th>4</th>\n",
       "      <td>GR Viswanath</td>\n",
       "      <td>1981-1981</td>\n",
       "      <td>1</td>\n",
       "      <td>0</td>\n",
       "      <td>1</td>\n",
       "      <td>0</td>\n",
       "      <td>0</td>\n",
       "      <td>0.00</td>\n",
       "    </tr>\n",
       "  </tbody>\n",
       "</table>\n",
       "</div>"
      ],
      "text/plain": [
       "         Player       Span  Mat  Won  Lost  Tied  NR   Perc\n",
       "0      S Venkat  1975-1979    7    1     6     0   0  14.28\n",
       "1       BS Bedi  1976-1978    4    1     3     0   0  25.00\n",
       "2    AL Wadekar  1974-1974    2    0     2     0   0   0.00\n",
       "3   SM Gavaskar  1980-1985   37   14    21     0   2  40.00\n",
       "4  GR Viswanath  1981-1981    1    0     1     0   0   0.00"
      ]
     },
     "execution_count": 71,
     "metadata": {},
     "output_type": "execute_result"
    }
   ],
   "source": [
    "df.head()"
   ]
  },
  {
   "cell_type": "markdown",
   "id": "2cedac68-7860-44cb-a9a7-1f1f3c8eb63d",
   "metadata": {},
   "source": [
    "### Fetching multiple rows\n",
    "\n",
    "Row labels : 10, 5 and 15"
   ]
  },
  {
   "cell_type": "code",
   "execution_count": 72,
   "id": "8e6210a5-efe3-4e98-923a-a822026a8805",
   "metadata": {},
   "outputs": [
    {
     "data": {
      "text/html": [
       "<div>\n",
       "<style scoped>\n",
       "    .dataframe tbody tr th:only-of-type {\n",
       "        vertical-align: middle;\n",
       "    }\n",
       "\n",
       "    .dataframe tbody tr th {\n",
       "        vertical-align: top;\n",
       "    }\n",
       "\n",
       "    .dataframe thead th {\n",
       "        text-align: right;\n",
       "    }\n",
       "</style>\n",
       "<table border=\"1\" class=\"dataframe\">\n",
       "  <thead>\n",
       "    <tr style=\"text-align: right;\">\n",
       "      <th></th>\n",
       "      <th>Player</th>\n",
       "      <th>Span</th>\n",
       "      <th>Mat</th>\n",
       "      <th>Won</th>\n",
       "      <th>Lost</th>\n",
       "      <th>Tied</th>\n",
       "      <th>NR</th>\n",
       "      <th>Perc</th>\n",
       "    </tr>\n",
       "  </thead>\n",
       "  <tbody>\n",
       "    <tr>\n",
       "      <th>10</th>\n",
       "      <td>K Srikkanth</td>\n",
       "      <td>1989-1989</td>\n",
       "      <td>13</td>\n",
       "      <td>4</td>\n",
       "      <td>8</td>\n",
       "      <td>0</td>\n",
       "      <td>1</td>\n",
       "      <td>33.33</td>\n",
       "    </tr>\n",
       "    <tr>\n",
       "      <th>5</th>\n",
       "      <td>N Kapil Dev</td>\n",
       "      <td>1982-1987</td>\n",
       "      <td>74</td>\n",
       "      <td>39</td>\n",
       "      <td>33</td>\n",
       "      <td>0</td>\n",
       "      <td>2</td>\n",
       "      <td>54.16</td>\n",
       "    </tr>\n",
       "    <tr>\n",
       "      <th>15</th>\n",
       "      <td>R Dravid</td>\n",
       "      <td>2000-2007</td>\n",
       "      <td>79</td>\n",
       "      <td>42</td>\n",
       "      <td>33</td>\n",
       "      <td>0</td>\n",
       "      <td>4</td>\n",
       "      <td>56.00</td>\n",
       "    </tr>\n",
       "  </tbody>\n",
       "</table>\n",
       "</div>"
      ],
      "text/plain": [
       "         Player       Span  Mat  Won  Lost  Tied  NR   Perc\n",
       "10  K Srikkanth  1989-1989   13    4     8     0   1  33.33\n",
       "5   N Kapil Dev  1982-1987   74   39    33     0   2  54.16\n",
       "15     R Dravid  2000-2007   79   42    33     0   4  56.00"
      ]
     },
     "execution_count": 72,
     "metadata": {},
     "output_type": "execute_result"
    }
   ],
   "source": [
    "rows = [ 10, 5, 15 ]\n",
    "df.loc[ rows ]"
   ]
  },
  {
   "cell_type": "markdown",
   "id": "fc43bdac-2fd5-44ec-87d5-18d2b49039ac",
   "metadata": {},
   "source": [
    "## Safe approach to filter columns\n",
    "\n",
    "- Fetch Span, Player and Mat"
   ]
  },
  {
   "cell_type": "code",
   "execution_count": 74,
   "id": "bbbbff41-f906-43fe-a6fb-67d7a580ee22",
   "metadata": {},
   "outputs": [
    {
     "data": {
      "text/html": [
       "<div>\n",
       "<style scoped>\n",
       "    .dataframe tbody tr th:only-of-type {\n",
       "        vertical-align: middle;\n",
       "    }\n",
       "\n",
       "    .dataframe tbody tr th {\n",
       "        vertical-align: top;\n",
       "    }\n",
       "\n",
       "    .dataframe thead th {\n",
       "        text-align: right;\n",
       "    }\n",
       "</style>\n",
       "<table border=\"1\" class=\"dataframe\">\n",
       "  <thead>\n",
       "    <tr style=\"text-align: right;\">\n",
       "      <th></th>\n",
       "      <th>Player</th>\n",
       "      <th>Span</th>\n",
       "      <th>Mat</th>\n",
       "      <th>Won</th>\n",
       "      <th>Lost</th>\n",
       "      <th>Tied</th>\n",
       "      <th>NR</th>\n",
       "      <th>Perc</th>\n",
       "    </tr>\n",
       "  </thead>\n",
       "  <tbody>\n",
       "    <tr>\n",
       "      <th>0</th>\n",
       "      <td>S Venkat</td>\n",
       "      <td>1975-1979</td>\n",
       "      <td>7</td>\n",
       "      <td>1</td>\n",
       "      <td>6</td>\n",
       "      <td>0</td>\n",
       "      <td>0</td>\n",
       "      <td>14.28</td>\n",
       "    </tr>\n",
       "    <tr>\n",
       "      <th>1</th>\n",
       "      <td>BS Bedi</td>\n",
       "      <td>1976-1978</td>\n",
       "      <td>4</td>\n",
       "      <td>1</td>\n",
       "      <td>3</td>\n",
       "      <td>0</td>\n",
       "      <td>0</td>\n",
       "      <td>25.00</td>\n",
       "    </tr>\n",
       "    <tr>\n",
       "      <th>2</th>\n",
       "      <td>AL Wadekar</td>\n",
       "      <td>1974-1974</td>\n",
       "      <td>2</td>\n",
       "      <td>0</td>\n",
       "      <td>2</td>\n",
       "      <td>0</td>\n",
       "      <td>0</td>\n",
       "      <td>0.00</td>\n",
       "    </tr>\n",
       "    <tr>\n",
       "      <th>3</th>\n",
       "      <td>SM Gavaskar</td>\n",
       "      <td>1980-1985</td>\n",
       "      <td>37</td>\n",
       "      <td>14</td>\n",
       "      <td>21</td>\n",
       "      <td>0</td>\n",
       "      <td>2</td>\n",
       "      <td>40.00</td>\n",
       "    </tr>\n",
       "    <tr>\n",
       "      <th>4</th>\n",
       "      <td>GR Viswanath</td>\n",
       "      <td>1981-1981</td>\n",
       "      <td>1</td>\n",
       "      <td>0</td>\n",
       "      <td>1</td>\n",
       "      <td>0</td>\n",
       "      <td>0</td>\n",
       "      <td>0.00</td>\n",
       "    </tr>\n",
       "  </tbody>\n",
       "</table>\n",
       "</div>"
      ],
      "text/plain": [
       "         Player       Span  Mat  Won  Lost  Tied  NR   Perc\n",
       "0      S Venkat  1975-1979    7    1     6     0   0  14.28\n",
       "1       BS Bedi  1976-1978    4    1     3     0   0  25.00\n",
       "2    AL Wadekar  1974-1974    2    0     2     0   0   0.00\n",
       "3   SM Gavaskar  1980-1985   37   14    21     0   2  40.00\n",
       "4  GR Viswanath  1981-1981    1    0     1     0   0   0.00"
      ]
     },
     "execution_count": 74,
     "metadata": {},
     "output_type": "execute_result"
    }
   ],
   "source": [
    "df.head()"
   ]
  },
  {
   "cell_type": "code",
   "execution_count": 75,
   "id": "dd5bb911-f3af-4671-9672-90ac7c29e6f1",
   "metadata": {},
   "outputs": [
    {
     "data": {
      "text/plain": [
       "Index(['Player', 'Span', 'Mat', 'Won', 'Lost', 'Tied', 'NR', 'Perc'], dtype='object')"
      ]
     },
     "execution_count": 75,
     "metadata": {},
     "output_type": "execute_result"
    }
   ],
   "source": [
    "df.columns"
   ]
  },
  {
   "cell_type": "code",
   "execution_count": 73,
   "id": "0c523fbb-c399-48c0-acc2-66f2e4c469be",
   "metadata": {},
   "outputs": [
    {
     "data": {
      "text/html": [
       "<div>\n",
       "<style scoped>\n",
       "    .dataframe tbody tr th:only-of-type {\n",
       "        vertical-align: middle;\n",
       "    }\n",
       "\n",
       "    .dataframe tbody tr th {\n",
       "        vertical-align: top;\n",
       "    }\n",
       "\n",
       "    .dataframe thead th {\n",
       "        text-align: right;\n",
       "    }\n",
       "</style>\n",
       "<table border=\"1\" class=\"dataframe\">\n",
       "  <thead>\n",
       "    <tr style=\"text-align: right;\">\n",
       "      <th></th>\n",
       "      <th>Span</th>\n",
       "      <th>Player</th>\n",
       "      <th>Mat</th>\n",
       "    </tr>\n",
       "  </thead>\n",
       "  <tbody>\n",
       "    <tr>\n",
       "      <th>0</th>\n",
       "      <td>1975-1979</td>\n",
       "      <td>S Venkat</td>\n",
       "      <td>7</td>\n",
       "    </tr>\n",
       "    <tr>\n",
       "      <th>1</th>\n",
       "      <td>1976-1978</td>\n",
       "      <td>BS Bedi</td>\n",
       "      <td>4</td>\n",
       "    </tr>\n",
       "    <tr>\n",
       "      <th>2</th>\n",
       "      <td>1974-1974</td>\n",
       "      <td>AL Wadekar</td>\n",
       "      <td>2</td>\n",
       "    </tr>\n",
       "    <tr>\n",
       "      <th>3</th>\n",
       "      <td>1980-1985</td>\n",
       "      <td>SM Gavaskar</td>\n",
       "      <td>37</td>\n",
       "    </tr>\n",
       "    <tr>\n",
       "      <th>4</th>\n",
       "      <td>1981-1981</td>\n",
       "      <td>GR Viswanath</td>\n",
       "      <td>1</td>\n",
       "    </tr>\n",
       "  </tbody>\n",
       "</table>\n",
       "</div>"
      ],
      "text/plain": [
       "        Span        Player  Mat\n",
       "0  1975-1979      S Venkat    7\n",
       "1  1976-1978       BS Bedi    4\n",
       "2  1974-1974    AL Wadekar    2\n",
       "3  1980-1985   SM Gavaskar   37\n",
       "4  1981-1981  GR Viswanath    1"
      ]
     },
     "execution_count": 73,
     "metadata": {},
     "output_type": "execute_result"
    }
   ],
   "source": [
    "# Avoid writing the column label in text\n",
    "dont_do_this = [ \"Span\", \"Player\", \"Mat\" ]\n",
    "df[dont_do_this].head()"
   ]
  },
  {
   "cell_type": "code",
   "execution_count": 76,
   "id": "e79f8ccf-d175-4778-b4cd-ab9970cac55d",
   "metadata": {},
   "outputs": [
    {
     "name": "stdout",
     "output_type": "stream",
     "text": [
      "<class 'pandas.core.frame.DataFrame'>\n",
      "RangeIndex: 24 entries, 0 to 23\n",
      "Data columns (total 8 columns):\n",
      " #   Column  Non-Null Count  Dtype \n",
      "---  ------  --------------  ----- \n",
      " 0   Player  24 non-null     object\n",
      " 1   Span    24 non-null     object\n",
      " 2   Mat     24 non-null     int64 \n",
      " 3   Won     24 non-null     int64 \n",
      " 4   Lost    24 non-null     int64 \n",
      " 5   Tied    24 non-null     int64 \n",
      " 6   NR      24 non-null     int64 \n",
      " 7   Perc    24 non-null     object\n",
      "dtypes: int64(5), object(3)\n",
      "memory usage: 1.6+ KB\n"
     ]
    }
   ],
   "source": [
    "df.info()"
   ]
  },
  {
   "cell_type": "code",
   "execution_count": 79,
   "id": "9407108f-61b5-4d3e-8717-9e3b853d0d91",
   "metadata": {},
   "outputs": [
    {
     "data": {
      "text/html": [
       "<div>\n",
       "<style scoped>\n",
       "    .dataframe tbody tr th:only-of-type {\n",
       "        vertical-align: middle;\n",
       "    }\n",
       "\n",
       "    .dataframe tbody tr th {\n",
       "        vertical-align: top;\n",
       "    }\n",
       "\n",
       "    .dataframe thead th {\n",
       "        text-align: right;\n",
       "    }\n",
       "</style>\n",
       "<table border=\"1\" class=\"dataframe\">\n",
       "  <thead>\n",
       "    <tr style=\"text-align: right;\">\n",
       "      <th></th>\n",
       "      <th>Span</th>\n",
       "      <th>Player</th>\n",
       "      <th>Mat</th>\n",
       "    </tr>\n",
       "  </thead>\n",
       "  <tbody>\n",
       "    <tr>\n",
       "      <th>0</th>\n",
       "      <td>1975-1979</td>\n",
       "      <td>S Venkat</td>\n",
       "      <td>7</td>\n",
       "    </tr>\n",
       "    <tr>\n",
       "      <th>1</th>\n",
       "      <td>1976-1978</td>\n",
       "      <td>BS Bedi</td>\n",
       "      <td>4</td>\n",
       "    </tr>\n",
       "    <tr>\n",
       "      <th>2</th>\n",
       "      <td>1974-1974</td>\n",
       "      <td>AL Wadekar</td>\n",
       "      <td>2</td>\n",
       "    </tr>\n",
       "    <tr>\n",
       "      <th>3</th>\n",
       "      <td>1980-1985</td>\n",
       "      <td>SM Gavaskar</td>\n",
       "      <td>37</td>\n",
       "    </tr>\n",
       "    <tr>\n",
       "      <th>4</th>\n",
       "      <td>1981-1981</td>\n",
       "      <td>GR Viswanath</td>\n",
       "      <td>1</td>\n",
       "    </tr>\n",
       "  </tbody>\n",
       "</table>\n",
       "</div>"
      ],
      "text/plain": [
       "        Span        Player  Mat\n",
       "0  1975-1979      S Venkat    7\n",
       "1  1976-1978       BS Bedi    4\n",
       "2  1974-1974    AL Wadekar    2\n",
       "3  1980-1985   SM Gavaskar   37\n",
       "4  1981-1981  GR Viswanath    1"
      ]
     },
     "execution_count": 79,
     "metadata": {},
     "output_type": "execute_result"
    }
   ],
   "source": [
    "col_idx = [ 1, 0, 2 ] # Span, Player, Mat\n",
    "cols = df.columns[ col_idx ]\n",
    "df[cols].head()"
   ]
  },
  {
   "cell_type": "markdown",
   "id": "8a1d9e9c-875e-4cb9-b469-f3937ed7c0e9",
   "metadata": {},
   "source": [
    "## Fetching Statistical information from dataset"
   ]
  },
  {
   "cell_type": "code",
   "execution_count": 80,
   "id": "e529693f-244f-4a8b-99e1-e703bd63ec80",
   "metadata": {},
   "outputs": [
    {
     "data": {
      "text/html": [
       "<div>\n",
       "<style scoped>\n",
       "    .dataframe tbody tr th:only-of-type {\n",
       "        vertical-align: middle;\n",
       "    }\n",
       "\n",
       "    .dataframe tbody tr th {\n",
       "        vertical-align: top;\n",
       "    }\n",
       "\n",
       "    .dataframe thead th {\n",
       "        text-align: right;\n",
       "    }\n",
       "</style>\n",
       "<table border=\"1\" class=\"dataframe\">\n",
       "  <thead>\n",
       "    <tr style=\"text-align: right;\">\n",
       "      <th></th>\n",
       "      <th>Mat</th>\n",
       "      <th>Won</th>\n",
       "      <th>Lost</th>\n",
       "      <th>Tied</th>\n",
       "      <th>NR</th>\n",
       "    </tr>\n",
       "  </thead>\n",
       "  <tbody>\n",
       "    <tr>\n",
       "      <th>count</th>\n",
       "      <td>24.000000</td>\n",
       "      <td>24.000000</td>\n",
       "      <td>24.000000</td>\n",
       "      <td>24.000000</td>\n",
       "      <td>24.000000</td>\n",
       "    </tr>\n",
       "    <tr>\n",
       "      <th>mean</th>\n",
       "      <td>39.250000</td>\n",
       "      <td>20.166667</td>\n",
       "      <td>17.125000</td>\n",
       "      <td>0.291667</td>\n",
       "      <td>1.666667</td>\n",
       "    </tr>\n",
       "    <tr>\n",
       "      <th>std</th>\n",
       "      <td>57.685994</td>\n",
       "      <td>30.958130</td>\n",
       "      <td>24.128843</td>\n",
       "      <td>0.907896</td>\n",
       "      <td>2.792329</td>\n",
       "    </tr>\n",
       "    <tr>\n",
       "      <th>min</th>\n",
       "      <td>1.000000</td>\n",
       "      <td>0.000000</td>\n",
       "      <td>0.000000</td>\n",
       "      <td>0.000000</td>\n",
       "      <td>0.000000</td>\n",
       "    </tr>\n",
       "    <tr>\n",
       "      <th>25%</th>\n",
       "      <td>3.000000</td>\n",
       "      <td>1.000000</td>\n",
       "      <td>1.000000</td>\n",
       "      <td>0.000000</td>\n",
       "      <td>0.000000</td>\n",
       "    </tr>\n",
       "    <tr>\n",
       "      <th>50%</th>\n",
       "      <td>12.000000</td>\n",
       "      <td>6.000000</td>\n",
       "      <td>5.500000</td>\n",
       "      <td>0.000000</td>\n",
       "      <td>0.000000</td>\n",
       "    </tr>\n",
       "    <tr>\n",
       "      <th>75%</th>\n",
       "      <td>57.250000</td>\n",
       "      <td>27.000000</td>\n",
       "      <td>24.000000</td>\n",
       "      <td>0.000000</td>\n",
       "      <td>2.000000</td>\n",
       "    </tr>\n",
       "    <tr>\n",
       "      <th>max</th>\n",
       "      <td>199.000000</td>\n",
       "      <td>110.000000</td>\n",
       "      <td>76.000000</td>\n",
       "      <td>4.000000</td>\n",
       "      <td>11.000000</td>\n",
       "    </tr>\n",
       "  </tbody>\n",
       "</table>\n",
       "</div>"
      ],
      "text/plain": [
       "              Mat         Won       Lost       Tied         NR\n",
       "count   24.000000   24.000000  24.000000  24.000000  24.000000\n",
       "mean    39.250000   20.166667  17.125000   0.291667   1.666667\n",
       "std     57.685994   30.958130  24.128843   0.907896   2.792329\n",
       "min      1.000000    0.000000   0.000000   0.000000   0.000000\n",
       "25%      3.000000    1.000000   1.000000   0.000000   0.000000\n",
       "50%     12.000000    6.000000   5.500000   0.000000   0.000000\n",
       "75%     57.250000   27.000000  24.000000   0.000000   2.000000\n",
       "max    199.000000  110.000000  76.000000   4.000000  11.000000"
      ]
     },
     "execution_count": 80,
     "metadata": {},
     "output_type": "execute_result"
    }
   ],
   "source": [
    "df.describe()"
   ]
  },
  {
   "cell_type": "markdown",
   "id": "5a3639d0-2b14-4123-b8a7-de2761407e27",
   "metadata": {},
   "source": [
    "### Understanding Inference\n",
    "\n",
    "Indian cricket innnings score board\n",
    "\n",
    "- Rohit : 10\n",
    "- Jaiswal : 5\n",
    "- Virat : 4\n",
    "- SKY : 76\n",
    "- Pandya : 82"
   ]
  },
  {
   "cell_type": "markdown",
   "id": "c0f1fc4b-afec-42e5-82f3-5b5fe064098b",
   "metadata": {},
   "source": [
    "- What is your inference about the information above ?\n",
    "\n",
    "Information :\n",
    "\n",
    "1. Total runs : 180 ...\n",
    "2. Max : 82\n",
    "3. Min : 4\n",
    "4. Average : 180 / 5\n",
    "5. 2 players scored > 50\n",
    "\n",
    "Inference :\n",
    "\n",
    "1. Top order failed for score runs ( may be the balling was pretty tight in the start )"
   ]
  },
  {
   "cell_type": "code",
   "execution_count": 85,
   "id": "75328752-e1f8-4745-b52f-07e90375420f",
   "metadata": {},
   "outputs": [
    {
     "data": {
      "text/plain": [
       "[1, 1, 1, 1, 2, 3, 3, 4, 6, 7, 11, 12]"
      ]
     },
     "execution_count": 85,
     "metadata": {},
     "output_type": "execute_result"
    }
   ],
   "source": [
    "# df['Mat'].values\n",
    "sorted(df.Mat.values)[:12]"
   ]
  },
  {
   "cell_type": "code",
   "execution_count": 86,
   "id": "a42cbb31-621b-4204-bbc6-29ce69b699c0",
   "metadata": {},
   "outputs": [
    {
     "data": {
      "text/plain": [
       "[12, 13, 13, 18, 37, 52, 73, 74, 79, 146, 174, 199]"
      ]
     },
     "execution_count": 86,
     "metadata": {},
     "output_type": "execute_result"
    }
   ],
   "source": [
    "sorted(df.Mat.values)[12:]"
   ]
  },
  {
   "cell_type": "code",
   "execution_count": 87,
   "id": "b57331f9-6bc1-442c-bf70-3c0d1e67284e",
   "metadata": {},
   "outputs": [
    {
     "data": {
      "text/plain": [
       "39.25"
      ]
     },
     "execution_count": 87,
     "metadata": {},
     "output_type": "execute_result"
    }
   ],
   "source": [
    "df.Mat.mean()"
   ]
  },
  {
   "cell_type": "code",
   "execution_count": 89,
   "id": "08ce0cc6-67ec-47d6-b4c8-d7ca88c0bfe5",
   "metadata": {},
   "outputs": [
    {
     "data": {
      "text/plain": [
       "<Axes: >"
      ]
     },
     "execution_count": 89,
     "metadata": {},
     "output_type": "execute_result"
    },
    {
     "data": {
      "image/png": "[encoded data removed]",
      "text/plain": [
       "<Figure size 640x480 with 1 Axes>"
      ]
     },
     "metadata": {},
     "output_type": "display_data"
    }
   ],
   "source": [
    "df.Mat.plot.box(vert=False)"
   ]
  },
  {
   "cell_type": "code",
   "execution_count": 94,
   "id": "5a135e5f-60f4-4154-9ff4-a0a3058b04a5",
   "metadata": {},
   "outputs": [
    {
     "data": {
      "text/plain": [
       "20.142857142857142"
      ]
     },
     "execution_count": 94,
     "metadata": {},
     "output_type": "execute_result"
    }
   ],
   "source": [
    "df[ df.Mat < 100 ].Mat.mean()"
   ]
  },
  {
   "cell_type": "code",
   "execution_count": 95,
   "id": "01219f7e-f902-4a62-afb7-832b7ea504ce",
   "metadata": {},
   "outputs": [
    {
     "data": {
      "text/plain": [
       "39.25"
      ]
     },
     "execution_count": 95,
     "metadata": {},
     "output_type": "execute_result"
    }
   ],
   "source": [
    "df.Mat.mean()"
   ]
  },
  {
   "cell_type": "code",
   "execution_count": 96,
   "id": "2eb4b2d0-3acc-4208-b067-18f8709eac1d",
   "metadata": {},
   "outputs": [
    {
     "data": {
      "text/plain": [
       "<Axes: ylabel='Frequency'>"
      ]
     },
     "execution_count": 96,
     "metadata": {},
     "output_type": "execute_result"
    },
    {
     "data": {
      "image/png": "[encoded data removed]",
      "text/plain": [
       "<Figure size 640x480 with 1 Axes>"
      ]
     },
     "metadata": {},
     "output_type": "display_data"
    }
   ],
   "source": [
    "df.Mat.plot.hist()"
   ]
  },
  {
   "cell_type": "code",
   "execution_count": 97,
   "id": "d712d125-3252-4a43-99ab-84ecf93b97c2",
   "metadata": {},
   "outputs": [
    {
     "data": {
      "text/plain": [
       "16"
      ]
     },
     "execution_count": 97,
     "metadata": {},
     "output_type": "execute_result"
    }
   ],
   "source": [
    "len(df[df.Mat < 20])"
   ]
  },
  {
   "cell_type": "code",
   "execution_count": 99,
   "id": "be850c97-dc25-46a3-8f5c-d083181c988b",
   "metadata": {},
   "outputs": [
    {
     "data": {
      "text/html": [
       "<div>\n",
       "<style scoped>\n",
       "    .dataframe tbody tr th:only-of-type {\n",
       "        vertical-align: middle;\n",
       "    }\n",
       "\n",
       "    .dataframe tbody tr th {\n",
       "        vertical-align: top;\n",
       "    }\n",
       "\n",
       "    .dataframe thead th {\n",
       "        text-align: right;\n",
       "    }\n",
       "</style>\n",
       "<table border=\"1\" class=\"dataframe\">\n",
       "  <thead>\n",
       "    <tr style=\"text-align: right;\">\n",
       "      <th></th>\n",
       "      <th>Player</th>\n",
       "      <th>Span</th>\n",
       "      <th>Perc</th>\n",
       "    </tr>\n",
       "  </thead>\n",
       "  <tbody>\n",
       "    <tr>\n",
       "      <th>count</th>\n",
       "      <td>24</td>\n",
       "      <td>24</td>\n",
       "      <td>24</td>\n",
       "    </tr>\n",
       "    <tr>\n",
       "      <th>unique</th>\n",
       "      <td>24</td>\n",
       "      <td>24</td>\n",
       "      <td>19</td>\n",
       "    </tr>\n",
       "    <tr>\n",
       "      <th>top</th>\n",
       "      <td>S Venkat</td>\n",
       "      <td>1975-1979</td>\n",
       "      <td>0.00</td>\n",
       "    </tr>\n",
       "    <tr>\n",
       "      <th>freq</th>\n",
       "      <td>1</td>\n",
       "      <td>1</td>\n",
       "      <td>3</td>\n",
       "    </tr>\n",
       "  </tbody>\n",
       "</table>\n",
       "</div>"
      ],
      "text/plain": [
       "          Player       Span  Perc\n",
       "count         24         24    24\n",
       "unique        24         24    19\n",
       "top     S Venkat  1975-1979  0.00\n",
       "freq           1          1     3"
      ]
     },
     "execution_count": 99,
     "metadata": {},
     "output_type": "execute_result"
    }
   ],
   "source": [
    "# df.describe(include=\"all\")\n",
    "df.describe(include=\"O\")"
   ]
  },
  {
   "cell_type": "code",
   "execution_count": null,
   "id": "f42258b3-8936-472a-8f78-350cded5d0e8",
   "metadata": {},
   "outputs": [],
   "source": []
  }
 ],
 "metadata": {
  "kernelspec": {
   "display_name": "Python 3 (ipykernel)",
   "language": "python",
   "name": "python3"
  },
  "language_info": {
   "codemirror_mode": {
    "name": "ipython",
    "version": 3
   },
   "file_extension": ".py",
   "mimetype": "text/x-python",
   "name": "python",
   "nbconvert_exporter": "python",
   "pygments_lexer": "ipython3",
   "version": "3.12.2"
  }
 },
 "nbformat": 4,
 "nbformat_minor": 5
}
