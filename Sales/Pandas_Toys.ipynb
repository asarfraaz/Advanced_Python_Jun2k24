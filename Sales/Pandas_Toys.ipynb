{
 "cells": [
  {
   "cell_type": "markdown",
   "id": "678fa597-d2c1-4ee9-af17-2284a017e634",
   "metadata": {},
   "source": [
    "# Information about Toys"
   ]
  },
  {
   "cell_type": "code",
   "execution_count": 1,
   "id": "2c81e094-52bb-4318-b6bc-a00dea74307f",
   "metadata": {},
   "outputs": [],
   "source": [
    "import pandas as pd"
   ]
  },
  {
   "cell_type": "code",
   "execution_count": 2,
   "id": "73e582ab-cfaa-4af1-a325-9150582dda33",
   "metadata": {},
   "outputs": [],
   "source": [
    "folder = r\"C:\\Users\\Tim\\Downloads\" # Change this to your folder path\n",
    "# filename = f'{folder}\\puzzles_exp.csv'\n",
    "\n",
    "\n",
    "# import os.path\n",
    "# filepath = os.join(folder, \"puzzles_exp.csv\")\n",
    "\n",
    "filepath = \"Data/puzzles_exp.csv\""
   ]
  },
  {
   "cell_type": "code",
   "execution_count": 3,
   "id": "35a0193f-f8ae-4652-bd35-5cc06a01880f",
   "metadata": {},
   "outputs": [],
   "source": [
    "df = pd.read_csv(filepath)"
   ]
  },
  {
   "cell_type": "markdown",
   "id": "07a30ddc-72cb-41fe-bfbb-b1754e5ccdc5",
   "metadata": {},
   "source": [
    "## Show me the first 5 lines"
   ]
  },
  {
   "cell_type": "code",
   "execution_count": 4,
   "id": "91aafe3d-6f58-4129-9ef9-56744d0f2d2a",
   "metadata": {},
   "outputs": [
    {
     "data": {
      "text/html": [
       "<div>\n",
       "<style scoped>\n",
       "    .dataframe tbody tr th:only-of-type {\n",
       "        vertical-align: middle;\n",
       "    }\n",
       "\n",
       "    .dataframe tbody tr th {\n",
       "        vertical-align: top;\n",
       "    }\n",
       "\n",
       "    .dataframe thead th {\n",
       "        text-align: right;\n",
       "    }\n",
       "</style>\n",
       "<table border=\"1\" class=\"dataframe\">\n",
       "  <thead>\n",
       "    <tr style=\"text-align: right;\">\n",
       "      <th></th>\n",
       "      <th>Month</th>\n",
       "      <th>Product</th>\n",
       "      <th>Expenditure</th>\n",
       "    </tr>\n",
       "  </thead>\n",
       "  <tbody>\n",
       "    <tr>\n",
       "      <th>0</th>\n",
       "      <td>2014-07</td>\n",
       "      <td>Puzzles</td>\n",
       "      <td>18411</td>\n",
       "    </tr>\n",
       "    <tr>\n",
       "      <th>1</th>\n",
       "      <td>2014-08</td>\n",
       "      <td>Puzzles</td>\n",
       "      <td>15432</td>\n",
       "    </tr>\n",
       "    <tr>\n",
       "      <th>2</th>\n",
       "      <td>2014-09</td>\n",
       "      <td>Puzzles</td>\n",
       "      <td>303623</td>\n",
       "    </tr>\n",
       "    <tr>\n",
       "      <th>3</th>\n",
       "      <td>2014-10</td>\n",
       "      <td>Puzzles</td>\n",
       "      <td>19697</td>\n",
       "    </tr>\n",
       "    <tr>\n",
       "      <th>4</th>\n",
       "      <td>2014-11</td>\n",
       "      <td>Puzzles</td>\n",
       "      <td>269769</td>\n",
       "    </tr>\n",
       "  </tbody>\n",
       "</table>\n",
       "</div>"
      ],
      "text/plain": [
       "     Month  Product  Expenditure\n",
       "0  2014-07  Puzzles        18411\n",
       "1  2014-08  Puzzles        15432\n",
       "2  2014-09  Puzzles       303623\n",
       "3  2014-10  Puzzles        19697\n",
       "4  2014-11  Puzzles       269769"
      ]
     },
     "execution_count": 4,
     "metadata": {},
     "output_type": "execute_result"
    }
   ],
   "source": [
    "df.head()"
   ]
  },
  {
   "cell_type": "markdown",
   "id": "d2b54f17-a04c-41e4-a2fc-d8b3d7dd61b5",
   "metadata": {},
   "source": [
    "## Show me the last 3 rows"
   ]
  },
  {
   "cell_type": "code",
   "execution_count": 5,
   "id": "c5d71b78-0baa-46a8-a420-265fed374aff",
   "metadata": {},
   "outputs": [
    {
     "data": {
      "text/html": [
       "<div>\n",
       "<style scoped>\n",
       "    .dataframe tbody tr th:only-of-type {\n",
       "        vertical-align: middle;\n",
       "    }\n",
       "\n",
       "    .dataframe tbody tr th {\n",
       "        vertical-align: top;\n",
       "    }\n",
       "\n",
       "    .dataframe thead th {\n",
       "        text-align: right;\n",
       "    }\n",
       "</style>\n",
       "<table border=\"1\" class=\"dataframe\">\n",
       "  <thead>\n",
       "    <tr style=\"text-align: right;\">\n",
       "      <th></th>\n",
       "      <th>Month</th>\n",
       "      <th>Product</th>\n",
       "      <th>Expenditure</th>\n",
       "    </tr>\n",
       "  </thead>\n",
       "  <tbody>\n",
       "    <tr>\n",
       "      <th>3</th>\n",
       "      <td>2014-10</td>\n",
       "      <td>Puzzles</td>\n",
       "      <td>19697</td>\n",
       "    </tr>\n",
       "    <tr>\n",
       "      <th>4</th>\n",
       "      <td>2014-11</td>\n",
       "      <td>Puzzles</td>\n",
       "      <td>269769</td>\n",
       "    </tr>\n",
       "    <tr>\n",
       "      <th>5</th>\n",
       "      <td>2014-12</td>\n",
       "      <td>Puzzles</td>\n",
       "      <td>49918</td>\n",
       "    </tr>\n",
       "  </tbody>\n",
       "</table>\n",
       "</div>"
      ],
      "text/plain": [
       "     Month  Product  Expenditure\n",
       "3  2014-10  Puzzles        19697\n",
       "4  2014-11  Puzzles       269769\n",
       "5  2014-12  Puzzles        49918"
      ]
     },
     "execution_count": 5,
     "metadata": {},
     "output_type": "execute_result"
    }
   ],
   "source": [
    "df.tail(3)"
   ]
  },
  {
   "cell_type": "markdown",
   "id": "7bf1868e-991c-4167-b2c1-5e105c6283b2",
   "metadata": {},
   "source": [
    "## Find the number of rows"
   ]
  },
  {
   "cell_type": "code",
   "execution_count": 6,
   "id": "2fb74749-259d-4e35-b87d-bb6f079c8aef",
   "metadata": {},
   "outputs": [
    {
     "data": {
      "text/plain": [
       "(6, 3)"
      ]
     },
     "execution_count": 6,
     "metadata": {},
     "output_type": "execute_result"
    }
   ],
   "source": [
    "df.shape"
   ]
  },
  {
   "cell_type": "code",
   "execution_count": 7,
   "id": "8901f0b9-d866-40a7-b96a-610869befc66",
   "metadata": {},
   "outputs": [
    {
     "data": {
      "text/plain": [
       "6"
      ]
     },
     "execution_count": 7,
     "metadata": {},
     "output_type": "execute_result"
    }
   ],
   "source": [
    "df.shape[0]"
   ]
  },
  {
   "cell_type": "markdown",
   "id": "f371008a-8277-4db2-bd19-502baaf1c894",
   "metadata": {},
   "source": [
    "## What are the datatypes for each column?"
   ]
  },
  {
   "cell_type": "code",
   "execution_count": 8,
   "id": "4c6e9db1-42bd-4d47-b61a-52f2a10265f4",
   "metadata": {},
   "outputs": [
    {
     "name": "stdout",
     "output_type": "stream",
     "text": [
      "<class 'pandas.core.frame.DataFrame'>\n",
      "RangeIndex: 6 entries, 0 to 5\n",
      "Data columns (total 3 columns):\n",
      " #   Column       Non-Null Count  Dtype \n",
      "---  ------       --------------  ----- \n",
      " 0   Month        6 non-null      object\n",
      " 1   Product      6 non-null      object\n",
      " 2   Expenditure  6 non-null      int64 \n",
      "dtypes: int64(1), object(2)\n",
      "memory usage: 276.0+ bytes\n"
     ]
    }
   ],
   "source": [
    "df.info()"
   ]
  },
  {
   "cell_type": "code",
   "execution_count": 9,
   "id": "8e814122-8019-41f1-8f88-22b60ee00b4b",
   "metadata": {},
   "outputs": [
    {
     "data": {
      "text/html": [
       "<div>\n",
       "<style scoped>\n",
       "    .dataframe tbody tr th:only-of-type {\n",
       "        vertical-align: middle;\n",
       "    }\n",
       "\n",
       "    .dataframe tbody tr th {\n",
       "        vertical-align: top;\n",
       "    }\n",
       "\n",
       "    .dataframe thead th {\n",
       "        text-align: right;\n",
       "    }\n",
       "</style>\n",
       "<table border=\"1\" class=\"dataframe\">\n",
       "  <thead>\n",
       "    <tr style=\"text-align: right;\">\n",
       "      <th></th>\n",
       "      <th>Month</th>\n",
       "      <th>Product</th>\n",
       "      <th>Expenditure</th>\n",
       "    </tr>\n",
       "  </thead>\n",
       "  <tbody>\n",
       "    <tr>\n",
       "      <th>0</th>\n",
       "      <td>2014-07</td>\n",
       "      <td>Puzzles</td>\n",
       "      <td>18411</td>\n",
       "    </tr>\n",
       "    <tr>\n",
       "      <th>1</th>\n",
       "      <td>2014-08</td>\n",
       "      <td>Puzzles</td>\n",
       "      <td>15432</td>\n",
       "    </tr>\n",
       "    <tr>\n",
       "      <th>2</th>\n",
       "      <td>2014-09</td>\n",
       "      <td>Puzzles</td>\n",
       "      <td>303623</td>\n",
       "    </tr>\n",
       "    <tr>\n",
       "      <th>3</th>\n",
       "      <td>2014-10</td>\n",
       "      <td>Puzzles</td>\n",
       "      <td>19697</td>\n",
       "    </tr>\n",
       "    <tr>\n",
       "      <th>4</th>\n",
       "      <td>2014-11</td>\n",
       "      <td>Puzzles</td>\n",
       "      <td>269769</td>\n",
       "    </tr>\n",
       "  </tbody>\n",
       "</table>\n",
       "</div>"
      ],
      "text/plain": [
       "     Month  Product  Expenditure\n",
       "0  2014-07  Puzzles        18411\n",
       "1  2014-08  Puzzles        15432\n",
       "2  2014-09  Puzzles       303623\n",
       "3  2014-10  Puzzles        19697\n",
       "4  2014-11  Puzzles       269769"
      ]
     },
     "execution_count": 9,
     "metadata": {},
     "output_type": "execute_result"
    }
   ],
   "source": [
    "df.head()"
   ]
  },
  {
   "cell_type": "markdown",
   "id": "0a6af0b6-c94f-4456-a384-55c0dd290cae",
   "metadata": {},
   "source": [
    "## Parse Month column as a Datetime datatype"
   ]
  },
  {
   "cell_type": "code",
   "execution_count": 10,
   "id": "f77c67ff-b552-4add-a9d2-8b9bfbef1f1e",
   "metadata": {},
   "outputs": [
    {
     "data": {
      "text/html": [
       "<div>\n",
       "<style scoped>\n",
       "    .dataframe tbody tr th:only-of-type {\n",
       "        vertical-align: middle;\n",
       "    }\n",
       "\n",
       "    .dataframe tbody tr th {\n",
       "        vertical-align: top;\n",
       "    }\n",
       "\n",
       "    .dataframe thead th {\n",
       "        text-align: right;\n",
       "    }\n",
       "</style>\n",
       "<table border=\"1\" class=\"dataframe\">\n",
       "  <thead>\n",
       "    <tr style=\"text-align: right;\">\n",
       "      <th></th>\n",
       "      <th>Month</th>\n",
       "      <th>Product</th>\n",
       "      <th>Expenditure</th>\n",
       "    </tr>\n",
       "  </thead>\n",
       "  <tbody>\n",
       "    <tr>\n",
       "      <th>0</th>\n",
       "      <td>2014-07-01</td>\n",
       "      <td>Puzzles</td>\n",
       "      <td>18411</td>\n",
       "    </tr>\n",
       "    <tr>\n",
       "      <th>1</th>\n",
       "      <td>2014-08-01</td>\n",
       "      <td>Puzzles</td>\n",
       "      <td>15432</td>\n",
       "    </tr>\n",
       "    <tr>\n",
       "      <th>2</th>\n",
       "      <td>2014-09-01</td>\n",
       "      <td>Puzzles</td>\n",
       "      <td>303623</td>\n",
       "    </tr>\n",
       "    <tr>\n",
       "      <th>3</th>\n",
       "      <td>2014-10-01</td>\n",
       "      <td>Puzzles</td>\n",
       "      <td>19697</td>\n",
       "    </tr>\n",
       "    <tr>\n",
       "      <th>4</th>\n",
       "      <td>2014-11-01</td>\n",
       "      <td>Puzzles</td>\n",
       "      <td>269769</td>\n",
       "    </tr>\n",
       "    <tr>\n",
       "      <th>5</th>\n",
       "      <td>2014-12-01</td>\n",
       "      <td>Puzzles</td>\n",
       "      <td>49918</td>\n",
       "    </tr>\n",
       "  </tbody>\n",
       "</table>\n",
       "</div>"
      ],
      "text/plain": [
       "       Month  Product  Expenditure\n",
       "0 2014-07-01  Puzzles        18411\n",
       "1 2014-08-01  Puzzles        15432\n",
       "2 2014-09-01  Puzzles       303623\n",
       "3 2014-10-01  Puzzles        19697\n",
       "4 2014-11-01  Puzzles       269769\n",
       "5 2014-12-01  Puzzles        49918"
      ]
     },
     "execution_count": 10,
     "metadata": {},
     "output_type": "execute_result"
    }
   ],
   "source": [
    "df = pd.read_csv(filepath, parse_dates=['Month'])\n",
    "df"
   ]
  },
  {
   "cell_type": "code",
   "execution_count": 11,
   "id": "36a3a1cd-f980-48c3-9055-7e84edad46b5",
   "metadata": {},
   "outputs": [
    {
     "name": "stdout",
     "output_type": "stream",
     "text": [
      "<class 'pandas.core.frame.DataFrame'>\n",
      "RangeIndex: 6 entries, 0 to 5\n",
      "Data columns (total 3 columns):\n",
      " #   Column       Non-Null Count  Dtype         \n",
      "---  ------       --------------  -----         \n",
      " 0   Month        6 non-null      datetime64[ns]\n",
      " 1   Product      6 non-null      object        \n",
      " 2   Expenditure  6 non-null      int64         \n",
      "dtypes: datetime64[ns](1), int64(1), object(1)\n",
      "memory usage: 276.0+ bytes\n"
     ]
    }
   ],
   "source": [
    "df.info()"
   ]
  },
  {
   "cell_type": "code",
   "execution_count": 12,
   "id": "f3e8ff0f-a38a-453d-844e-48b45cb09a3d",
   "metadata": {},
   "outputs": [
    {
     "data": {
      "text/html": [
       "<div>\n",
       "<style scoped>\n",
       "    .dataframe tbody tr th:only-of-type {\n",
       "        vertical-align: middle;\n",
       "    }\n",
       "\n",
       "    .dataframe tbody tr th {\n",
       "        vertical-align: top;\n",
       "    }\n",
       "\n",
       "    .dataframe thead th {\n",
       "        text-align: right;\n",
       "    }\n",
       "</style>\n",
       "<table border=\"1\" class=\"dataframe\">\n",
       "  <thead>\n",
       "    <tr style=\"text-align: right;\">\n",
       "      <th></th>\n",
       "      <th>Month</th>\n",
       "      <th>Product</th>\n",
       "      <th>Expenditure</th>\n",
       "    </tr>\n",
       "  </thead>\n",
       "  <tbody>\n",
       "    <tr>\n",
       "      <th>0</th>\n",
       "      <td>2014-07-01</td>\n",
       "      <td>Puzzles</td>\n",
       "      <td>18411</td>\n",
       "    </tr>\n",
       "    <tr>\n",
       "      <th>1</th>\n",
       "      <td>2014-08-01</td>\n",
       "      <td>Puzzles</td>\n",
       "      <td>15432</td>\n",
       "    </tr>\n",
       "    <tr>\n",
       "      <th>2</th>\n",
       "      <td>2014-09-01</td>\n",
       "      <td>Puzzles</td>\n",
       "      <td>303623</td>\n",
       "    </tr>\n",
       "    <tr>\n",
       "      <th>3</th>\n",
       "      <td>2014-10-01</td>\n",
       "      <td>Puzzles</td>\n",
       "      <td>19697</td>\n",
       "    </tr>\n",
       "    <tr>\n",
       "      <th>4</th>\n",
       "      <td>2014-11-01</td>\n",
       "      <td>Puzzles</td>\n",
       "      <td>269769</td>\n",
       "    </tr>\n",
       "    <tr>\n",
       "      <th>5</th>\n",
       "      <td>2014-12-01</td>\n",
       "      <td>Puzzles</td>\n",
       "      <td>49918</td>\n",
       "    </tr>\n",
       "  </tbody>\n",
       "</table>\n",
       "</div>"
      ],
      "text/plain": [
       "       Month  Product  Expenditure\n",
       "0 2014-07-01  Puzzles        18411\n",
       "1 2014-08-01  Puzzles        15432\n",
       "2 2014-09-01  Puzzles       303623\n",
       "3 2014-10-01  Puzzles        19697\n",
       "4 2014-11-01  Puzzles       269769\n",
       "5 2014-12-01  Puzzles        49918"
      ]
     },
     "execution_count": 12,
     "metadata": {},
     "output_type": "execute_result"
    }
   ],
   "source": [
    "df"
   ]
  },
  {
   "cell_type": "markdown",
   "id": "48f48ea0-22a3-4c8e-b738-dff665a50490",
   "metadata": {},
   "source": [
    "## Find total expenditure for each Quarter"
   ]
  },
  {
   "cell_type": "code",
   "execution_count": 13,
   "id": "ce0962fd-f9b0-4961-b2bd-cf79cf23f283",
   "metadata": {},
   "outputs": [
    {
     "data": {
      "text/plain": [
       "0         July\n",
       "1       August\n",
       "2    September\n",
       "3      October\n",
       "4     November\n",
       "5     December\n",
       "Name: Month, dtype: object"
      ]
     },
     "execution_count": 13,
     "metadata": {},
     "output_type": "execute_result"
    }
   ],
   "source": [
    "df.Month.dt.month_name()"
   ]
  },
  {
   "cell_type": "code",
   "execution_count": 14,
   "id": "f5eb2926-2d87-4208-818e-15ea7dd49dac",
   "metadata": {},
   "outputs": [
    {
     "data": {
      "text/plain": [
       "0    3\n",
       "1    3\n",
       "2    3\n",
       "3    4\n",
       "4    4\n",
       "5    4\n",
       "Name: Month, dtype: int32"
      ]
     },
     "execution_count": 14,
     "metadata": {},
     "output_type": "execute_result"
    }
   ],
   "source": [
    "df.Month.dt.quarter"
   ]
  },
  {
   "cell_type": "code",
   "execution_count": 15,
   "id": "f58c8700-c79c-431e-a045-9b908b56c435",
   "metadata": {},
   "outputs": [
    {
     "data": {
      "text/html": [
       "<div>\n",
       "<style scoped>\n",
       "    .dataframe tbody tr th:only-of-type {\n",
       "        vertical-align: middle;\n",
       "    }\n",
       "\n",
       "    .dataframe tbody tr th {\n",
       "        vertical-align: top;\n",
       "    }\n",
       "\n",
       "    .dataframe thead th {\n",
       "        text-align: right;\n",
       "    }\n",
       "</style>\n",
       "<table border=\"1\" class=\"dataframe\">\n",
       "  <thead>\n",
       "    <tr style=\"text-align: right;\">\n",
       "      <th></th>\n",
       "      <th>Month</th>\n",
       "      <th>Product</th>\n",
       "      <th>Expenditure</th>\n",
       "      <th>Qtr</th>\n",
       "    </tr>\n",
       "  </thead>\n",
       "  <tbody>\n",
       "    <tr>\n",
       "      <th>0</th>\n",
       "      <td>2014-07-01</td>\n",
       "      <td>Puzzles</td>\n",
       "      <td>18411</td>\n",
       "      <td>3</td>\n",
       "    </tr>\n",
       "    <tr>\n",
       "      <th>1</th>\n",
       "      <td>2014-08-01</td>\n",
       "      <td>Puzzles</td>\n",
       "      <td>15432</td>\n",
       "      <td>3</td>\n",
       "    </tr>\n",
       "    <tr>\n",
       "      <th>2</th>\n",
       "      <td>2014-09-01</td>\n",
       "      <td>Puzzles</td>\n",
       "      <td>303623</td>\n",
       "      <td>3</td>\n",
       "    </tr>\n",
       "    <tr>\n",
       "      <th>3</th>\n",
       "      <td>2014-10-01</td>\n",
       "      <td>Puzzles</td>\n",
       "      <td>19697</td>\n",
       "      <td>4</td>\n",
       "    </tr>\n",
       "    <tr>\n",
       "      <th>4</th>\n",
       "      <td>2014-11-01</td>\n",
       "      <td>Puzzles</td>\n",
       "      <td>269769</td>\n",
       "      <td>4</td>\n",
       "    </tr>\n",
       "    <tr>\n",
       "      <th>5</th>\n",
       "      <td>2014-12-01</td>\n",
       "      <td>Puzzles</td>\n",
       "      <td>49918</td>\n",
       "      <td>4</td>\n",
       "    </tr>\n",
       "  </tbody>\n",
       "</table>\n",
       "</div>"
      ],
      "text/plain": [
       "       Month  Product  Expenditure  Qtr\n",
       "0 2014-07-01  Puzzles        18411    3\n",
       "1 2014-08-01  Puzzles        15432    3\n",
       "2 2014-09-01  Puzzles       303623    3\n",
       "3 2014-10-01  Puzzles        19697    4\n",
       "4 2014-11-01  Puzzles       269769    4\n",
       "5 2014-12-01  Puzzles        49918    4"
      ]
     },
     "execution_count": 15,
     "metadata": {},
     "output_type": "execute_result"
    }
   ],
   "source": [
    "# df.loc[row_index, col_index] = Series/list of values\n",
    "df.loc[:, 'Qtr'] = df.Month.dt.quarter\n",
    "df"
   ]
  },
  {
   "cell_type": "code",
   "execution_count": 16,
   "id": "d2d6da6b-4724-4bce-b500-6d8233169950",
   "metadata": {},
   "outputs": [
    {
     "data": {
      "text/plain": [
       "'Q3'"
      ]
     },
     "execution_count": 16,
     "metadata": {},
     "output_type": "execute_result"
    }
   ],
   "source": [
    "q_num = 3\n",
    "q_str = f'Q{q_num}'\n",
    "q_str"
   ]
  },
  {
   "cell_type": "code",
   "execution_count": 17,
   "id": "bc5676d9-8341-416b-b68e-ef06ba84e4df",
   "metadata": {},
   "outputs": [
    {
     "data": {
      "text/plain": [
       "Month          6\n",
       "Product        6\n",
       "Expenditure    6\n",
       "Qtr            6\n",
       "dtype: int64"
      ]
     },
     "execution_count": 17,
     "metadata": {},
     "output_type": "execute_result"
    }
   ],
   "source": [
    "df.apply(len) # access every column"
   ]
  },
  {
   "cell_type": "code",
   "execution_count": 18,
   "id": "01c2cd76-110a-40fa-99e1-d15884fdcea1",
   "metadata": {},
   "outputs": [
    {
     "data": {
      "text/plain": [
       "0    4\n",
       "1    4\n",
       "2    4\n",
       "3    4\n",
       "4    4\n",
       "5    4\n",
       "dtype: int64"
      ]
     },
     "execution_count": 18,
     "metadata": {},
     "output_type": "execute_result"
    }
   ],
   "source": [
    "df.apply(len, axis=1) # access every row"
   ]
  },
  {
   "cell_type": "code",
   "execution_count": 19,
   "id": "46b0ed50-179a-4b38-ad60-de55608b710b",
   "metadata": {},
   "outputs": [
    {
     "data": {
      "text/plain": [
       "Month          2014-07-01 00:00:00\n",
       "Product                    Puzzles\n",
       "Expenditure                  18411\n",
       "Qtr                              3\n",
       "Name: 0, dtype: object"
      ]
     },
     "execution_count": 19,
     "metadata": {},
     "output_type": "execute_result"
    }
   ],
   "source": [
    "df.loc[0]"
   ]
  },
  {
   "cell_type": "code",
   "execution_count": 20,
   "id": "848be316-fd56-493d-b0cc-0d15623ae6bb",
   "metadata": {},
   "outputs": [
    {
     "data": {
      "text/plain": [
       "3"
      ]
     },
     "execution_count": 20,
     "metadata": {},
     "output_type": "execute_result"
    }
   ],
   "source": [
    "df.loc[0].Qtr"
   ]
  },
  {
   "cell_type": "code",
   "execution_count": 21,
   "id": "8b86926d-9ea9-4b0a-9362-ffbc32a8d738",
   "metadata": {},
   "outputs": [
    {
     "data": {
      "text/plain": [
       "0    Q3\n",
       "1    Q3\n",
       "2    Q3\n",
       "3    Q4\n",
       "4    Q4\n",
       "5    Q4\n",
       "dtype: object"
      ]
     },
     "execution_count": 21,
     "metadata": {},
     "output_type": "execute_result"
    }
   ],
   "source": [
    "# Apply this function for every row\n",
    "df.apply(lambda row: f'Q{row.Qtr}', axis=1) "
   ]
  },
  {
   "cell_type": "markdown",
   "id": "5c5238d9-21ee-4aed-9f29-614902c4cc40",
   "metadata": {},
   "source": [
    "### Convert Qtr column to \"String\" column"
   ]
  },
  {
   "cell_type": "code",
   "execution_count": 22,
   "id": "94f26cb0-483a-480f-af5a-dbbbccd76090",
   "metadata": {},
   "outputs": [
    {
     "name": "stderr",
     "output_type": "stream",
     "text": [
      "/var/folders/b3/njv4_yv125j44rpbkvlkn_880000gn/T/ipykernel_31955/561582466.py:1: FutureWarning: Setting an item of incompatible dtype is deprecated and will raise in a future error of pandas. Value '['3' '3' '3' '4' '4' '4']' has dtype incompatible with int32, please explicitly cast to a compatible dtype first.\n",
      "  df.loc[:, 'Qtr'] = df.Qtr.astype(str)\n"
     ]
    },
    {
     "data": {
      "text/html": [
       "<div>\n",
       "<style scoped>\n",
       "    .dataframe tbody tr th:only-of-type {\n",
       "        vertical-align: middle;\n",
       "    }\n",
       "\n",
       "    .dataframe tbody tr th {\n",
       "        vertical-align: top;\n",
       "    }\n",
       "\n",
       "    .dataframe thead th {\n",
       "        text-align: right;\n",
       "    }\n",
       "</style>\n",
       "<table border=\"1\" class=\"dataframe\">\n",
       "  <thead>\n",
       "    <tr style=\"text-align: right;\">\n",
       "      <th></th>\n",
       "      <th>Month</th>\n",
       "      <th>Product</th>\n",
       "      <th>Expenditure</th>\n",
       "      <th>Qtr</th>\n",
       "    </tr>\n",
       "  </thead>\n",
       "  <tbody>\n",
       "    <tr>\n",
       "      <th>0</th>\n",
       "      <td>2014-07-01</td>\n",
       "      <td>Puzzles</td>\n",
       "      <td>18411</td>\n",
       "      <td>3</td>\n",
       "    </tr>\n",
       "    <tr>\n",
       "      <th>1</th>\n",
       "      <td>2014-08-01</td>\n",
       "      <td>Puzzles</td>\n",
       "      <td>15432</td>\n",
       "      <td>3</td>\n",
       "    </tr>\n",
       "    <tr>\n",
       "      <th>2</th>\n",
       "      <td>2014-09-01</td>\n",
       "      <td>Puzzles</td>\n",
       "      <td>303623</td>\n",
       "      <td>3</td>\n",
       "    </tr>\n",
       "    <tr>\n",
       "      <th>3</th>\n",
       "      <td>2014-10-01</td>\n",
       "      <td>Puzzles</td>\n",
       "      <td>19697</td>\n",
       "      <td>4</td>\n",
       "    </tr>\n",
       "    <tr>\n",
       "      <th>4</th>\n",
       "      <td>2014-11-01</td>\n",
       "      <td>Puzzles</td>\n",
       "      <td>269769</td>\n",
       "      <td>4</td>\n",
       "    </tr>\n",
       "    <tr>\n",
       "      <th>5</th>\n",
       "      <td>2014-12-01</td>\n",
       "      <td>Puzzles</td>\n",
       "      <td>49918</td>\n",
       "      <td>4</td>\n",
       "    </tr>\n",
       "  </tbody>\n",
       "</table>\n",
       "</div>"
      ],
      "text/plain": [
       "       Month  Product  Expenditure Qtr\n",
       "0 2014-07-01  Puzzles        18411   3\n",
       "1 2014-08-01  Puzzles        15432   3\n",
       "2 2014-09-01  Puzzles       303623   3\n",
       "3 2014-10-01  Puzzles        19697   4\n",
       "4 2014-11-01  Puzzles       269769   4\n",
       "5 2014-12-01  Puzzles        49918   4"
      ]
     },
     "execution_count": 22,
     "metadata": {},
     "output_type": "execute_result"
    }
   ],
   "source": [
    "df.loc[:, 'Qtr'] = df.Qtr.astype(str)\n",
    "df"
   ]
  },
  {
   "cell_type": "code",
   "execution_count": 23,
   "id": "50fc987d-e6d0-4581-ae0b-3a123dd51f76",
   "metadata": {},
   "outputs": [
    {
     "data": {
      "text/html": [
       "<div>\n",
       "<style scoped>\n",
       "    .dataframe tbody tr th:only-of-type {\n",
       "        vertical-align: middle;\n",
       "    }\n",
       "\n",
       "    .dataframe tbody tr th {\n",
       "        vertical-align: top;\n",
       "    }\n",
       "\n",
       "    .dataframe thead th {\n",
       "        text-align: right;\n",
       "    }\n",
       "</style>\n",
       "<table border=\"1\" class=\"dataframe\">\n",
       "  <thead>\n",
       "    <tr style=\"text-align: right;\">\n",
       "      <th></th>\n",
       "      <th>Month</th>\n",
       "      <th>Product</th>\n",
       "      <th>Expenditure</th>\n",
       "      <th>Qtr</th>\n",
       "    </tr>\n",
       "  </thead>\n",
       "  <tbody>\n",
       "    <tr>\n",
       "      <th>0</th>\n",
       "      <td>2014-07-01</td>\n",
       "      <td>Puzzles</td>\n",
       "      <td>18411</td>\n",
       "      <td>Q3</td>\n",
       "    </tr>\n",
       "    <tr>\n",
       "      <th>1</th>\n",
       "      <td>2014-08-01</td>\n",
       "      <td>Puzzles</td>\n",
       "      <td>15432</td>\n",
       "      <td>Q3</td>\n",
       "    </tr>\n",
       "    <tr>\n",
       "      <th>2</th>\n",
       "      <td>2014-09-01</td>\n",
       "      <td>Puzzles</td>\n",
       "      <td>303623</td>\n",
       "      <td>Q3</td>\n",
       "    </tr>\n",
       "    <tr>\n",
       "      <th>3</th>\n",
       "      <td>2014-10-01</td>\n",
       "      <td>Puzzles</td>\n",
       "      <td>19697</td>\n",
       "      <td>Q4</td>\n",
       "    </tr>\n",
       "    <tr>\n",
       "      <th>4</th>\n",
       "      <td>2014-11-01</td>\n",
       "      <td>Puzzles</td>\n",
       "      <td>269769</td>\n",
       "      <td>Q4</td>\n",
       "    </tr>\n",
       "    <tr>\n",
       "      <th>5</th>\n",
       "      <td>2014-12-01</td>\n",
       "      <td>Puzzles</td>\n",
       "      <td>49918</td>\n",
       "      <td>Q4</td>\n",
       "    </tr>\n",
       "  </tbody>\n",
       "</table>\n",
       "</div>"
      ],
      "text/plain": [
       "       Month  Product  Expenditure Qtr\n",
       "0 2014-07-01  Puzzles        18411  Q3\n",
       "1 2014-08-01  Puzzles        15432  Q3\n",
       "2 2014-09-01  Puzzles       303623  Q3\n",
       "3 2014-10-01  Puzzles        19697  Q4\n",
       "4 2014-11-01  Puzzles       269769  Q4\n",
       "5 2014-12-01  Puzzles        49918  Q4"
      ]
     },
     "execution_count": 23,
     "metadata": {},
     "output_type": "execute_result"
    }
   ],
   "source": [
    "df.loc[:, 'Qtr'] = df.apply(lambda row: f'Q{row.Qtr}', axis=1) \n",
    "df"
   ]
  },
  {
   "cell_type": "code",
   "execution_count": 36,
   "id": "91327896-a626-499d-be62-a227876834c8",
   "metadata": {},
   "outputs": [
    {
     "data": {
      "text/plain": [
       "Month          2014-09-01 00:00:00\n",
       "Product                    Puzzles\n",
       "Expenditure                 303623\n",
       "Qtr                             Q3\n",
       "Name: 2, dtype: object"
      ]
     },
     "execution_count": 36,
     "metadata": {},
     "output_type": "execute_result"
    }
   ],
   "source": [
    "df.loc[2]"
   ]
  },
  {
   "cell_type": "code",
   "execution_count": 29,
   "id": "8c5feae4-36a8-4afc-b0b9-f199efbbd6a5",
   "metadata": {},
   "outputs": [
    {
     "data": {
      "text/plain": [
       "Index(['Month', 'Product', 'Expenditure', 'Qtr'], dtype='object')"
      ]
     },
     "execution_count": 29,
     "metadata": {},
     "output_type": "execute_result"
    }
   ],
   "source": [
    "df.columns"
   ]
  },
  {
   "cell_type": "code",
   "execution_count": 30,
   "id": "e61496e2-5263-4422-b418-d9846c145aa4",
   "metadata": {},
   "outputs": [
    {
     "data": {
      "text/plain": [
       "RangeIndex(start=0, stop=6, step=1)"
      ]
     },
     "execution_count": 30,
     "metadata": {},
     "output_type": "execute_result"
    }
   ],
   "source": [
    "df.index"
   ]
  },
  {
   "cell_type": "markdown",
   "id": "b6fde231-3dc5-457e-95b4-8f6e5adbb022",
   "metadata": {},
   "source": [
    "## Find total expenses for every Quarter"
   ]
  },
  {
   "cell_type": "code",
   "execution_count": 26,
   "id": "afac0c51-c2c1-4245-b792-ffc0c4928884",
   "metadata": {},
   "outputs": [
    {
     "data": {
      "text/html": [
       "<div>\n",
       "<style scoped>\n",
       "    .dataframe tbody tr th:only-of-type {\n",
       "        vertical-align: middle;\n",
       "    }\n",
       "\n",
       "    .dataframe tbody tr th {\n",
       "        vertical-align: top;\n",
       "    }\n",
       "\n",
       "    .dataframe thead th {\n",
       "        text-align: right;\n",
       "    }\n",
       "</style>\n",
       "<table border=\"1\" class=\"dataframe\">\n",
       "  <thead>\n",
       "    <tr style=\"text-align: right;\">\n",
       "      <th></th>\n",
       "      <th>Expenditure</th>\n",
       "    </tr>\n",
       "    <tr>\n",
       "      <th>Qtr</th>\n",
       "      <th></th>\n",
       "    </tr>\n",
       "  </thead>\n",
       "  <tbody>\n",
       "    <tr>\n",
       "      <th>Q3</th>\n",
       "      <td>337466</td>\n",
       "    </tr>\n",
       "    <tr>\n",
       "      <th>Q4</th>\n",
       "      <td>339384</td>\n",
       "    </tr>\n",
       "  </tbody>\n",
       "</table>\n",
       "</div>"
      ],
      "text/plain": [
       "     Expenditure\n",
       "Qtr             \n",
       "Q3        337466\n",
       "Q4        339384"
      ]
     },
     "execution_count": 26,
     "metadata": {},
     "output_type": "execute_result"
    }
   ],
   "source": [
    "dfq = df[ ['Expenditure', 'Qtr'] ].groupby('Qtr').sum()\n",
    "dfq"
   ]
  },
  {
   "cell_type": "code",
   "execution_count": 27,
   "id": "0eb4df3e-221c-4870-a6fe-89321303528e",
   "metadata": {},
   "outputs": [
    {
     "data": {
      "text/plain": [
       "Index(['Expenditure'], dtype='object')"
      ]
     },
     "execution_count": 27,
     "metadata": {},
     "output_type": "execute_result"
    }
   ],
   "source": [
    "dfq.columns"
   ]
  },
  {
   "cell_type": "code",
   "execution_count": 28,
   "id": "b413102a-a8f1-46d7-a749-f222632bcdd9",
   "metadata": {},
   "outputs": [
    {
     "data": {
      "text/plain": [
       "Index(['Q3', 'Q4'], dtype='object', name='Qtr')"
      ]
     },
     "execution_count": 28,
     "metadata": {},
     "output_type": "execute_result"
    }
   ],
   "source": [
    "dfq.index"
   ]
  },
  {
   "cell_type": "markdown",
   "id": "5ea5b7d9-2791-4ae6-9124-b399c34c5eca",
   "metadata": {},
   "source": [
    "### Fetch expenditure for Q3"
   ]
  },
  {
   "cell_type": "code",
   "execution_count": 31,
   "id": "3fcd99c6-1c07-4c57-8e3a-ee22982f1afe",
   "metadata": {},
   "outputs": [
    {
     "data": {
      "text/plain": [
       "Expenditure    337466\n",
       "Name: Q3, dtype: int64"
      ]
     },
     "execution_count": 31,
     "metadata": {},
     "output_type": "execute_result"
    }
   ],
   "source": [
    "dfq.loc['Q3']"
   ]
  },
  {
   "cell_type": "markdown",
   "id": "55f28466-099b-4e36-9619-80e316bb5f24",
   "metadata": {},
   "source": [
    "## Make the index / row label a column"
   ]
  },
  {
   "cell_type": "code",
   "execution_count": 33,
   "id": "6c256149-bba4-4340-92fb-89f855fd89f8",
   "metadata": {},
   "outputs": [
    {
     "data": {
      "text/html": [
       "<div>\n",
       "<style scoped>\n",
       "    .dataframe tbody tr th:only-of-type {\n",
       "        vertical-align: middle;\n",
       "    }\n",
       "\n",
       "    .dataframe tbody tr th {\n",
       "        vertical-align: top;\n",
       "    }\n",
       "\n",
       "    .dataframe thead th {\n",
       "        text-align: right;\n",
       "    }\n",
       "</style>\n",
       "<table border=\"1\" class=\"dataframe\">\n",
       "  <thead>\n",
       "    <tr style=\"text-align: right;\">\n",
       "      <th></th>\n",
       "      <th>Qtr</th>\n",
       "      <th>Expenditure</th>\n",
       "    </tr>\n",
       "  </thead>\n",
       "  <tbody>\n",
       "    <tr>\n",
       "      <th>0</th>\n",
       "      <td>Q3</td>\n",
       "      <td>337466</td>\n",
       "    </tr>\n",
       "    <tr>\n",
       "      <th>1</th>\n",
       "      <td>Q4</td>\n",
       "      <td>339384</td>\n",
       "    </tr>\n",
       "  </tbody>\n",
       "</table>\n",
       "</div>"
      ],
      "text/plain": [
       "  Qtr  Expenditure\n",
       "0  Q3       337466\n",
       "1  Q4       339384"
      ]
     },
     "execution_count": 33,
     "metadata": {},
     "output_type": "execute_result"
    }
   ],
   "source": [
    "dfq_new = dfq.reset_index()\n",
    "dfq_new"
   ]
  },
  {
   "cell_type": "code",
   "execution_count": 34,
   "id": "85cb5acc-e4cb-497f-8f37-f4d2a59701d2",
   "metadata": {},
   "outputs": [
    {
     "data": {
      "text/plain": [
       "Index(['Qtr', 'Expenditure'], dtype='object')"
      ]
     },
     "execution_count": 34,
     "metadata": {},
     "output_type": "execute_result"
    }
   ],
   "source": [
    "dfq_new.columns"
   ]
  },
  {
   "cell_type": "code",
   "execution_count": 35,
   "id": "bee6fcbf-ace7-462a-8708-d32589765c29",
   "metadata": {},
   "outputs": [
    {
     "data": {
      "text/plain": [
       "RangeIndex(start=0, stop=2, step=1)"
      ]
     },
     "execution_count": 35,
     "metadata": {},
     "output_type": "execute_result"
    }
   ],
   "source": [
    "dfq_new.index"
   ]
  },
  {
   "cell_type": "markdown",
   "id": "43cd0975-c584-4fbc-b814-81a72038ed5d",
   "metadata": {},
   "source": [
    "## Filtering columns based on criteria"
   ]
  },
  {
   "cell_type": "code",
   "execution_count": 37,
   "id": "0ea75872-2ec8-412b-ab2d-df3acf65baa2",
   "metadata": {},
   "outputs": [
    {
     "data": {
      "text/html": [
       "<div>\n",
       "<style scoped>\n",
       "    .dataframe tbody tr th:only-of-type {\n",
       "        vertical-align: middle;\n",
       "    }\n",
       "\n",
       "    .dataframe tbody tr th {\n",
       "        vertical-align: top;\n",
       "    }\n",
       "\n",
       "    .dataframe thead th {\n",
       "        text-align: right;\n",
       "    }\n",
       "</style>\n",
       "<table border=\"1\" class=\"dataframe\">\n",
       "  <thead>\n",
       "    <tr style=\"text-align: right;\">\n",
       "      <th></th>\n",
       "      <th>Month</th>\n",
       "      <th>Product</th>\n",
       "      <th>Expenditure</th>\n",
       "      <th>Qtr</th>\n",
       "    </tr>\n",
       "  </thead>\n",
       "  <tbody>\n",
       "    <tr>\n",
       "      <th>0</th>\n",
       "      <td>2014-07-01</td>\n",
       "      <td>Puzzles</td>\n",
       "      <td>18411</td>\n",
       "      <td>Q3</td>\n",
       "    </tr>\n",
       "    <tr>\n",
       "      <th>1</th>\n",
       "      <td>2014-08-01</td>\n",
       "      <td>Puzzles</td>\n",
       "      <td>15432</td>\n",
       "      <td>Q3</td>\n",
       "    </tr>\n",
       "    <tr>\n",
       "      <th>2</th>\n",
       "      <td>2014-09-01</td>\n",
       "      <td>Puzzles</td>\n",
       "      <td>303623</td>\n",
       "      <td>Q3</td>\n",
       "    </tr>\n",
       "    <tr>\n",
       "      <th>3</th>\n",
       "      <td>2014-10-01</td>\n",
       "      <td>Puzzles</td>\n",
       "      <td>19697</td>\n",
       "      <td>Q4</td>\n",
       "    </tr>\n",
       "    <tr>\n",
       "      <th>4</th>\n",
       "      <td>2014-11-01</td>\n",
       "      <td>Puzzles</td>\n",
       "      <td>269769</td>\n",
       "      <td>Q4</td>\n",
       "    </tr>\n",
       "    <tr>\n",
       "      <th>5</th>\n",
       "      <td>2014-12-01</td>\n",
       "      <td>Puzzles</td>\n",
       "      <td>49918</td>\n",
       "      <td>Q4</td>\n",
       "    </tr>\n",
       "  </tbody>\n",
       "</table>\n",
       "</div>"
      ],
      "text/plain": [
       "       Month  Product  Expenditure Qtr\n",
       "0 2014-07-01  Puzzles        18411  Q3\n",
       "1 2014-08-01  Puzzles        15432  Q3\n",
       "2 2014-09-01  Puzzles       303623  Q3\n",
       "3 2014-10-01  Puzzles        19697  Q4\n",
       "4 2014-11-01  Puzzles       269769  Q4\n",
       "5 2014-12-01  Puzzles        49918  Q4"
      ]
     },
     "execution_count": 37,
     "metadata": {},
     "output_type": "execute_result"
    }
   ],
   "source": [
    "df"
   ]
  },
  {
   "cell_type": "markdown",
   "id": "fa546121-2885-40a6-90ed-32753c6a4198",
   "metadata": {},
   "source": [
    "#### Show rows with expenses more 50,000"
   ]
  },
  {
   "cell_type": "code",
   "execution_count": 39,
   "id": "dbe44db1-5ad9-4b1d-b5fb-7469fe5dd2ff",
   "metadata": {},
   "outputs": [
    {
     "data": {
      "text/plain": [
       "5000000"
      ]
     },
     "execution_count": 39,
     "metadata": {},
     "output_type": "execute_result"
    }
   ],
   "source": [
    "5_000_000"
   ]
  },
  {
   "cell_type": "code",
   "execution_count": 42,
   "id": "a91862a7-6da2-42ff-bdf6-f819183d04b0",
   "metadata": {},
   "outputs": [
    {
     "data": {
      "text/plain": [
       "0    False\n",
       "1    False\n",
       "2     True\n",
       "3    False\n",
       "4     True\n",
       "5    False\n",
       "Name: Expenditure, dtype: bool"
      ]
     },
     "execution_count": 42,
     "metadata": {},
     "output_type": "execute_result"
    }
   ],
   "source": [
    "df.Expenditure > 50_000"
   ]
  },
  {
   "cell_type": "code",
   "execution_count": 41,
   "id": "955463a1-6bce-44df-a607-8101c1c9edea",
   "metadata": {},
   "outputs": [
    {
     "data": {
      "text/html": [
       "<div>\n",
       "<style scoped>\n",
       "    .dataframe tbody tr th:only-of-type {\n",
       "        vertical-align: middle;\n",
       "    }\n",
       "\n",
       "    .dataframe tbody tr th {\n",
       "        vertical-align: top;\n",
       "    }\n",
       "\n",
       "    .dataframe thead th {\n",
       "        text-align: right;\n",
       "    }\n",
       "</style>\n",
       "<table border=\"1\" class=\"dataframe\">\n",
       "  <thead>\n",
       "    <tr style=\"text-align: right;\">\n",
       "      <th></th>\n",
       "      <th>Month</th>\n",
       "      <th>Product</th>\n",
       "      <th>Expenditure</th>\n",
       "      <th>Qtr</th>\n",
       "    </tr>\n",
       "  </thead>\n",
       "  <tbody>\n",
       "    <tr>\n",
       "      <th>2</th>\n",
       "      <td>2014-09-01</td>\n",
       "      <td>Puzzles</td>\n",
       "      <td>303623</td>\n",
       "      <td>Q3</td>\n",
       "    </tr>\n",
       "    <tr>\n",
       "      <th>4</th>\n",
       "      <td>2014-11-01</td>\n",
       "      <td>Puzzles</td>\n",
       "      <td>269769</td>\n",
       "      <td>Q4</td>\n",
       "    </tr>\n",
       "  </tbody>\n",
       "</table>\n",
       "</div>"
      ],
      "text/plain": [
       "       Month  Product  Expenditure Qtr\n",
       "2 2014-09-01  Puzzles       303623  Q3\n",
       "4 2014-11-01  Puzzles       269769  Q4"
      ]
     },
     "execution_count": 41,
     "metadata": {},
     "output_type": "execute_result"
    }
   ],
   "source": [
    "df[ df.Expenditure > 50_000 ]"
   ]
  },
  {
   "cell_type": "markdown",
   "id": "fecf38ec-1632-4a97-83ab-d858fa91e706",
   "metadata": {},
   "source": [
    "### Show rows where Expenditure is less than 50,000 but only for Q4"
   ]
  },
  {
   "cell_type": "code",
   "execution_count": 44,
   "id": "71ebd422-bba8-4b9b-b2d5-9d9111a0fa1a",
   "metadata": {},
   "outputs": [
    {
     "data": {
      "text/plain": [
       "0    False\n",
       "1    False\n",
       "2    False\n",
       "3     True\n",
       "4    False\n",
       "5     True\n",
       "dtype: bool"
      ]
     },
     "execution_count": 44,
     "metadata": {},
     "output_type": "execute_result"
    }
   ],
   "source": [
    "(df.Expenditure < 50_000) & (df.Qtr == \"Q4\")"
   ]
  },
  {
   "cell_type": "code",
   "execution_count": 45,
   "id": "c0a4f8e3-f018-426a-a09a-c2e16d74f59e",
   "metadata": {},
   "outputs": [
    {
     "data": {
      "text/html": [
       "<div>\n",
       "<style scoped>\n",
       "    .dataframe tbody tr th:only-of-type {\n",
       "        vertical-align: middle;\n",
       "    }\n",
       "\n",
       "    .dataframe tbody tr th {\n",
       "        vertical-align: top;\n",
       "    }\n",
       "\n",
       "    .dataframe thead th {\n",
       "        text-align: right;\n",
       "    }\n",
       "</style>\n",
       "<table border=\"1\" class=\"dataframe\">\n",
       "  <thead>\n",
       "    <tr style=\"text-align: right;\">\n",
       "      <th></th>\n",
       "      <th>Month</th>\n",
       "      <th>Product</th>\n",
       "      <th>Expenditure</th>\n",
       "      <th>Qtr</th>\n",
       "    </tr>\n",
       "  </thead>\n",
       "  <tbody>\n",
       "    <tr>\n",
       "      <th>3</th>\n",
       "      <td>2014-10-01</td>\n",
       "      <td>Puzzles</td>\n",
       "      <td>19697</td>\n",
       "      <td>Q4</td>\n",
       "    </tr>\n",
       "    <tr>\n",
       "      <th>5</th>\n",
       "      <td>2014-12-01</td>\n",
       "      <td>Puzzles</td>\n",
       "      <td>49918</td>\n",
       "      <td>Q4</td>\n",
       "    </tr>\n",
       "  </tbody>\n",
       "</table>\n",
       "</div>"
      ],
      "text/plain": [
       "       Month  Product  Expenditure Qtr\n",
       "3 2014-10-01  Puzzles        19697  Q4\n",
       "5 2014-12-01  Puzzles        49918  Q4"
      ]
     },
     "execution_count": 45,
     "metadata": {},
     "output_type": "execute_result"
    }
   ],
   "source": [
    "df[ (df.Expenditure < 50_000) & (df.Qtr == \"Q4\") ]"
   ]
  },
  {
   "cell_type": "markdown",
   "id": "049d5913-54f6-4790-b581-f8f8cedb00be",
   "metadata": {},
   "source": [
    "### Summary of steps followed\n",
    "\n",
    "- df = pd.read_csv(filepath, parse_dates=['Month'])\n",
    "- df.loc[:, 'Qtr'] = df.apply(lambda row: f'Q{row.Month.quarter}', axis=1)\n",
    "- dfq_new = df[ ['Expenditure', 'Qtr'] ].groupby('Qtr').sum().reset_index()"
   ]
  },
  {
   "cell_type": "code",
   "execution_count": 47,
   "id": "30e8514c-99fd-45dd-baaa-c2b670eea4b3",
   "metadata": {},
   "outputs": [
    {
     "data": {
      "text/html": [
       "<div>\n",
       "<style scoped>\n",
       "    .dataframe tbody tr th:only-of-type {\n",
       "        vertical-align: middle;\n",
       "    }\n",
       "\n",
       "    .dataframe tbody tr th {\n",
       "        vertical-align: top;\n",
       "    }\n",
       "\n",
       "    .dataframe thead th {\n",
       "        text-align: right;\n",
       "    }\n",
       "</style>\n",
       "<table border=\"1\" class=\"dataframe\">\n",
       "  <thead>\n",
       "    <tr style=\"text-align: right;\">\n",
       "      <th></th>\n",
       "      <th>Qtr</th>\n",
       "      <th>Expenditure</th>\n",
       "    </tr>\n",
       "  </thead>\n",
       "  <tbody>\n",
       "    <tr>\n",
       "      <th>0</th>\n",
       "      <td>Q3</td>\n",
       "      <td>337466</td>\n",
       "    </tr>\n",
       "    <tr>\n",
       "      <th>1</th>\n",
       "      <td>Q4</td>\n",
       "      <td>339384</td>\n",
       "    </tr>\n",
       "  </tbody>\n",
       "</table>\n",
       "</div>"
      ],
      "text/plain": [
       "  Qtr  Expenditure\n",
       "0  Q3       337466\n",
       "1  Q4       339384"
      ]
     },
     "execution_count": 47,
     "metadata": {},
     "output_type": "execute_result"
    }
   ],
   "source": [
    "df = pd.read_csv(filepath, parse_dates=['Month'])\n",
    "df.loc[:, 'Qtr'] = df.apply(lambda row: f'Q{row.Month.quarter}', axis=1)\n",
    "dfq_new = df[ ['Expenditure', 'Qtr'] ].groupby('Qtr').sum().reset_index()\n",
    "dfq_new"
   ]
  },
  {
   "cell_type": "code",
   "execution_count": null,
   "id": "b7ce7020-5f55-4b13-9d7d-52ca18ed4b06",
   "metadata": {},
   "outputs": [],
   "source": []
  }
 ],
 "metadata": {
  "kernelspec": {
   "display_name": "Python 3 (ipykernel)",
   "language": "python",
   "name": "python3"
  },
  "language_info": {
   "codemirror_mode": {
    "name": "ipython",
    "version": 3
   },
   "file_extension": ".py",
   "mimetype": "text/x-python",
   "name": "python",
   "nbconvert_exporter": "python",
   "pygments_lexer": "ipython3",
   "version": "3.12.2"
  }
 },
 "nbformat": 4,
 "nbformat_minor": 5
}
