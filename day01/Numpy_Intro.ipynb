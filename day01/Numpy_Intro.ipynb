{
 "cells": [
  {
   "cell_type": "markdown",
   "id": "dc37a03f-0c66-462f-aab7-808942461765",
   "metadata": {},
   "source": [
    "# Introduction to Numpy\n",
    "\n",
    "Things to learn\n",
    "\n",
    "- Working with Vectors\n",
    "- Slicing for Numpy\n",
    "- Real world use case for Numpy"
   ]
  },
  {
   "cell_type": "code",
   "execution_count": 17,
   "id": "47c08b20-26f9-4a3f-a73c-c7190af05e68",
   "metadata": {},
   "outputs": [
    {
     "name": "stdout",
     "output_type": "stream",
     "text": [
      "Hello World\n"
     ]
    }
   ],
   "source": [
    "print(\"Hello\", \"World\")"
   ]
  },
  {
   "cell_type": "markdown",
   "id": "b71ffe07-8cde-47c3-a44a-ff4ad94b8a48",
   "metadata": {},
   "source": [
    "## Simple arithmetic in Python"
   ]
  },
  {
   "cell_type": "code",
   "execution_count": 18,
   "id": "2478476f-9d2b-44a7-af74-57036fef66cb",
   "metadata": {},
   "outputs": [
    {
     "data": {
      "text/plain": [
       "25"
      ]
     },
     "execution_count": 18,
     "metadata": {},
     "output_type": "execute_result"
    }
   ],
   "source": [
    "10 + 20 - 5"
   ]
  },
  {
   "cell_type": "markdown",
   "id": "da0c308e-0721-4cd9-a914-9de10cdf15be",
   "metadata": {},
   "source": [
    "## Iterating over a list"
   ]
  },
  {
   "cell_type": "code",
   "execution_count": 19,
   "id": "94887db2-909c-4275-bf8d-cb2f699741a6",
   "metadata": {},
   "outputs": [
    {
     "name": "stdout",
     "output_type": "stream",
     "text": [
      "120\n",
      "450\n",
      "890\n",
      "340\n",
      "750\n"
     ]
    }
   ],
   "source": [
    "scores = [12, 45, 89, 34, 75]\n",
    "for num in scores:\n",
    "    print(num * 10)"
   ]
  },
  {
   "cell_type": "code",
   "execution_count": 20,
   "id": "d995c46c-e005-4fc0-ae15-73dcebae0764",
   "metadata": {},
   "outputs": [],
   "source": [
    "import numpy as np"
   ]
  },
  {
   "cell_type": "code",
   "execution_count": 32,
   "id": "619e8221-749e-4642-9c57-ab1c89c88605",
   "metadata": {},
   "outputs": [
    {
     "data": {
      "text/plain": [
       "591"
      ]
     },
     "execution_count": 32,
     "metadata": {},
     "output_type": "execute_result"
    }
   ],
   "source": [
    "len(dir(np))"
   ]
  },
  {
   "cell_type": "code",
   "execution_count": 21,
   "id": "fd876807-3743-41ea-8278-592ee2a25079",
   "metadata": {},
   "outputs": [],
   "source": [
    "ex = np.array( [[11, 12, 13, 14], [21, 22, 23, 24], [31, 32, 33, 34]] )"
   ]
  },
  {
   "cell_type": "code",
   "execution_count": 22,
   "id": "91de2436-4127-4e0d-947a-13f69b13d165",
   "metadata": {},
   "outputs": [
    {
     "data": {
      "text/plain": [
       "array([[11, 12, 13, 14],\n",
       "       [21, 22, 23, 24],\n",
       "       [31, 32, 33, 34]])"
      ]
     },
     "execution_count": 22,
     "metadata": {},
     "output_type": "execute_result"
    }
   ],
   "source": [
    "ex"
   ]
  },
  {
   "cell_type": "code",
   "execution_count": 23,
   "id": "b7a84d34-e67f-49d7-9784-30d88b627ea4",
   "metadata": {},
   "outputs": [
    {
     "data": {
      "text/plain": [
       "(3, 4)"
      ]
     },
     "execution_count": 23,
     "metadata": {},
     "output_type": "execute_result"
    }
   ],
   "source": [
    "ex.shape"
   ]
  },
  {
   "cell_type": "markdown",
   "id": "fb114e7d-8558-4e12-8811-790a57915a21",
   "metadata": {},
   "source": [
    "ex [ row_slice, col_slice ]"
   ]
  },
  {
   "cell_type": "code",
   "execution_count": 24,
   "id": "1e92f2f4-59e1-4cdb-8699-5d95ebd534d0",
   "metadata": {},
   "outputs": [
    {
     "data": {
      "text/plain": [
       "array([[12, 13],\n",
       "       [22, 23]])"
      ]
     },
     "execution_count": 24,
     "metadata": {},
     "output_type": "execute_result"
    }
   ],
   "source": [
    "ex[:2, 1:3]"
   ]
  },
  {
   "cell_type": "code",
   "execution_count": 25,
   "id": "9015d512-a1b9-4ae7-9637-67c2525e7397",
   "metadata": {},
   "outputs": [
    {
     "data": {
      "text/plain": [
       "array([[11, 12, 13, 14],\n",
       "       [21, 22, 23, 24],\n",
       "       [31, 32, 33, 34]])"
      ]
     },
     "execution_count": 25,
     "metadata": {},
     "output_type": "execute_result"
    }
   ],
   "source": [
    "ex"
   ]
  },
  {
   "cell_type": "code",
   "execution_count": 26,
   "id": "5f57d960-2890-47fc-9936-f2dcb4c9d6b1",
   "metadata": {},
   "outputs": [
    {
     "data": {
      "text/plain": [
       "array([[21, 22],\n",
       "       [31, 32]])"
      ]
     },
     "execution_count": 26,
     "metadata": {},
     "output_type": "execute_result"
    }
   ],
   "source": [
    "ex[1:3, :2]"
   ]
  },
  {
   "cell_type": "code",
   "execution_count": 27,
   "id": "96e7d0b6-6694-42ec-b289-76d3c01685bd",
   "metadata": {},
   "outputs": [
    {
     "data": {
      "text/plain": [
       "array([[11, 12, 13, 14],\n",
       "       [21, 22, 23, 24],\n",
       "       [31, 32, 33, 34]])"
      ]
     },
     "execution_count": 27,
     "metadata": {},
     "output_type": "execute_result"
    }
   ],
   "source": [
    "ex"
   ]
  },
  {
   "cell_type": "code",
   "execution_count": 28,
   "id": "a7dfd3fe-dcb7-4640-9a56-3f0c788bf226",
   "metadata": {},
   "outputs": [
    {
     "data": {
      "text/plain": [
       "array([[23, 24],\n",
       "       [33, 34]])"
      ]
     },
     "execution_count": 28,
     "metadata": {},
     "output_type": "execute_result"
    }
   ],
   "source": [
    "ex[1:3, 2:]"
   ]
  },
  {
   "cell_type": "code",
   "execution_count": 29,
   "id": "cfb3bc69-48e7-4ed2-b739-538d8c59c37d",
   "metadata": {},
   "outputs": [
    {
     "data": {
      "text/plain": [
       "array([[11, 12, 13, 14],\n",
       "       [21, 22, 23, 24],\n",
       "       [31, 32, 33, 34]])"
      ]
     },
     "execution_count": 29,
     "metadata": {},
     "output_type": "execute_result"
    }
   ],
   "source": [
    "ex"
   ]
  },
  {
   "cell_type": "code",
   "execution_count": 30,
   "id": "16d84c78-2371-489c-b845-b8b9ed2d48e8",
   "metadata": {},
   "outputs": [
    {
     "data": {
      "text/plain": [
       "array([[21, 22, 23, 24],\n",
       "       [31, 32, 33, 34]])"
      ]
     },
     "execution_count": 30,
     "metadata": {},
     "output_type": "execute_result"
    }
   ],
   "source": [
    "ex[ 1:3 , :]"
   ]
  },
  {
   "cell_type": "code",
   "execution_count": null,
   "id": "6ccef02c-c4dc-48e4-920d-99e33a7a9378",
   "metadata": {},
   "outputs": [],
   "source": []
  },
  {
   "cell_type": "markdown",
   "id": "22ddab32-2358-473b-9347-3d012e191b92",
   "metadata": {},
   "source": [
    "# Finding the closest Planet"
   ]
  },
  {
   "cell_type": "code",
   "execution_count": 33,
   "id": "6da64afc-f937-46bc-b35e-b4984bc052c0",
   "metadata": {},
   "outputs": [
    {
     "data": {
      "text/plain": [
       "array([[ 0, 11],\n",
       "       [ 1, 12],\n",
       "       [ 2, 13],\n",
       "       [ 3, 14],\n",
       "       [ 4, 15]])"
      ]
     },
     "execution_count": 33,
     "metadata": {},
     "output_type": "execute_result"
    }
   ],
   "source": [
    "points = np.array([[ 0, 11],\n",
    "       [ 1, 12],\n",
    "       [ 2, 13],\n",
    "       [ 3, 14],\n",
    "       [ 4, 15]])\n",
    "\n",
    "points"
   ]
  },
  {
   "cell_type": "code",
   "execution_count": 35,
   "id": "310be356-3525-41a7-881f-648098ec7df1",
   "metadata": {},
   "outputs": [
    {
     "data": {
      "text/plain": [
       "(5, 2)"
      ]
     },
     "execution_count": 35,
     "metadata": {},
     "output_type": "execute_result"
    }
   ],
   "source": [
    "points.shape"
   ]
  },
  {
   "cell_type": "code",
   "execution_count": 34,
   "id": "c9f0d4fd-2995-4788-92bd-20aab41a1c48",
   "metadata": {},
   "outputs": [],
   "source": [
    "observation = np.array([2.8, 12.5])"
   ]
  },
  {
   "cell_type": "code",
   "execution_count": 36,
   "id": "471d233b-40a2-4228-b430-bba615d47d35",
   "metadata": {},
   "outputs": [
    {
     "data": {
      "text/plain": [
       "(2,)"
      ]
     },
     "execution_count": 36,
     "metadata": {},
     "output_type": "execute_result"
    }
   ],
   "source": [
    "observation.shape"
   ]
  },
  {
   "cell_type": "code",
   "execution_count": 37,
   "id": "951b1e3e-801a-495d-9ede-fa299afa4277",
   "metadata": {},
   "outputs": [
    {
     "data": {
      "text/plain": [
       "array([[-2.8, -1.5],\n",
       "       [-1.8, -0.5],\n",
       "       [-0.8,  0.5],\n",
       "       [ 0.2,  1.5],\n",
       "       [ 1.2,  2.5]])"
      ]
     },
     "execution_count": 37,
     "metadata": {},
     "output_type": "execute_result"
    }
   ],
   "source": [
    "points - observation"
   ]
  },
  {
   "cell_type": "code",
   "execution_count": 40,
   "id": "d8433b25-487a-4047-8b50-ae15b0c22385",
   "metadata": {},
   "outputs": [
    {
     "data": {
      "text/plain": [
       "array([[7.84, 2.25],\n",
       "       [3.24, 0.25],\n",
       "       [0.64, 0.25],\n",
       "       [0.04, 2.25],\n",
       "       [1.44, 6.25]])"
      ]
     },
     "execution_count": 40,
     "metadata": {},
     "output_type": "execute_result"
    }
   ],
   "source": [
    "(points - observation) ** 2"
   ]
  },
  {
   "cell_type": "code",
   "execution_count": 43,
   "id": "d29fa2f2-cb08-4eb7-a3fb-00155d0a16db",
   "metadata": {},
   "outputs": [
    {
     "data": {
      "text/plain": [
       "array([3.17647603, 1.86815417, 0.94339811, 1.5132746 , 2.77308492])"
      ]
     },
     "execution_count": 43,
     "metadata": {},
     "output_type": "execute_result"
    }
   ],
   "source": [
    "dist = np.sum((points - observation) ** 2, axis=1) ** .5\n",
    "dist"
   ]
  },
  {
   "cell_type": "code",
   "execution_count": 45,
   "id": "f87bac24-4420-494e-bf02-b142c0528e46",
   "metadata": {},
   "outputs": [
    {
     "name": "stdout",
     "output_type": "stream",
     "text": [
      "Collecting matplotlib\n",
      "  Using cached matplotlib-3.9.0-cp312-cp312-macosx_11_0_arm64.whl.metadata (11 kB)\n",
      "Collecting contourpy>=1.0.1 (from matplotlib)\n",
      "  Using cached contourpy-1.2.1-cp312-cp312-macosx_11_0_arm64.whl.metadata (5.8 kB)\n",
      "Collecting cycler>=0.10 (from matplotlib)\n",
      "  Using cached cycler-0.12.1-py3-none-any.whl.metadata (3.8 kB)\n",
      "Collecting fonttools>=4.22.0 (from matplotlib)\n",
      "  Using cached fonttools-4.53.0-cp312-cp312-macosx_11_0_arm64.whl.metadata (162 kB)\n",
      "Collecting kiwisolver>=1.3.1 (from matplotlib)\n",
      "  Using cached kiwisolver-1.4.5-cp312-cp312-macosx_11_0_arm64.whl.metadata (6.4 kB)\n",
      "Requirement already satisfied: numpy>=1.23 in /Users/surf/work/python/py312_env/lib/python3.12/site-packages (from matplotlib) (1.26.4)\n",
      "Requirement already satisfied: packaging>=20.0 in /Users/surf/work/python/py312_env/lib/python3.12/site-packages (from matplotlib) (24.0)\n",
      "Collecting pillow>=8 (from matplotlib)\n",
      "  Using cached pillow-10.3.0-cp312-cp312-macosx_11_0_arm64.whl.metadata (9.2 kB)\n",
      "Collecting pyparsing>=2.3.1 (from matplotlib)\n",
      "  Using cached pyparsing-3.1.2-py3-none-any.whl.metadata (5.1 kB)\n",
      "Requirement already satisfied: python-dateutil>=2.7 in /Users/surf/work/python/py312_env/lib/python3.12/site-packages (from matplotlib) (2.9.0.post0)\n",
      "Requirement already satisfied: six>=1.5 in /Users/surf/work/python/py312_env/lib/python3.12/site-packages (from python-dateutil>=2.7->matplotlib) (1.16.0)\n",
      "Using cached matplotlib-3.9.0-cp312-cp312-macosx_11_0_arm64.whl (7.8 MB)\n",
      "Using cached contourpy-1.2.1-cp312-cp312-macosx_11_0_arm64.whl (245 kB)\n",
      "Using cached cycler-0.12.1-py3-none-any.whl (8.3 kB)\n",
      "Using cached fonttools-4.53.0-cp312-cp312-macosx_11_0_arm64.whl (2.2 MB)\n",
      "Using cached kiwisolver-1.4.5-cp312-cp312-macosx_11_0_arm64.whl (64 kB)\n",
      "Using cached pillow-10.3.0-cp312-cp312-macosx_11_0_arm64.whl (3.4 MB)\n",
      "Using cached pyparsing-3.1.2-py3-none-any.whl (103 kB)\n",
      "Installing collected packages: pyparsing, pillow, kiwisolver, fonttools, cycler, contourpy, matplotlib\n",
      "Successfully installed contourpy-1.2.1 cycler-0.12.1 fonttools-4.53.0 kiwisolver-1.4.5 matplotlib-3.9.0 pillow-10.3.0 pyparsing-3.1.2\n"
     ]
    }
   ],
   "source": [
    "! pip install matplotlib"
   ]
  },
  {
   "cell_type": "code",
   "execution_count": 46,
   "id": "ef96aefa-c353-4dec-8191-d4833990c753",
   "metadata": {},
   "outputs": [],
   "source": [
    "import matplotlib.pyplot as plt"
   ]
  },
  {
   "cell_type": "code",
   "execution_count": 51,
   "id": "72d166a1-3517-4b75-99db-f9e4e4e0fa80",
   "metadata": {},
   "outputs": [
    {
     "data": {
      "text/plain": [
       "array([0, 1, 2, 3, 4])"
      ]
     },
     "execution_count": 51,
     "metadata": {},
     "output_type": "execute_result"
    }
   ],
   "source": [
    "points[:, 0]"
   ]
  },
  {
   "cell_type": "code",
   "execution_count": 57,
   "id": "253f6cf7-30d2-4961-a5f4-4d3c8032bc2d",
   "metadata": {},
   "outputs": [
    {
     "data": {
      "text/plain": [
       "array([ 2.8, 12.5])"
      ]
     },
     "execution_count": 57,
     "metadata": {},
     "output_type": "execute_result"
    }
   ],
   "source": [
    "observation"
   ]
  },
  {
   "cell_type": "code",
   "execution_count": 59,
   "id": "90368e0c-9e4a-47b7-88a9-30d7f5ae7fdb",
   "metadata": {},
   "outputs": [
    {
     "data": {
      "text/plain": [
       "[<matplotlib.lines.Line2D at 0x12883b440>]"
      ]
     },
     "execution_count": 59,
     "metadata": {},
     "output_type": "execute_result"
    },
    {
     "data": {
      "image/png": "[encoded data removed]",
      "text/plain": [
       "<Figure size 640x480 with 1 Axes>"
      ]
     },
     "metadata": {},
     "output_type": "display_data"
    }
   ],
   "source": [
    "# plt.plot?\n",
    "x = points\n",
    "plt.plot(points[:, 0], points[:, 1], 'bo')\n",
    "plt.plot(*observation, 'or')"
   ]
  },
  {
   "cell_type": "code",
   "execution_count": 60,
   "id": "311a3919-7daa-48be-ad31-fc321d16eaa1",
   "metadata": {},
   "outputs": [
    {
     "data": {
      "text/plain": [
       "array([3.17647603, 1.86815417, 0.94339811, 1.5132746 , 2.77308492])"
      ]
     },
     "execution_count": 60,
     "metadata": {},
     "output_type": "execute_result"
    }
   ],
   "source": [
    "dist"
   ]
  },
  {
   "cell_type": "code",
   "execution_count": 64,
   "id": "b2c55f93-47ad-4348-acd6-d8c6ba69145f",
   "metadata": {},
   "outputs": [
    {
     "data": {
      "text/plain": [
       "array([ 2, 13])"
      ]
     },
     "execution_count": 64,
     "metadata": {},
     "output_type": "execute_result"
    }
   ],
   "source": [
    "# np.min(dist)\n",
    "nearest = points[np.argmin(dist)]\n",
    "nearest"
   ]
  },
  {
   "cell_type": "code",
   "execution_count": 70,
   "id": "d9e5095b-ba2a-42c8-a473-7e4753e01128",
   "metadata": {},
   "outputs": [],
   "source": [
    "from math import tan,sin"
   ]
  },
  {
   "cell_type": "code",
   "execution_count": 66,
   "id": "2b013275-0c27-46ee-b2e1-9c89a7c7f7bf",
   "metadata": {},
   "outputs": [
    {
     "data": {
      "text/plain": [
       "0.6483608274590867"
      ]
     },
     "execution_count": 66,
     "metadata": {},
     "output_type": "execute_result"
    }
   ],
   "source": [
    "tan(10)"
   ]
  },
  {
   "cell_type": "code",
   "execution_count": 67,
   "id": "9b61dd12-cd9b-44d9-8980-980243e67ed1",
   "metadata": {},
   "outputs": [],
   "source": [
    "import math"
   ]
  },
  {
   "cell_type": "code",
   "execution_count": 68,
   "id": "e6ae9707-317d-4bbc-9f28-7d4bebb0d213",
   "metadata": {},
   "outputs": [
    {
     "data": {
      "text/plain": [
       "0.15425144988758405"
      ]
     },
     "execution_count": 68,
     "metadata": {},
     "output_type": "execute_result"
    }
   ],
   "source": [
    "math.cos(30)"
   ]
  },
  {
   "cell_type": "code",
   "execution_count": 71,
   "id": "393d5476-2f45-4ab5-92cc-0852e124e44b",
   "metadata": {},
   "outputs": [
    {
     "data": {
      "text/plain": [
       "0.8509035245341184"
      ]
     },
     "execution_count": 71,
     "metadata": {},
     "output_type": "execute_result"
    }
   ],
   "source": [
    "sin(45)"
   ]
  },
  {
   "cell_type": "code",
   "execution_count": null,
   "id": "cd8c76e6-25a2-4e78-b041-c5c05400ac94",
   "metadata": {},
   "outputs": [],
   "source": []
  }
 ],
 "metadata": {
  "kernelspec": {
   "display_name": "Python 3 (ipykernel)",
   "language": "python",
   "name": "python3"
  },
  "language_info": {
   "codemirror_mode": {
    "name": "ipython",
    "version": 3
   },
   "file_extension": ".py",
   "mimetype": "text/x-python",
   "name": "python",
   "nbconvert_exporter": "python",
   "pygments_lexer": "ipython3",
   "version": "3.12.2"
  }
 },
 "nbformat": 4,
 "nbformat_minor": 5
}
