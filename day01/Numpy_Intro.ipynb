{
 "cells": [
  {
   "cell_type": "markdown",
   "id": "dc37a03f-0c66-462f-aab7-808942461765",
   "metadata": {},
   "source": [
    "# Introduction to Numpy\n",
    "\n",
    "Things to learn\n",
    "\n",
    "- Working with Vectors\n",
    "- Slicing for Numpy\n",
    "- Real world use case for Numpy"
   ]
  },
  {
   "cell_type": "code",
   "execution_count": 3,
   "id": "47c08b20-26f9-4a3f-a73c-c7190af05e68",
   "metadata": {},
   "outputs": [
    {
     "name": "stdout",
     "output_type": "stream",
     "text": [
      "Hello World\n"
     ]
    }
   ],
   "source": [
    "print(\"Hello\", \"World\")"
   ]
  },
  {
   "cell_type": "markdown",
   "id": "b71ffe07-8cde-47c3-a44a-ff4ad94b8a48",
   "metadata": {},
   "source": [
    "## Simple arithmetic in Python"
   ]
  },
  {
   "cell_type": "code",
   "execution_count": 4,
   "id": "2478476f-9d2b-44a7-af74-57036fef66cb",
   "metadata": {},
   "outputs": [
    {
     "data": {
      "text/plain": [
       "25"
      ]
     },
     "execution_count": 4,
     "metadata": {},
     "output_type": "execute_result"
    }
   ],
   "source": [
    "10 + 20 - 5"
   ]
  },
  {
   "cell_type": "markdown",
   "id": "da0c308e-0721-4cd9-a914-9de10cdf15be",
   "metadata": {},
   "source": [
    "## Iterating over a list"
   ]
  },
  {
   "cell_type": "code",
   "execution_count": 5,
   "id": "94887db2-909c-4275-bf8d-cb2f699741a6",
   "metadata": {},
   "outputs": [
    {
     "name": "stdout",
     "output_type": "stream",
     "text": [
      "120\n",
      "450\n",
      "890\n",
      "340\n",
      "750\n"
     ]
    }
   ],
   "source": [
    "scores = [12, 45, 89, 34, 75]\n",
    "for num in scores:\n",
    "    print(num * 10)"
   ]
  },
  {
   "cell_type": "code",
   "execution_count": 6,
   "id": "d995c46c-e005-4fc0-ae15-73dcebae0764",
   "metadata": {},
   "outputs": [],
   "source": [
    "import numpy as np"
   ]
  },
  {
   "cell_type": "code",
   "execution_count": 7,
   "id": "fd876807-3743-41ea-8278-592ee2a25079",
   "metadata": {},
   "outputs": [],
   "source": [
    "ex = np.array( [[11, 12, 13, 14], [21, 22, 23, 24], [31, 32, 33, 34]] )"
   ]
  },
  {
   "cell_type": "code",
   "execution_count": 8,
   "id": "91de2436-4127-4e0d-947a-13f69b13d165",
   "metadata": {},
   "outputs": [
    {
     "data": {
      "text/plain": [
       "array([[11, 12, 13, 14],\n",
       "       [21, 22, 23, 24],\n",
       "       [31, 32, 33, 34]])"
      ]
     },
     "execution_count": 8,
     "metadata": {},
     "output_type": "execute_result"
    }
   ],
   "source": [
    "ex"
   ]
  },
  {
   "cell_type": "code",
   "execution_count": 9,
   "id": "b7a84d34-e67f-49d7-9784-30d88b627ea4",
   "metadata": {},
   "outputs": [
    {
     "data": {
      "text/plain": [
       "(3, 4)"
      ]
     },
     "execution_count": 9,
     "metadata": {},
     "output_type": "execute_result"
    }
   ],
   "source": [
    "ex.shape"
   ]
  },
  {
   "cell_type": "markdown",
   "id": "fb114e7d-8558-4e12-8811-790a57915a21",
   "metadata": {},
   "source": [
    "ex [ row_slice, col_slice ]"
   ]
  },
  {
   "cell_type": "code",
   "execution_count": 10,
   "id": "1e92f2f4-59e1-4cdb-8699-5d95ebd534d0",
   "metadata": {},
   "outputs": [
    {
     "data": {
      "text/plain": [
       "array([[12, 13],\n",
       "       [22, 23]])"
      ]
     },
     "execution_count": 10,
     "metadata": {},
     "output_type": "execute_result"
    }
   ],
   "source": [
    "ex[:2, 1:3]"
   ]
  },
  {
   "cell_type": "code",
   "execution_count": 11,
   "id": "9015d512-a1b9-4ae7-9637-67c2525e7397",
   "metadata": {},
   "outputs": [
    {
     "data": {
      "text/plain": [
       "array([[11, 12, 13, 14],\n",
       "       [21, 22, 23, 24],\n",
       "       [31, 32, 33, 34]])"
      ]
     },
     "execution_count": 11,
     "metadata": {},
     "output_type": "execute_result"
    }
   ],
   "source": [
    "ex"
   ]
  },
  {
   "cell_type": "code",
   "execution_count": 12,
   "id": "5f57d960-2890-47fc-9936-f2dcb4c9d6b1",
   "metadata": {},
   "outputs": [
    {
     "data": {
      "text/plain": [
       "array([[21, 22],\n",
       "       [31, 32]])"
      ]
     },
     "execution_count": 12,
     "metadata": {},
     "output_type": "execute_result"
    }
   ],
   "source": [
    "ex[1:3, :2]"
   ]
  },
  {
   "cell_type": "code",
   "execution_count": 13,
   "id": "96e7d0b6-6694-42ec-b289-76d3c01685bd",
   "metadata": {},
   "outputs": [
    {
     "data": {
      "text/plain": [
       "array([[11, 12, 13, 14],\n",
       "       [21, 22, 23, 24],\n",
       "       [31, 32, 33, 34]])"
      ]
     },
     "execution_count": 13,
     "metadata": {},
     "output_type": "execute_result"
    }
   ],
   "source": [
    "ex"
   ]
  },
  {
   "cell_type": "code",
   "execution_count": 14,
   "id": "a7dfd3fe-dcb7-4640-9a56-3f0c788bf226",
   "metadata": {},
   "outputs": [
    {
     "data": {
      "text/plain": [
       "array([[23, 24],\n",
       "       [33, 34]])"
      ]
     },
     "execution_count": 14,
     "metadata": {},
     "output_type": "execute_result"
    }
   ],
   "source": [
    "ex[1:3, 2:]"
   ]
  },
  {
   "cell_type": "code",
   "execution_count": 15,
   "id": "cfb3bc69-48e7-4ed2-b739-538d8c59c37d",
   "metadata": {},
   "outputs": [
    {
     "data": {
      "text/plain": [
       "array([[11, 12, 13, 14],\n",
       "       [21, 22, 23, 24],\n",
       "       [31, 32, 33, 34]])"
      ]
     },
     "execution_count": 15,
     "metadata": {},
     "output_type": "execute_result"
    }
   ],
   "source": [
    "ex"
   ]
  },
  {
   "cell_type": "code",
   "execution_count": 16,
   "id": "16d84c78-2371-489c-b845-b8b9ed2d48e8",
   "metadata": {},
   "outputs": [
    {
     "data": {
      "text/plain": [
       "array([[21, 22, 23, 24],\n",
       "       [31, 32, 33, 34]])"
      ]
     },
     "execution_count": 16,
     "metadata": {},
     "output_type": "execute_result"
    }
   ],
   "source": [
    "ex[ 1:3 , :]"
   ]
  },
  {
   "cell_type": "code",
   "execution_count": null,
   "id": "6ccef02c-c4dc-48e4-920d-99e33a7a9378",
   "metadata": {},
   "outputs": [],
   "source": []
  },
  {
   "cell_type": "code",
   "execution_count": null,
   "id": "6da64afc-f937-46bc-b35e-b4984bc052c0",
   "metadata": {},
   "outputs": [],
   "source": []
  }
 ],
 "metadata": {
  "kernelspec": {
   "display_name": "Python 3 (ipykernel)",
   "language": "python",
   "name": "python3"
  },
  "language_info": {
   "codemirror_mode": {
    "name": "ipython",
    "version": 3
   },
   "file_extension": ".py",
   "mimetype": "text/x-python",
   "name": "python",
   "nbconvert_exporter": "python",
   "pygments_lexer": "ipython3",
   "version": "3.12.2"
  }
 },
 "nbformat": 4,
 "nbformat_minor": 5
}
